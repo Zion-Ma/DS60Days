{
  "nbformat": 4,
  "nbformat_minor": 0,
  "metadata": {
    "colab": {
      "name": "D33_33_HW.ipynb",
      "provenance": [],
      "collapsed_sections": []
    },
    "kernelspec": {
      "name": "python3",
      "display_name": "Python 3"
    }
  },
  "cells": [
    {
      "cell_type": "code",
      "metadata": {
        "id": "Sxux0SucqeZM"
      },
      "source": [
        "import matplotlib.pyplot as plt\r\n",
        "import numpy as np\r\n",
        "import pandas as pd\r\n",
        "import scipy.stats as stats\r\n",
        "import math\r\n",
        "import statistics\r\n",
        "import seaborn as sns\r\n",
        "import statsmodels.stats.proportion"
      ],
      "execution_count": 3,
      "outputs": []
    },
    {
      "cell_type": "code",
      "metadata": {
        "colab": {
          "base_uri": "https://localhost:8080/"
        },
        "id": "5AyCJ1IEqhrW",
        "outputId": "6473f3a3-7d3b-42a3-e0ce-16f18641b01d"
      },
      "source": [
        "# H1=> P1>P2 or P1<P2\r\n",
        "# H0=> P1=P2\r\n",
        "A=[75,30]\r\n",
        "B=[300,300]\r\n",
        "statsmodels.stats.proportion.proportions_ztest(A,B,alternative='two-sided')"
      ],
      "execution_count": 4,
      "outputs": [
        {
          "output_type": "execute_result",
          "data": {
            "text/plain": [
              "(4.834937784152282, 1.3318728439003627e-06)"
            ]
          },
          "metadata": {
            "tags": []
          },
          "execution_count": 4
        }
      ]
    },
    {
      "cell_type": "code",
      "metadata": {
        "id": "kCX-GkqQsAjT"
      },
      "source": [
        "# 4.834937784152282 > 1.96 (95 % C.I.)\r\n",
        "# 拒絕 H0 所以兩個產品的不良率不相同"
      ],
      "execution_count": null,
      "outputs": []
    }
  ]
}