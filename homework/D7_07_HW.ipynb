{
  "nbformat": 4,
  "nbformat_minor": 0,
  "metadata": {
    "colab": {
      "name": "D7_07_HW.ipynb",
      "provenance": [],
      "collapsed_sections": []
    },
    "kernelspec": {
      "name": "python3",
      "display_name": "Python 3"
    }
  },
  "cells": [
    {
      "cell_type": "code",
      "metadata": {
        "colab": {
          "base_uri": "https://localhost:8080/"
        },
        "id": "pDKCb2u-Ljz3",
        "outputId": "91f900c5-84a2-448b-c8e1-8c19c577e407"
      },
      "source": [
        "import numpy as np\r\n",
        "array1 = np.array([[10, 8], [3, 5]])\r\n",
        "array1_inverse=np.linalg.inv(array1)\r\n",
        "np.dot(array1,array1_inverse) \r\n",
        "#1. 原矩陣與其反矩陣相乘唯一單位矩陣"
      ],
      "execution_count": 13,
      "outputs": [
        {
          "output_type": "execute_result",
          "data": {
            "text/plain": [
              "array([[1., 0.],\n",
              "       [0., 1.]])"
            ]
          },
          "metadata": {
            "tags": []
          },
          "execution_count": 13
        }
      ]
    },
    {
      "cell_type": "code",
      "metadata": {
        "colab": {
          "base_uri": "https://localhost:8080/"
        },
        "id": "DakdMpEZMWeV",
        "outputId": "df0db2b3-5fef-4e72-9e58-6f06fba0495e"
      },
      "source": [
        "value,vector=np.linalg.eig(array1)\r\n",
        "print('2. array1特徵值為: ',value,'，特徵向量為: ',vector,sep='')"
      ],
      "execution_count": 14,
      "outputs": [
        {
          "output_type": "stream",
          "text": [
            "2. array1特徵值為: [13.  2.]，特徵向量為: [[ 0.93632918 -0.70710678]\n",
            " [ 0.35112344  0.70710678]]\n"
          ],
          "name": "stdout"
        }
      ]
    },
    {
      "cell_type": "code",
      "metadata": {
        "colab": {
          "base_uri": "https://localhost:8080/"
        },
        "id": "JpoC4P9KOIqS",
        "outputId": "8b14fd81-9bea-4d1d-c352-fa679c222c7c"
      },
      "source": [
        "SVD=np.linalg.svd(array1)\r\n",
        "print('3. array1 SVD: ',SVD,sep='')"
      ],
      "execution_count": 16,
      "outputs": [
        {
          "output_type": "stream",
          "text": [
            "3. array1 SVD: (array([[-0.91663818, -0.39971796],\n",
            "       [-0.39971796,  0.91663818]]), array([13.94721714,  1.86417116]), array([[-0.74319741, -0.6690722 ],\n",
            "       [-0.6690722 ,  0.74319741]]))\n"
          ],
          "name": "stdout"
        }
      ]
    }
  ]
}