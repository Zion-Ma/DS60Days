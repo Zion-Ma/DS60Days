{
  "nbformat": 4,
  "nbformat_minor": 0,
  "metadata": {
    "colab": {
      "name": "Day3_03_HW.ipynb",
      "provenance": []
    },
    "kernelspec": {
      "name": "python3",
      "display_name": "Python 3"
    }
  },
  "cells": [
    {
      "cell_type": "code",
      "metadata": {
        "colab": {
          "base_uri": "https://localhost:8080/"
        },
        "id": "q26EbBvbglGI",
        "outputId": "c0c2064e-68b8-4616-d0a3-ad8ee607ae50"
      },
      "source": [
        "import numpy as np\r\n",
        "def GdB(V0,V1):\r\n",
        "  GdB=np.log10(V1/V0)\r\n",
        "  return (GdB)\r\n",
        "def muPa_times(dividend,divisor):\r\n",
        "  times=dividend-divisor\r\n",
        "  print (dividend,'分貝的聲壓為',divisor,'分貝的聲壓的10的',times,'次方倍',sep='')\r\n",
        "print('20000μPa等於',GdB(V0=20,V1=20000),'分貝',sep='')\r\n",
        "muPa_times(30,50)"
      ],
      "execution_count": 16,
      "outputs": [
        {
          "output_type": "stream",
          "text": [
            "20000μPa等於3.0分貝\n",
            "30分貝的聲壓為50分貝的聲壓的10的-20次方倍\n"
          ],
          "name": "stdout"
        }
      ]
    }
  ]
}