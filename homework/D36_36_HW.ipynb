{
  "nbformat": 4,
  "nbformat_minor": 0,
  "metadata": {
    "colab": {
      "name": "D36_36_HW.ipynb",
      "provenance": [],
      "collapsed_sections": []
    },
    "kernelspec": {
      "name": "python3",
      "display_name": "Python 3"
    }
  },
  "cells": [
    {
      "cell_type": "code",
      "metadata": {
        "id": "RBz3qx_Jbbia"
      },
      "source": [
        "# library\r\n",
        "import matplotlib.pyplot as plt\r\n",
        "import numpy as np\r\n",
        "import pandas as pd\r\n",
        "import seaborn  as sns\r\n",
        "from scipy import stats\r\n",
        "import math\r\n",
        "import statistics\r\n",
        "#讓圖可以在 jupyter notebook顯示\r\n",
        "%matplotlib inline"
      ],
      "execution_count": 1,
      "outputs": []
    },
    {
      "cell_type": "code",
      "metadata": {
        "id": "YSgMOA1qbjnX"
      },
      "source": [
        "df_train=pd.read_csv('/content/drive/MyDrive/titanic/train.csv')"
      ],
      "execution_count": 3,
      "outputs": []
    },
    {
      "cell_type": "code",
      "metadata": {
        "colab": {
          "base_uri": "https://localhost:8080/"
        },
        "id": "xBEEyIDNbmiI",
        "outputId": "95054ce4-50b2-4b8e-a410-cf53ceea2048"
      },
      "source": [
        "# Q1: method 1\r\n",
        "print(df_train['Fare'].describe())\r\n",
        "print(df_train['Fare'].value_counts())"
      ],
      "execution_count": 6,
      "outputs": [
        {
          "output_type": "stream",
          "text": [
            "count    891.000000\n",
            "mean      32.204208\n",
            "std       49.693429\n",
            "min        0.000000\n",
            "25%        7.910400\n",
            "50%       14.454200\n",
            "75%       31.000000\n",
            "max      512.329200\n",
            "Name: Fare, dtype: float64\n",
            "8.0500     43\n",
            "13.0000    42\n",
            "7.8958     38\n",
            "7.7500     34\n",
            "26.0000    31\n",
            "           ..\n",
            "8.4583      1\n",
            "9.8375      1\n",
            "8.3625      1\n",
            "14.1083     1\n",
            "17.4000     1\n",
            "Name: Fare, Length: 248, dtype: int64\n"
          ],
          "name": "stdout"
        }
      ]
    },
    {
      "cell_type": "code",
      "metadata": {
        "colab": {
          "base_uri": "https://localhost:8080/"
        },
        "id": "Q_qDJawEcSrm",
        "outputId": "347d4375-2c63-4b90-be66-9eae5b9d0286"
      },
      "source": [
        "# Q1: method 2\r\n",
        "def outliers_z_score(ys,times):\r\n",
        "  mean_y=np.mean(ys)\r\n",
        "  stdev_y=np.std(ys)\r\n",
        "  z_scores=[(y-mean_y)/stdev_y for y in ys]\r\n",
        "  return np.where(np.abs(z_scores)>times)\r\n",
        "out_index=outliers_z_score(df_train['Fare'],3)\r\n",
        "print(out_index[0])\r\n",
        "print(df_train.loc[out_index[0],'Fare'])"
      ],
      "execution_count": 7,
      "outputs": [
        {
          "output_type": "stream",
          "text": [
            "[ 27  88 118 258 299 311 341 377 380 438 527 557 679 689 700 716 730 737\n",
            " 742 779]\n",
            "27     263.0000\n",
            "88     263.0000\n",
            "118    247.5208\n",
            "258    512.3292\n",
            "299    247.5208\n",
            "311    262.3750\n",
            "341    263.0000\n",
            "377    211.5000\n",
            "380    227.5250\n",
            "438    263.0000\n",
            "527    221.7792\n",
            "557    227.5250\n",
            "679    512.3292\n",
            "689    211.3375\n",
            "700    227.5250\n",
            "716    227.5250\n",
            "730    211.3375\n",
            "737    512.3292\n",
            "742    262.3750\n",
            "779    211.3375\n",
            "Name: Fare, dtype: float64\n"
          ],
          "name": "stdout"
        }
      ]
    },
    {
      "cell_type": "code",
      "metadata": {
        "colab": {
          "base_uri": "https://localhost:8080/"
        },
        "id": "lLKEJKhPc0Y9",
        "outputId": "575579b7-8cb8-4d40-99df-66102f80d48a"
      },
      "source": [
        "# Q1: method 3 \r\n",
        "def outliers_iqr(ys,times):\r\n",
        "  #注意 使用 np.percentile 要去除 nan 要不然計算出來會錯誤，所以我們採用下者的程式 np.nanpercentile\r\n",
        "    #quartile_1, quartile_3 = np.percentile(ys, [25, 75])\r\n",
        "    quartile_1,quartile_3=np.nanpercentile(ys,[25,75])\r\n",
        "    iqr=quartile_3-quartile_1\r\n",
        "    lower_bound=quartile_1-(iqr*times)\r\n",
        "    upper_bound=quartile_3+(iqr*times)\r\n",
        "    return np.where((ys > upper_bound) | (ys < lower_bound))\r\n",
        "out_index2=outliers_iqr(df_train['Fare'],1.5)\r\n",
        "print(out_index2)\r\n",
        "print(df_train.loc[out_index2[0],'Fare'])"
      ],
      "execution_count": 9,
      "outputs": [
        {
          "output_type": "stream",
          "text": [
            "(array([  1,  27,  31,  34,  52,  61,  62,  72,  88, 102, 118, 120, 124,\n",
            "       139, 151, 159, 180, 195, 201, 215, 218, 224, 230, 245, 256, 257,\n",
            "       258, 262, 268, 269, 275, 290, 291, 297, 299, 305, 306, 307, 310,\n",
            "       311, 318, 319, 324, 325, 332, 334, 336, 337, 341, 366, 369, 373,\n",
            "       375, 377, 380, 385, 390, 393, 412, 435, 438, 445, 453, 484, 486,\n",
            "       496, 498, 504, 505, 520, 527, 537, 540, 544, 550, 557, 558, 581,\n",
            "       585, 587, 591, 609, 627, 641, 645, 655, 659, 660, 665, 679, 681,\n",
            "       689, 698, 700, 708, 716, 730, 737, 741, 742, 745, 759, 763, 765,\n",
            "       779, 789, 792, 802, 820, 829, 835, 846, 849, 856, 863, 879]),)\n",
            "1       71.2833\n",
            "27     263.0000\n",
            "31     146.5208\n",
            "34      82.1708\n",
            "52      76.7292\n",
            "         ...   \n",
            "846     69.5500\n",
            "849     89.1042\n",
            "856    164.8667\n",
            "863     69.5500\n",
            "879     83.1583\n",
            "Name: Fare, Length: 116, dtype: float64\n"
          ],
          "name": "stdout"
        }
      ]
    },
    {
      "cell_type": "code",
      "metadata": {
        "id": "P4X8I18udK0Z"
      },
      "source": [
        "# Q2\r\n",
        "# As this case is concerned, I think it isn't necessary to drop the outliers.\r\n",
        "# Fare varies in different situations, and I believe these numbers takes big roles in our prediction. "
      ],
      "execution_count": 10,
      "outputs": []
    },
    {
      "cell_type": "code",
      "metadata": {
        "id": "YP8yKESodvEK"
      },
      "source": [
        ""
      ],
      "execution_count": null,
      "outputs": []
    }
  ]
}