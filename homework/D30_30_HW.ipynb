{
  "nbformat": 4,
  "nbformat_minor": 0,
  "metadata": {
    "colab": {
      "name": "D30_30_HW.ipynb",
      "provenance": []
    },
    "kernelspec": {
      "name": "python3",
      "display_name": "Python 3"
    }
  },
  "cells": [
    {
      "cell_type": "code",
      "metadata": {
        "id": "OF8iqVtxHjNv"
      },
      "source": [
        "#1\r\n",
        "# 女生"
      ],
      "execution_count": null,
      "outputs": []
    },
    {
      "cell_type": "code",
      "metadata": {
        "colab": {
          "base_uri": "https://localhost:8080/"
        },
        "id": "NGtG2oFDGwLU",
        "outputId": "78e53020-f3d6-4a95-88f7-64123b6deed2"
      },
      "source": [
        "# calculate P(A|B) given P(A), P(B|A), P(B|not A) \r\n",
        "def bayes_thm(p_a,p_b_given_a,p_b_given_not_a):\r\n",
        "  #calculate P(not A)\r\n",
        "  not_a=1-p_a\r\n",
        "  #calculate P(B)\r\n",
        "  p_b=p_b_given_a*p_a+p_b_given_not_a*not_a\r\n",
        "  #calculate P(A|B)\r\n",
        "  p_a_given_b=(p_b_given_a*p_a)/p_b\r\n",
        "  return p_a_given_b\r\n",
        "# P(A): P(女生)\r\n",
        "# P(not A): P(男生)\r\n",
        "p_a=0.1\r\n",
        "#P(B|A): P(長髮|女生)\r\n",
        "p_b_given_a=0.5\r\n",
        "#P(B|not A): p(長髮|男生)\r\n",
        "p_b_given_not_a=0.1\r\n",
        "# calculate P(A|B): P(女生|長髮)\r\n",
        "result=bayes_thm(p_a,p_b_given_a,p_b_given_not_a)\r\n",
        "# summarize\r\n",
        "# P(女生|長髮)\r\n",
        "print('P(A|B) = {}'.format(result))"
      ],
      "execution_count": 2,
      "outputs": [
        {
          "output_type": "stream",
          "text": [
            "P(A|B) = 0.35714285714285715\n"
          ],
          "name": "stdout"
        }
      ]
    },
    {
      "cell_type": "code",
      "metadata": {
        "id": "iTt3ot-WHbyq"
      },
      "source": [
        "#3\r\n",
        "# 不會。\r\n",
        "# 本題的先驗機率 (男生佔多數) 與直觀條件不符 (長髮多為女性)，故先驗機率不影響初始判斷。"
      ],
      "execution_count": null,
      "outputs": []
    }
  ]
}