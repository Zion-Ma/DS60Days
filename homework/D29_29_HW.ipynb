{
  "nbformat": 4,
  "nbformat_minor": 0,
  "metadata": {
    "colab": {
      "name": "D29_29_HW.ipynb",
      "provenance": [],
      "collapsed_sections": []
    },
    "kernelspec": {
      "name": "python3",
      "display_name": "Python 3"
    }
  },
  "cells": [
    {
      "cell_type": "code",
      "metadata": {
        "id": "enDqoGrJlCNE"
      },
      "source": [
        "import matplotlib.pyplot as plt\r\n",
        "import numpy as np\r\n",
        "import pandas as pd\r\n",
        "import scipy.stats as stats\r\n",
        "import math\r\n",
        "import statistics\r\n",
        "import seaborn as sns\r\n",
        "%matplotlib inline"
      ],
      "execution_count": 17,
      "outputs": []
    },
    {
      "cell_type": "code",
      "metadata": {
        "colab": {
          "base_uri": "https://localhost:8080/"
        },
        "id": "vEaq76BYlKzB",
        "outputId": "f37cb55a-6d60-4591-bae3-78e7ae25f1cf"
      },
      "source": [
        "#1\r\n",
        "mu=0\r\n",
        "sigma=1\r\n",
        "x=np.linspace(-4,4,50)\r\n",
        "y=stats.norm.pdf(x,mu,sigma)\r\n",
        "cumsum_probs=stats.norm.cdf(x,mu,sigma)\r\n",
        "r=len([i for i in x if i<1]) #smaller than 1\r\n",
        "cumsum_probs[r-1] # intergration area"
      ],
      "execution_count": 18,
      "outputs": [
        {
          "output_type": "execute_result",
          "data": {
            "text/plain": [
              "0.8153963449009461"
            ]
          },
          "metadata": {
            "tags": []
          },
          "execution_count": 18
        }
      ]
    },
    {
      "cell_type": "code",
      "metadata": {
        "colab": {
          "base_uri": "https://localhost:8080/"
        },
        "id": "DHmnapVPmyn-",
        "outputId": "30098347-07df-43dd-c1d9-4478a5f2b663"
      },
      "source": [
        "#2\r\n",
        "mu=0\r\n",
        "sigma=1\r\n",
        "x=np.linspace(-4,4,50)\r\n",
        "y=stats.norm.pdf(x,mu,sigma)\r\n",
        "cumsum_probs=stats.norm.cdf(x,mu,sigma)\r\n",
        "s=len([i for i in x if i<-1]) #smaller than -1\r\n",
        "b=len([i for i in x if i>1])  #bigger than 1\r\n",
        "probs=cumsum_probs[s-1]+(1-cumsum_probs[50-b]) # intergration area\r\n",
        "probs"
      ],
      "execution_count": 21,
      "outputs": [
        {
          "output_type": "execute_result",
          "data": {
            "text/plain": [
              "0.28858789234895726"
            ]
          },
          "metadata": {
            "tags": []
          },
          "execution_count": 21
        }
      ]
    },
    {
      "cell_type": "code",
      "metadata": {
        "colab": {
          "base_uri": "https://localhost:8080/"
        },
        "id": "xpKDxS_Av3So",
        "outputId": "eb7988de-de3e-43d6-d4e2-e3b6eccb0271"
      },
      "source": [
        "#3 \r\n",
        "interval1=len([i for i in x if i<=2]) #smaller and equal to 2 \r\n",
        "interval2=len([i for i in x if i<4])  #all smaller than 4\r\n",
        "probs=cumsum_probs[interval2]-cumsum_probs[interval1] #interval: 2<x<4\r\n",
        "probs"
      ],
      "execution_count": 27,
      "outputs": [
        {
          "output_type": "execute_result",
          "data": {
            "text/plain": [
              "0.020602872327074584"
            ]
          },
          "metadata": {
            "tags": []
          },
          "execution_count": 27
        }
      ]
    },
    {
      "cell_type": "code",
      "metadata": {
        "id": "gLpFYZRI13oM"
      },
      "source": [
        ""
      ],
      "execution_count": null,
      "outputs": []
    }
  ]
}