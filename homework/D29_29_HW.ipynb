{
  "nbformat": 4,
  "nbformat_minor": 0,
  "metadata": {
    "colab": {
      "name": "D29_29_HW.ipynb",
      "provenance": [],
      "collapsed_sections": []
    },
    "kernelspec": {
      "name": "python3",
      "display_name": "Python 3"
    }
  },
  "cells": [
    {
      "cell_type": "code",
      "metadata": {
        "id": "enDqoGrJlCNE"
      },
      "source": [
        "import matplotlib.pyplot as plt\r\n",
        "import numpy as np\r\n",
        "import pandas as pd\r\n",
        "import scipy.stats as stats\r\n",
        "import math\r\n",
        "import statistics\r\n",
        "import seaborn as sns\r\n",
        "%matplotlib inline"
      ],
      "execution_count": 33,
      "outputs": []
    },
    {
      "cell_type": "code",
      "metadata": {
        "colab": {
          "base_uri": "https://localhost:8080/"
        },
        "id": "vEaq76BYlKzB",
        "outputId": "f4180a90-a2c5-457e-e88a-3f4e51083648"
      },
      "source": [
        "#1\r\n",
        "mu=0\r\n",
        "sigma=1\r\n",
        "\r\n",
        "interval_1=stats.norm.cdf(1,mu,sigma)\r\n",
        "interval_2=stats.norm.cdf(-1,mu,sigma)\r\n",
        "#interval_1-interval_2=p(-1,1)\r\n",
        "\r\n",
        "probs=interval_1-interval_2\r\n",
        "probs"
      ],
      "execution_count": 34,
      "outputs": [
        {
          "output_type": "execute_result",
          "data": {
            "text/plain": [
              "0.6826894921370859"
            ]
          },
          "metadata": {
            "tags": []
          },
          "execution_count": 34
        }
      ]
    },
    {
      "cell_type": "code",
      "metadata": {
        "colab": {
          "base_uri": "https://localhost:8080/"
        },
        "id": "DHmnapVPmyn-",
        "outputId": "d5d603fb-2438-4545-b251-9019fb9bac04"
      },
      "source": [
        "#2\r\n",
        "mu=0\r\n",
        "sigma=1\r\n",
        "\r\n",
        "interval_1=stats.norm.cdf(1,mu,sigma)\r\n",
        "interval_2=stats.norm.cdf(-1,mu,sigma)\r\n",
        "#interval_1-interval_2=p(-1,1)\r\n",
        "# 1-p(-1,1)=p(x>1, x<-1)\r\n",
        "probs=1-(interval_1-interval_2)\r\n",
        "probs"
      ],
      "execution_count": 35,
      "outputs": [
        {
          "output_type": "execute_result",
          "data": {
            "text/plain": [
              "0.31731050786291415"
            ]
          },
          "metadata": {
            "tags": []
          },
          "execution_count": 35
        }
      ]
    },
    {
      "cell_type": "code",
      "metadata": {
        "colab": {
          "base_uri": "https://localhost:8080/"
        },
        "id": "xpKDxS_Av3So",
        "outputId": "86ea225a-87c6-489d-8d4e-c9874c8b276d"
      },
      "source": [
        "#3 \r\n",
        "# Mu=2, Stdev=4, sigma=2\r\n",
        "m=2\r\n",
        "sigma=2\r\n",
        "probs=stats.norm.cdf(6,m,sigma)\r\n",
        "probs"
      ],
      "execution_count": 37,
      "outputs": [
        {
          "output_type": "execute_result",
          "data": {
            "text/plain": [
              "0.9772498680518208"
            ]
          },
          "metadata": {
            "tags": []
          },
          "execution_count": 37
        }
      ]
    },
    {
      "cell_type": "code",
      "metadata": {
        "id": "gLpFYZRI13oM"
      },
      "source": [
        ""
      ],
      "execution_count": 36,
      "outputs": []
    }
  ]
}