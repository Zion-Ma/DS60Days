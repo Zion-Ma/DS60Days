{
  "nbformat": 4,
  "nbformat_minor": 0,
  "metadata": {
    "colab": {
      "name": "Data_Science_final_2.ipynb",
      "provenance": [],
      "collapsed_sections": []
    },
    "kernelspec": {
      "name": "python3",
      "display_name": "Python 3"
    },
    "language_info": {
      "name": "python"
    }
  },
  "cells": [
    {
      "cell_type": "code",
      "metadata": {
        "id": "4oqZuz7mdEUn"
      },
      "source": [
        "import numpy as np\n",
        "import pandas as pd\n",
        "import matplotlib.pyplot as plt\n",
        "import seaborn as sns\n",
        "import requests\n",
        "%matplotlib inline "
      ],
      "execution_count": 1,
      "outputs": []
    },
    {
      "cell_type": "code",
      "metadata": {
        "colab": {
          "base_uri": "https://localhost:8080/"
        },
        "id": "U6KTH_43dcv-",
        "outputId": "7fcbd1f4-cf39-4a5b-9077-bcf0aea9c7b0"
      },
      "source": [
        "A_df = pd.read_csv('/content/drive/MyDrive/ML 60 DAYS/final_2_files/A_lvr_land_A.csv')\n",
        "B_df = pd.read_csv('/content/drive/MyDrive/ML 60 DAYS/final_2_files/B_lvr_land_A.csv')\n",
        "E_df = pd.read_csv('/content/drive/MyDrive/ML 60 DAYS/final_2_files/E_lvr_land_A.csv')\n",
        "F_df = pd.read_csv('/content/drive/MyDrive/ML 60 DAYS/final_2_files/F_lvr_land_A.csv')\n",
        "\n",
        "print(A_df.shape)\n",
        "print(B_df.shape)\n",
        "print(E_df.shape)\n",
        "print(F_df.shape)"
      ],
      "execution_count": 2,
      "outputs": [
        {
          "output_type": "stream",
          "text": [
            "/usr/local/lib/python3.7/dist-packages/IPython/core/interactiveshell.py:2718: DtypeWarning: Columns (3,7,14,15,16,17,18,21,22,24,25) have mixed types.Specify dtype option on import or set low_memory=False.\n",
            "  interactivity=interactivity, compiler=compiler, result=result)\n"
          ],
          "name": "stderr"
        },
        {
          "output_type": "stream",
          "text": [
            "(8842, 32)\n",
            "(16685, 32)\n",
            "(14134, 32)\n",
            "(19819, 32)\n"
          ],
          "name": "stdout"
        }
      ]
    },
    {
      "cell_type": "code",
      "metadata": {
        "id": "e5zGidrMeiPg"
      },
      "source": [
        "A_df.drop(axis=0,index=0,inplace=True)\n",
        "B_df.drop(axis=0,index=0,inplace=True)\n",
        "E_df.drop(axis=0,index=0,inplace=True)\n",
        "F_df.drop(axis=0,index=0,inplace=True)"
      ],
      "execution_count": 3,
      "outputs": []
    },
    {
      "cell_type": "code",
      "metadata": {
        "id": "peUMTAtFro6e"
      },
      "source": [
        "A_df['城市city'] = pd.DataFrame({'城市city':np.full((len(A_df)+1),'台北市Taipei')})\n",
        "B_df['城市city'] = pd.DataFrame({'城市city':np.full((len(B_df)+1),'台中市Taichung')})\n",
        "E_df['城市city'] = pd.DataFrame({'城市city':np.full((len(E_df)+1),'高雄市Kaohsiung')})\n",
        "F_df['城市city'] = pd.DataFrame({'城市city':np.full((len(F_df)+1),'新北市New_Taipei')})"
      ],
      "execution_count": 4,
      "outputs": []
    },
    {
      "cell_type": "code",
      "metadata": {
        "colab": {
          "base_uri": "https://localhost:8080/"
        },
        "id": "_FDM51ZBs8wq",
        "outputId": "62aa9366-5155-470b-c5a7-dd9a70c86768"
      },
      "source": [
        "df = pd.concat([A_df,B_df,E_df,F_df])\n",
        "df.shape"
      ],
      "execution_count": 5,
      "outputs": [
        {
          "output_type": "execute_result",
          "data": {
            "text/plain": [
              "(59476, 33)"
            ]
          },
          "metadata": {
            "tags": []
          },
          "execution_count": 5
        }
      ]
    },
    {
      "cell_type": "code",
      "metadata": {
        "colab": {
          "base_uri": "https://localhost:8080/"
        },
        "id": "HdfkWkOZtOU1",
        "outputId": "05f1d9d5-6661-4424-d30e-298cf1315c4d"
      },
      "source": [
        "df.rename(columns={'鄉鎮市區':'towns',\n",
        "'交易標的':'transaction_sign',\n",
        "'土地區段位置建物區段門牌':'house_number',\n",
        "'土地移轉總面積平方公尺':'land_area_square_meter', \n",
        "'都市土地使用分區':'use_zoning', \n",
        "'非都市土地使用分區':'land_use_district',\n",
        "'非都市土地使用編定':'land_use',\n",
        "'交易年月日':'tx_dt', \n",
        " '交易筆棟數':'transaction_pen_number', \n",
        " '移轉層次':'shifting_level', \n",
        " '總樓層數':'total_floor_number', \n",
        " '建物型態':'building_state', \n",
        " '主要用途':'main_use', \n",
        " '主要建材':'main_materials',\n",
        " '建築完成年月':'complete_date', \n",
        " '建物移轉總面積平方公尺':'building_area_square_meter', \n",
        " '建物現況格局-房':'room_number', \n",
        " '建物現況格局-廳':'hall_number', \n",
        " '建物現況格局-衛':'health_number', \n",
        "'建物現況格局-隔間':'compartmented_number', \n",
        " '有無管理組織':'manages', \n",
        " '總價元':'total_price', \n",
        " '單價元平方公尺':'unit_price', \n",
        " '車位類別':'berth_category', \n",
        " '車位移轉總面積(平方公尺)':'berth_area_square_meter',\n",
        "'車位總價元':'berth_price', \n",
        " '備註':'note', \n",
        " '編號':'serial_number', \n",
        " '主建物面積':'main_building_area', \n",
        " '附屬建物面積':'auxiliary_building_area', \n",
        " '陽台面積':'balcony_area', \n",
        " '電梯':'elevator','城市city':'city'\n",
        "                  },inplace=True)\n",
        "df.columns"
      ],
      "execution_count": 6,
      "outputs": [
        {
          "output_type": "execute_result",
          "data": {
            "text/plain": [
              "Index(['towns', 'transaction_sign', 'house_number', 'land_area_square_meter',\n",
              "       'use_zoning', 'land_use_district', 'land_use', 'tx_dt',\n",
              "       'transaction_pen_number', 'shifting_level', 'total_floor_number',\n",
              "       'building_state', 'main_use', 'main_materials', 'complete_date',\n",
              "       'building_area_square_meter', 'room_number', 'hall_number',\n",
              "       'health_number', 'compartmented_number', 'manages', 'total_price',\n",
              "       'unit_price', 'berth_category', 'berth_area_square_meter',\n",
              "       'berth_price', 'note', 'serial_number', 'main_building_area',\n",
              "       'auxiliary_building_area', 'balcony_area', 'elevator', 'city'],\n",
              "      dtype='object')"
            ]
          },
          "metadata": {
            "tags": []
          },
          "execution_count": 6
        }
      ]
    },
    {
      "cell_type": "code",
      "metadata": {
        "id": "B90X_jH1vIxL"
      },
      "source": [
        "data = df.loc[(df.main_use == '住家用') & (df.use_zoning == '住')]"
      ],
      "execution_count": 7,
      "outputs": []
    },
    {
      "cell_type": "code",
      "metadata": {
        "colab": {
          "base_uri": "https://localhost:8080/"
        },
        "id": "QlQsn1CW1Ixf",
        "outputId": "f03899ae-6bb1-48e0-9ebc-f1a389b0483c"
      },
      "source": [
        "analysis_columns = data[['city','towns','main_use','use_zoning','total_price','building_area_square_meter',\n",
        "                                     'main_building_area',\n",
        "                                     'tx_dt','unit_price','room_number','hall_number','health_number']]\n",
        "analysis_columns.shape"
      ],
      "execution_count": 65,
      "outputs": [
        {
          "output_type": "execute_result",
          "data": {
            "text/plain": [
              "(7818, 12)"
            ]
          },
          "metadata": {
            "tags": []
          },
          "execution_count": 65
        }
      ]
    },
    {
      "cell_type": "code",
      "metadata": {
        "colab": {
          "base_uri": "https://localhost:8080/"
        },
        "id": "VtocSJZf1Vr2",
        "outputId": "f0fba312-049e-409d-e8a9-8ea8a9dfba2c"
      },
      "source": [
        "analysis_columns.dropna(inplace=True)"
      ],
      "execution_count": 66,
      "outputs": [
        {
          "output_type": "stream",
          "text": [
            "/usr/local/lib/python3.7/dist-packages/ipykernel_launcher.py:1: SettingWithCopyWarning: \n",
            "A value is trying to be set on a copy of a slice from a DataFrame\n",
            "\n",
            "See the caveats in the documentation: https://pandas.pydata.org/pandas-docs/stable/user_guide/indexing.html#returning-a-view-versus-a-copy\n",
            "  \"\"\"Entry point for launching an IPython kernel.\n"
          ],
          "name": "stderr"
        }
      ]
    },
    {
      "cell_type": "code",
      "metadata": {
        "id": "_UHTK9we1xje"
      },
      "source": [
        "analysis_columns = analysis_columns.astype({'total_price': 'int','unit_price':'float','building_area_square_meter':'float',\n",
        "                                      'main_building_area': 'float',\n",
        "                                      'room_number': 'int','hall_number': 'int','health_number': 'int'})"
      ],
      "execution_count": 67,
      "outputs": []
    },
    {
      "cell_type": "code",
      "metadata": {
        "id": "5Nc7gnzK2y4j"
      },
      "source": [
        "analysis_columns['tx_dt_year'] = analysis_columns.tx_dt.apply(lambda x:str(x)[:3])"
      ],
      "execution_count": 68,
      "outputs": []
    },
    {
      "cell_type": "code",
      "metadata": {
        "id": "ve9PKXTt54m8"
      },
      "source": [
        "analysis_columns = analysis_columns.loc[\n",
        "                     (analysis_columns.tx_dt_year == '109')\n",
        "                      &(analysis_columns.room_number >= 1)\n",
        "                      &(analysis_columns.room_number <= 5)\n",
        "                      &(analysis_columns.hall_number <= 2)\n",
        "                      &(analysis_columns.hall_number >= 1)\n",
        "                      ]"
      ],
      "execution_count": 69,
      "outputs": []
    },
    {
      "cell_type": "code",
      "metadata": {
        "id": "OndGa6t1PXCL"
      },
      "source": [
        "analysis_columns.reset_index(drop=True,inplace=True)"
      ],
      "execution_count": 70,
      "outputs": []
    },
    {
      "cell_type": "code",
      "metadata": {
        "colab": {
          "base_uri": "https://localhost:8080/"
        },
        "id": "m8J7zT6-QOsd",
        "outputId": "fc2c50fa-6270-4913-821c-a1c5c204646a"
      },
      "source": [
        "analysis_columns.building_area_square_meter = analysis_columns.building_area_square_meter.apply(lambda x:x*0.3025)\n",
        "analysis_columns.main_building_area_square_meter = analysis_columns.building_area_square_meter.apply(lambda x:x*0.3025)\n",
        "analysis_columns.unit_price = analysis_columns.unit_price.apply(lambda x:x/0.3025)"
      ],
      "execution_count": 46,
      "outputs": [
        {
          "output_type": "stream",
          "text": [
            "/usr/local/lib/python3.7/dist-packages/ipykernel_launcher.py:2: UserWarning: Pandas doesn't allow columns to be created via a new attribute name - see https://pandas.pydata.org/pandas-docs/stable/indexing.html#attribute-access\n",
            "  \n"
          ],
          "name": "stderr"
        }
      ]
    },
    {
      "cell_type": "code",
      "metadata": {
        "id": "_tnP9WMWUckX"
      },
      "source": [
        "analysis_columns.drop(analysis_columns.loc[(analysis_columns.total_price==0) | (analysis_columns.main_building_area == 0)].index,axis=0,inplace=True)"
      ],
      "execution_count": 75,
      "outputs": []
    },
    {
      "cell_type": "code",
      "metadata": {
        "colab": {
          "base_uri": "https://localhost:8080/",
          "height": 297
        },
        "id": "AYTGxmeOYqIB",
        "outputId": "ecf16253-4cb9-4647-b389-1a32008b4512"
      },
      "source": [
        "analysis_columns.describe()"
      ],
      "execution_count": 76,
      "outputs": [
        {
          "output_type": "execute_result",
          "data": {
            "text/html": [
              "<div>\n",
              "<style scoped>\n",
              "    .dataframe tbody tr th:only-of-type {\n",
              "        vertical-align: middle;\n",
              "    }\n",
              "\n",
              "    .dataframe tbody tr th {\n",
              "        vertical-align: top;\n",
              "    }\n",
              "\n",
              "    .dataframe thead th {\n",
              "        text-align: right;\n",
              "    }\n",
              "</style>\n",
              "<table border=\"1\" class=\"dataframe\">\n",
              "  <thead>\n",
              "    <tr style=\"text-align: right;\">\n",
              "      <th></th>\n",
              "      <th>total_price</th>\n",
              "      <th>building_area_square_meter</th>\n",
              "      <th>main_building_area</th>\n",
              "      <th>unit_price</th>\n",
              "      <th>room_number</th>\n",
              "      <th>hall_number</th>\n",
              "      <th>health_number</th>\n",
              "    </tr>\n",
              "  </thead>\n",
              "  <tbody>\n",
              "    <tr>\n",
              "      <th>count</th>\n",
              "      <td>6.854000e+03</td>\n",
              "      <td>6854.000000</td>\n",
              "      <td>6854.000000</td>\n",
              "      <td>6854.000000</td>\n",
              "      <td>6854.000000</td>\n",
              "      <td>6854.000000</td>\n",
              "      <td>6854.000000</td>\n",
              "    </tr>\n",
              "    <tr>\n",
              "      <th>mean</th>\n",
              "      <td>1.141669e+07</td>\n",
              "      <td>121.768404</td>\n",
              "      <td>82.565725</td>\n",
              "      <td>94548.453020</td>\n",
              "      <td>2.849869</td>\n",
              "      <td>1.793114</td>\n",
              "      <td>1.733149</td>\n",
              "    </tr>\n",
              "    <tr>\n",
              "      <th>std</th>\n",
              "      <td>1.161669e+07</td>\n",
              "      <td>62.849105</td>\n",
              "      <td>36.940424</td>\n",
              "      <td>58374.690321</td>\n",
              "      <td>0.898343</td>\n",
              "      <td>0.405103</td>\n",
              "      <td>0.680869</td>\n",
              "    </tr>\n",
              "    <tr>\n",
              "      <th>min</th>\n",
              "      <td>4.100000e+05</td>\n",
              "      <td>7.440000</td>\n",
              "      <td>7.440000</td>\n",
              "      <td>3239.000000</td>\n",
              "      <td>1.000000</td>\n",
              "      <td>1.000000</td>\n",
              "      <td>0.000000</td>\n",
              "    </tr>\n",
              "    <tr>\n",
              "      <th>25%</th>\n",
              "      <td>5.600000e+06</td>\n",
              "      <td>83.012500</td>\n",
              "      <td>61.062500</td>\n",
              "      <td>53597.250000</td>\n",
              "      <td>2.000000</td>\n",
              "      <td>2.000000</td>\n",
              "      <td>1.000000</td>\n",
              "    </tr>\n",
              "    <tr>\n",
              "      <th>50%</th>\n",
              "      <td>8.600000e+06</td>\n",
              "      <td>109.405000</td>\n",
              "      <td>79.110000</td>\n",
              "      <td>79742.500000</td>\n",
              "      <td>3.000000</td>\n",
              "      <td>2.000000</td>\n",
              "      <td>2.000000</td>\n",
              "    </tr>\n",
              "    <tr>\n",
              "      <th>75%</th>\n",
              "      <td>1.330000e+07</td>\n",
              "      <td>147.445000</td>\n",
              "      <td>95.970000</td>\n",
              "      <td>118880.000000</td>\n",
              "      <td>3.000000</td>\n",
              "      <td>2.000000</td>\n",
              "      <td>2.000000</td>\n",
              "    </tr>\n",
              "    <tr>\n",
              "      <th>max</th>\n",
              "      <td>2.250000e+08</td>\n",
              "      <td>1444.950000</td>\n",
              "      <td>335.760000</td>\n",
              "      <td>610104.000000</td>\n",
              "      <td>5.000000</td>\n",
              "      <td>2.000000</td>\n",
              "      <td>6.000000</td>\n",
              "    </tr>\n",
              "  </tbody>\n",
              "</table>\n",
              "</div>"
            ],
            "text/plain": [
              "        total_price  building_area_square_meter  ...  hall_number  health_number\n",
              "count  6.854000e+03                 6854.000000  ...  6854.000000    6854.000000\n",
              "mean   1.141669e+07                  121.768404  ...     1.793114       1.733149\n",
              "std    1.161669e+07                   62.849105  ...     0.405103       0.680869\n",
              "min    4.100000e+05                    7.440000  ...     1.000000       0.000000\n",
              "25%    5.600000e+06                   83.012500  ...     2.000000       1.000000\n",
              "50%    8.600000e+06                  109.405000  ...     2.000000       2.000000\n",
              "75%    1.330000e+07                  147.445000  ...     2.000000       2.000000\n",
              "max    2.250000e+08                 1444.950000  ...     2.000000       6.000000\n",
              "\n",
              "[8 rows x 7 columns]"
            ]
          },
          "metadata": {
            "tags": []
          },
          "execution_count": 76
        }
      ]
    },
    {
      "cell_type": "code",
      "metadata": {
        "colab": {
          "base_uri": "https://localhost:8080/"
        },
        "id": "1Q-rj3Y1eIU-",
        "outputId": "171599fe-2c4c-4ac4-b9ea-5856a77f4009"
      },
      "source": [
        "tpe = analysis_columns.loc[analysis_columns.city == '台北市Taipei']\n",
        "tpe.corr().total_price.sort_values(ascending=False).index[1],tpe.corr().unit_price.sort_values(ascending=False).index[1]"
      ],
      "execution_count": 112,
      "outputs": [
        {
          "output_type": "execute_result",
          "data": {
            "text/plain": [
              "('building_area_square_meter', 'total_price')"
            ]
          },
          "metadata": {
            "tags": []
          },
          "execution_count": 112
        }
      ]
    },
    {
      "cell_type": "code",
      "metadata": {
        "colab": {
          "base_uri": "https://localhost:8080/",
          "height": 974
        },
        "id": "LudYdlZ7g2MQ",
        "outputId": "39226a32-9547-4f93-85ea-199bd912d685"
      },
      "source": [
        "analysis_columns.boxplot(column=['unit_price'],by='city',figsize=(16,6))"
      ],
      "execution_count": 117,
      "outputs": [
        {
          "output_type": "stream",
          "text": [
            "/usr/local/lib/python3.7/dist-packages/numpy/core/_asarray.py:83: VisibleDeprecationWarning: Creating an ndarray from ragged nested sequences (which is a list-or-tuple of lists-or-tuples-or ndarrays with different lengths or shapes) is deprecated. If you meant to do this, you must specify 'dtype=object' when creating the ndarray\n",
            "  return array(a, dtype, copy=False, order=order)\n"
          ],
          "name": "stderr"
        },
        {
          "output_type": "execute_result",
          "data": {
            "text/plain": [
              "<matplotlib.axes._subplots.AxesSubplot at 0x7ff516491710>"
            ]
          },
          "metadata": {
            "tags": []
          },
          "execution_count": 117
        },
        {
          "output_type": "stream",
          "text": [
            "/usr/local/lib/python3.7/dist-packages/matplotlib/backends/backend_agg.py:214: RuntimeWarning: Glyph 21488 missing from current font.\n",
            "  font.set_text(s, 0.0, flags=flags)\n",
            "/usr/local/lib/python3.7/dist-packages/matplotlib/backends/backend_agg.py:214: RuntimeWarning: Glyph 20013 missing from current font.\n",
            "  font.set_text(s, 0.0, flags=flags)\n",
            "/usr/local/lib/python3.7/dist-packages/matplotlib/backends/backend_agg.py:214: RuntimeWarning: Glyph 24066 missing from current font.\n",
            "  font.set_text(s, 0.0, flags=flags)\n",
            "/usr/local/lib/python3.7/dist-packages/matplotlib/backends/backend_agg.py:214: RuntimeWarning: Glyph 21271 missing from current font.\n",
            "  font.set_text(s, 0.0, flags=flags)\n",
            "/usr/local/lib/python3.7/dist-packages/matplotlib/backends/backend_agg.py:214: RuntimeWarning: Glyph 26032 missing from current font.\n",
            "  font.set_text(s, 0.0, flags=flags)\n",
            "/usr/local/lib/python3.7/dist-packages/matplotlib/backends/backend_agg.py:214: RuntimeWarning: Glyph 39640 missing from current font.\n",
            "  font.set_text(s, 0.0, flags=flags)\n",
            "/usr/local/lib/python3.7/dist-packages/matplotlib/backends/backend_agg.py:214: RuntimeWarning: Glyph 38596 missing from current font.\n",
            "  font.set_text(s, 0.0, flags=flags)\n",
            "/usr/local/lib/python3.7/dist-packages/matplotlib/backends/backend_agg.py:183: RuntimeWarning: Glyph 21488 missing from current font.\n",
            "  font.set_text(s, 0, flags=flags)\n",
            "/usr/local/lib/python3.7/dist-packages/matplotlib/backends/backend_agg.py:183: RuntimeWarning: Glyph 20013 missing from current font.\n",
            "  font.set_text(s, 0, flags=flags)\n",
            "/usr/local/lib/python3.7/dist-packages/matplotlib/backends/backend_agg.py:183: RuntimeWarning: Glyph 24066 missing from current font.\n",
            "  font.set_text(s, 0, flags=flags)\n",
            "/usr/local/lib/python3.7/dist-packages/matplotlib/backends/backend_agg.py:183: RuntimeWarning: Glyph 21271 missing from current font.\n",
            "  font.set_text(s, 0, flags=flags)\n",
            "/usr/local/lib/python3.7/dist-packages/matplotlib/backends/backend_agg.py:183: RuntimeWarning: Glyph 26032 missing from current font.\n",
            "  font.set_text(s, 0, flags=flags)\n",
            "/usr/local/lib/python3.7/dist-packages/matplotlib/backends/backend_agg.py:183: RuntimeWarning: Glyph 39640 missing from current font.\n",
            "  font.set_text(s, 0, flags=flags)\n",
            "/usr/local/lib/python3.7/dist-packages/matplotlib/backends/backend_agg.py:183: RuntimeWarning: Glyph 38596 missing from current font.\n",
            "  font.set_text(s, 0, flags=flags)\n"
          ],
          "name": "stderr"
        },
        {
          "output_type": "display_data",
          "data": {
            "image/png": "[encoded data removed]",
            "text/plain": [
              "<Figure size 1152x432 with 1 Axes>"
            ]
          },
          "metadata": {
            "tags": [],
            "needs_background": "light"
          }
        }
      ]
    },
    {
      "cell_type": "code",
      "metadata": {
        "colab": {
          "base_uri": "https://localhost:8080/",
          "height": 494
        },
        "id": "cP2YLPWvho8r",
        "outputId": "93d993d0-20c5-4ba6-ae07-ac27fe846cae"
      },
      "source": [
        "tpe.boxplot(column='total_price',by='room_number',figsize=(16,6))"
      ],
      "execution_count": 118,
      "outputs": [
        {
          "output_type": "stream",
          "text": [
            "/usr/local/lib/python3.7/dist-packages/numpy/core/_asarray.py:83: VisibleDeprecationWarning: Creating an ndarray from ragged nested sequences (which is a list-or-tuple of lists-or-tuples-or ndarrays with different lengths or shapes) is deprecated. If you meant to do this, you must specify 'dtype=object' when creating the ndarray\n",
            "  return array(a, dtype, copy=False, order=order)\n"
          ],
          "name": "stderr"
        },
        {
          "output_type": "execute_result",
          "data": {
            "text/plain": [
              "<matplotlib.axes._subplots.AxesSubplot at 0x7ff5163686d0>"
            ]
          },
          "metadata": {
            "tags": []
          },
          "execution_count": 118
        },
        {
          "output_type": "display_data",
          "data": {
            "image/png": "[encoded data removed]",
            "text/plain": [
              "<Figure size 1152x432 with 1 Axes>"
            ]
          },
          "metadata": {
            "tags": [],
            "needs_background": "light"
          }
        }
      ]
    },
    {
      "cell_type": "code",
      "metadata": {
        "colab": {
          "base_uri": "https://localhost:8080/"
        },
        "id": "wR7pkn3bndRu",
        "outputId": "a4c35a22-34ac-476a-cdb9-56228ceafa53"
      },
      "source": [
        "from sklearn.preprocessing import LabelEncoder\n",
        "le = LabelEncoder()\n",
        "tpe.towns = le.fit_transform(tpe.towns)\n",
        "tpe.towns"
      ],
      "execution_count": 123,
      "outputs": [
        {
          "output_type": "stream",
          "text": [
            "/usr/local/lib/python3.7/dist-packages/pandas/core/generic.py:5170: SettingWithCopyWarning: \n",
            "A value is trying to be set on a copy of a slice from a DataFrame.\n",
            "Try using .loc[row_indexer,col_indexer] = value instead\n",
            "\n",
            "See the caveats in the documentation: https://pandas.pydata.org/pandas-docs/stable/user_guide/indexing.html#returning-a-view-versus-a-copy\n",
            "  self[name] = value\n"
          ],
          "name": "stderr"
        },
        {
          "output_type": "execute_result",
          "data": {
            "text/plain": [
              "0        9\n",
              "1        9\n",
              "2        9\n",
              "3        9\n",
              "4        9\n",
              "        ..\n",
              "1373    11\n",
              "1374     3\n",
              "1375     8\n",
              "1376     2\n",
              "1377     0\n",
              "Name: towns, Length: 1376, dtype: int64"
            ]
          },
          "metadata": {
            "tags": []
          },
          "execution_count": 123
        }
      ]
    },
    {
      "cell_type": "code",
      "metadata": {
        "colab": {
          "base_uri": "https://localhost:8080/",
          "height": 493
        },
        "id": "M4U89WHbohr_",
        "outputId": "b0d53a6a-9534-44da-f4bb-3e4a19dc97d7"
      },
      "source": [
        "tpe.boxplot(column='unit_price',by='towns',figsize=(16,6))"
      ],
      "execution_count": 125,
      "outputs": [
        {
          "output_type": "stream",
          "text": [
            "/usr/local/lib/python3.7/dist-packages/numpy/core/_asarray.py:83: VisibleDeprecationWarning: Creating an ndarray from ragged nested sequences (which is a list-or-tuple of lists-or-tuples-or ndarrays with different lengths or shapes) is deprecated. If you meant to do this, you must specify 'dtype=object' when creating the ndarray\n",
            "  return array(a, dtype, copy=False, order=order)\n"
          ],
          "name": "stderr"
        },
        {
          "output_type": "execute_result",
          "data": {
            "text/plain": [
              "<matplotlib.axes._subplots.AxesSubplot at 0x7ff51bf9c390>"
            ]
          },
          "metadata": {
            "tags": []
          },
          "execution_count": 125
        },
        {
          "output_type": "display_data",
          "data": {
            "image/png": "[encoded data removed]",
            "text/plain": [
              "<Figure size 1152x432 with 1 Axes>"
            ]
          },
          "metadata": {
            "tags": [],
            "needs_background": "light"
          }
        }
      ]
    },
    {
      "cell_type": "code",
      "metadata": {
        "colab": {
          "base_uri": "https://localhost:8080/",
          "height": 452
        },
        "id": "B2uZaVVeovjN",
        "outputId": "e63c3fad-dc91-4ba3-f250-00235424e369"
      },
      "source": [
        "tpe.groupby('towns').median()"
      ],
      "execution_count": 135,
      "outputs": [
        {
          "output_type": "execute_result",
          "data": {
            "text/html": [
              "<div>\n",
              "<style scoped>\n",
              "    .dataframe tbody tr th:only-of-type {\n",
              "        vertical-align: middle;\n",
              "    }\n",
              "\n",
              "    .dataframe tbody tr th {\n",
              "        vertical-align: top;\n",
              "    }\n",
              "\n",
              "    .dataframe thead th {\n",
              "        text-align: right;\n",
              "    }\n",
              "</style>\n",
              "<table border=\"1\" class=\"dataframe\">\n",
              "  <thead>\n",
              "    <tr style=\"text-align: right;\">\n",
              "      <th></th>\n",
              "      <th>total_price</th>\n",
              "      <th>building_area_square_meter</th>\n",
              "      <th>main_building_area</th>\n",
              "      <th>unit_price</th>\n",
              "      <th>room_number</th>\n",
              "      <th>hall_number</th>\n",
              "      <th>health_number</th>\n",
              "    </tr>\n",
              "    <tr>\n",
              "      <th>towns</th>\n",
              "      <th></th>\n",
              "      <th></th>\n",
              "      <th></th>\n",
              "      <th></th>\n",
              "      <th></th>\n",
              "      <th></th>\n",
              "      <th></th>\n",
              "    </tr>\n",
              "  </thead>\n",
              "  <tbody>\n",
              "    <tr>\n",
              "      <th>0</th>\n",
              "      <td>17880000</td>\n",
              "      <td>107.580</td>\n",
              "      <td>89.490</td>\n",
              "      <td>188468.0</td>\n",
              "      <td>3</td>\n",
              "      <td>2</td>\n",
              "      <td>2</td>\n",
              "    </tr>\n",
              "    <tr>\n",
              "      <th>1</th>\n",
              "      <td>17350000</td>\n",
              "      <td>92.010</td>\n",
              "      <td>71.150</td>\n",
              "      <td>199055.0</td>\n",
              "      <td>3</td>\n",
              "      <td>2</td>\n",
              "      <td>2</td>\n",
              "    </tr>\n",
              "    <tr>\n",
              "      <th>2</th>\n",
              "      <td>17015000</td>\n",
              "      <td>99.540</td>\n",
              "      <td>82.160</td>\n",
              "      <td>182408.5</td>\n",
              "      <td>3</td>\n",
              "      <td>2</td>\n",
              "      <td>2</td>\n",
              "    </tr>\n",
              "    <tr>\n",
              "      <th>3</th>\n",
              "      <td>16800000</td>\n",
              "      <td>114.620</td>\n",
              "      <td>83.010</td>\n",
              "      <td>155340.0</td>\n",
              "      <td>3</td>\n",
              "      <td>2</td>\n",
              "      <td>2</td>\n",
              "    </tr>\n",
              "    <tr>\n",
              "      <th>4</th>\n",
              "      <td>15000000</td>\n",
              "      <td>112.560</td>\n",
              "      <td>90.660</td>\n",
              "      <td>137192.0</td>\n",
              "      <td>3</td>\n",
              "      <td>2</td>\n",
              "      <td>2</td>\n",
              "    </tr>\n",
              "    <tr>\n",
              "      <th>5</th>\n",
              "      <td>16080000</td>\n",
              "      <td>107.500</td>\n",
              "      <td>82.430</td>\n",
              "      <td>162308.0</td>\n",
              "      <td>3</td>\n",
              "      <td>2</td>\n",
              "      <td>2</td>\n",
              "    </tr>\n",
              "    <tr>\n",
              "      <th>6</th>\n",
              "      <td>16800000</td>\n",
              "      <td>114.150</td>\n",
              "      <td>89.140</td>\n",
              "      <td>154603.0</td>\n",
              "      <td>3</td>\n",
              "      <td>2</td>\n",
              "      <td>2</td>\n",
              "    </tr>\n",
              "    <tr>\n",
              "      <th>7</th>\n",
              "      <td>17700000</td>\n",
              "      <td>90.690</td>\n",
              "      <td>49.570</td>\n",
              "      <td>199557.0</td>\n",
              "      <td>2</td>\n",
              "      <td>2</td>\n",
              "      <td>1</td>\n",
              "    </tr>\n",
              "    <tr>\n",
              "      <th>8</th>\n",
              "      <td>26275000</td>\n",
              "      <td>113.395</td>\n",
              "      <td>87.870</td>\n",
              "      <td>235824.5</td>\n",
              "      <td>3</td>\n",
              "      <td>2</td>\n",
              "      <td>2</td>\n",
              "    </tr>\n",
              "    <tr>\n",
              "      <th>9</th>\n",
              "      <td>13620000</td>\n",
              "      <td>110.220</td>\n",
              "      <td>81.410</td>\n",
              "      <td>133987.0</td>\n",
              "      <td>3</td>\n",
              "      <td>2</td>\n",
              "      <td>2</td>\n",
              "    </tr>\n",
              "    <tr>\n",
              "      <th>10</th>\n",
              "      <td>17690000</td>\n",
              "      <td>101.620</td>\n",
              "      <td>86.880</td>\n",
              "      <td>199634.0</td>\n",
              "      <td>3</td>\n",
              "      <td>2</td>\n",
              "      <td>2</td>\n",
              "    </tr>\n",
              "    <tr>\n",
              "      <th>11</th>\n",
              "      <td>10150000</td>\n",
              "      <td>88.975</td>\n",
              "      <td>67.045</td>\n",
              "      <td>126085.5</td>\n",
              "      <td>3</td>\n",
              "      <td>2</td>\n",
              "      <td>1</td>\n",
              "    </tr>\n",
              "  </tbody>\n",
              "</table>\n",
              "</div>"
            ],
            "text/plain": [
              "       total_price  building_area_square_meter  ...  hall_number  health_number\n",
              "towns                                           ...                            \n",
              "0         17880000                     107.580  ...            2              2\n",
              "1         17350000                      92.010  ...            2              2\n",
              "2         17015000                      99.540  ...            2              2\n",
              "3         16800000                     114.620  ...            2              2\n",
              "4         15000000                     112.560  ...            2              2\n",
              "5         16080000                     107.500  ...            2              2\n",
              "6         16800000                     114.150  ...            2              2\n",
              "7         17700000                      90.690  ...            2              1\n",
              "8         26275000                     113.395  ...            2              2\n",
              "9         13620000                     110.220  ...            2              2\n",
              "10        17690000                     101.620  ...            2              2\n",
              "11        10150000                      88.975  ...            2              1\n",
              "\n",
              "[12 rows x 7 columns]"
            ]
          },
          "metadata": {
            "tags": []
          },
          "execution_count": 135
        }
      ]
    },
    {
      "cell_type": "code",
      "metadata": {
        "colab": {
          "base_uri": "https://localhost:8080/",
          "height": 35
        },
        "id": "WxbCbWmYo8Wv",
        "outputId": "28bf4f79-38e5-46bf-a7c8-cab4d3a73e8f"
      },
      "source": [
        "le.inverse_transform(tpe.towns)[tpe.towns.loc[tpe.towns==8].index[0]] #23"
      ],
      "execution_count": 157,
      "outputs": [
        {
          "output_type": "execute_result",
          "data": {
            "application/vnd.google.colaboratory.intrinsic+json": {
              "type": "string"
            },
            "text/plain": [
              "'大安區'"
            ]
          },
          "metadata": {
            "tags": []
          },
          "execution_count": 157
        }
      ]
    }
  ]
}