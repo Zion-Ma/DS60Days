{
  "nbformat": 4,
  "nbformat_minor": 0,
  "metadata": {
    "colab": {
      "name": "D6_06_HW.ipynb",
      "provenance": []
    },
    "kernelspec": {
      "name": "python3",
      "display_name": "Python 3"
    }
  },
  "cells": [
    {
      "cell_type": "code",
      "metadata": {
        "colab": {
          "base_uri": "https://localhost:8080/"
        },
        "id": "8mzhJ-Jnyr-X",
        "outputId": "a1a5e72b-a105-469f-8fc6-b4ae0af21232"
      },
      "source": [
        "import numpy as np\r\n",
        "array1 = np.array(range(30))\r\n",
        "array2 = np.array([2,3,5])\r\n",
        "f=open('1.npz','wb')\r\n",
        "np.savez(f,array1=array1,array2=array2)\r\n",
        "f=np.load('1.npz')\r\n",
        "for i in f:\r\n",
        "  print(f[i])\r\n",
        "  print()"
      ],
      "execution_count": 66,
      "outputs": [
        {
          "output_type": "stream",
          "text": [
            "[ 0  1  2  3  4  5  6  7  8  9 10 11 12 13 14 15 16 17 18 19 20 21 22 23\n",
            " 24 25 26 27 28 29]\n",
            "\n",
            "[2 3 5]\n",
            "\n"
          ],
          "name": "stdout"
        }
      ]
    },
    {
      "cell_type": "code",
      "metadata": {
        "colab": {
          "base_uri": "https://localhost:8080/"
        },
        "id": "kQynjJCXz0Bf",
        "outputId": "9f30830f-ba1e-44c6-ff1a-188ebf6e6d22"
      },
      "source": [
        "array3=np.append(np.array([2,3,5]),np.array(range(30)))\r\n",
        "f=open('1.npz','wb')\r\n",
        "np.savez(f,array1=array1,array2=array2,array3=array3)\r\n",
        "f=np.load('1.npz')\r\n",
        "for i in f:\r\n",
        "  print(f[i])\r\n",
        "  print()"
      ],
      "execution_count": 67,
      "outputs": [
        {
          "output_type": "stream",
          "text": [
            "[ 0  1  2  3  4  5  6  7  8  9 10 11 12 13 14 15 16 17 18 19 20 21 22 23\n",
            " 24 25 26 27 28 29]\n",
            "\n",
            "[2 3 5]\n",
            "\n",
            "[ 2  3  5  0  1  2  3  4  5  6  7  8  9 10 11 12 13 14 15 16 17 18 19 20\n",
            " 21 22 23 24 25 26 27 28 29]\n",
            "\n"
          ],
          "name": "stdout"
        }
      ]
    }
  ]
}