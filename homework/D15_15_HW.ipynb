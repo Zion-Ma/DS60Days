{
  "nbformat": 4,
  "nbformat_minor": 0,
  "metadata": {
    "colab": {
      "name": "D15_15_HW.ipynb",
      "provenance": []
    },
    "kernelspec": {
      "name": "python3",
      "display_name": "Python 3"
    }
  },
  "cells": [
    {
      "cell_type": "code",
      "metadata": {
        "colab": {
          "base_uri": "https://localhost:8080/",
          "height": 514
        },
        "id": "u0sYBwEp4q-e",
        "outputId": "a63c3e2a-8496-4ae8-a501-5946575e873b"
      },
      "source": [
        "import pandas as pd\r\n",
        "score_df = pd.DataFrame([[1,50,80,70,'boy',1], \r\n",
        "              [2,60,45,50,'boy',2],\r\n",
        "              [3,98,43,55,'boy',1],\r\n",
        "              [4,70,69,89,'boy',2],\r\n",
        "              [5,56,79,60,'girl',1],\r\n",
        "              [6,60,68,55,'girl',2],\r\n",
        "              [7,45,70,77,'girl',1],\r\n",
        "              [8,55,77,76,'girl',2],\r\n",
        "              [9,25,57,60,'girl',1],\r\n",
        "              [10,88,40,43,'girl',3],\r\n",
        "              [11,25,60,45,'boy',3],\r\n",
        "              [12,80,60,23,'boy',3],\r\n",
        "              [13,20,90,66,'girl',3],\r\n",
        "              [14,50,50,50,'girl',3],\r\n",
        "              [15,89,67,77,'girl',3]],columns=['student_id','math_score','english_score','chinese_score','sex','class'])\r\n",
        "score_df"
      ],
      "execution_count": 1,
      "outputs": [
        {
          "output_type": "execute_result",
          "data": {
            "text/html": [
              "<div>\n",
              "<style scoped>\n",
              "    .dataframe tbody tr th:only-of-type {\n",
              "        vertical-align: middle;\n",
              "    }\n",
              "\n",
              "    .dataframe tbody tr th {\n",
              "        vertical-align: top;\n",
              "    }\n",
              "\n",
              "    .dataframe thead th {\n",
              "        text-align: right;\n",
              "    }\n",
              "</style>\n",
              "<table border=\"1\" class=\"dataframe\">\n",
              "  <thead>\n",
              "    <tr style=\"text-align: right;\">\n",
              "      <th></th>\n",
              "      <th>student_id</th>\n",
              "      <th>math_score</th>\n",
              "      <th>english_score</th>\n",
              "      <th>chinese_score</th>\n",
              "      <th>sex</th>\n",
              "      <th>class</th>\n",
              "    </tr>\n",
              "  </thead>\n",
              "  <tbody>\n",
              "    <tr>\n",
              "      <th>0</th>\n",
              "      <td>1</td>\n",
              "      <td>50</td>\n",
              "      <td>80</td>\n",
              "      <td>70</td>\n",
              "      <td>boy</td>\n",
              "      <td>1</td>\n",
              "    </tr>\n",
              "    <tr>\n",
              "      <th>1</th>\n",
              "      <td>2</td>\n",
              "      <td>60</td>\n",
              "      <td>45</td>\n",
              "      <td>50</td>\n",
              "      <td>boy</td>\n",
              "      <td>2</td>\n",
              "    </tr>\n",
              "    <tr>\n",
              "      <th>2</th>\n",
              "      <td>3</td>\n",
              "      <td>98</td>\n",
              "      <td>43</td>\n",
              "      <td>55</td>\n",
              "      <td>boy</td>\n",
              "      <td>1</td>\n",
              "    </tr>\n",
              "    <tr>\n",
              "      <th>3</th>\n",
              "      <td>4</td>\n",
              "      <td>70</td>\n",
              "      <td>69</td>\n",
              "      <td>89</td>\n",
              "      <td>boy</td>\n",
              "      <td>2</td>\n",
              "    </tr>\n",
              "    <tr>\n",
              "      <th>4</th>\n",
              "      <td>5</td>\n",
              "      <td>56</td>\n",
              "      <td>79</td>\n",
              "      <td>60</td>\n",
              "      <td>girl</td>\n",
              "      <td>1</td>\n",
              "    </tr>\n",
              "    <tr>\n",
              "      <th>5</th>\n",
              "      <td>6</td>\n",
              "      <td>60</td>\n",
              "      <td>68</td>\n",
              "      <td>55</td>\n",
              "      <td>girl</td>\n",
              "      <td>2</td>\n",
              "    </tr>\n",
              "    <tr>\n",
              "      <th>6</th>\n",
              "      <td>7</td>\n",
              "      <td>45</td>\n",
              "      <td>70</td>\n",
              "      <td>77</td>\n",
              "      <td>girl</td>\n",
              "      <td>1</td>\n",
              "    </tr>\n",
              "    <tr>\n",
              "      <th>7</th>\n",
              "      <td>8</td>\n",
              "      <td>55</td>\n",
              "      <td>77</td>\n",
              "      <td>76</td>\n",
              "      <td>girl</td>\n",
              "      <td>2</td>\n",
              "    </tr>\n",
              "    <tr>\n",
              "      <th>8</th>\n",
              "      <td>9</td>\n",
              "      <td>25</td>\n",
              "      <td>57</td>\n",
              "      <td>60</td>\n",
              "      <td>girl</td>\n",
              "      <td>1</td>\n",
              "    </tr>\n",
              "    <tr>\n",
              "      <th>9</th>\n",
              "      <td>10</td>\n",
              "      <td>88</td>\n",
              "      <td>40</td>\n",
              "      <td>43</td>\n",
              "      <td>girl</td>\n",
              "      <td>3</td>\n",
              "    </tr>\n",
              "    <tr>\n",
              "      <th>10</th>\n",
              "      <td>11</td>\n",
              "      <td>25</td>\n",
              "      <td>60</td>\n",
              "      <td>45</td>\n",
              "      <td>boy</td>\n",
              "      <td>3</td>\n",
              "    </tr>\n",
              "    <tr>\n",
              "      <th>11</th>\n",
              "      <td>12</td>\n",
              "      <td>80</td>\n",
              "      <td>60</td>\n",
              "      <td>23</td>\n",
              "      <td>boy</td>\n",
              "      <td>3</td>\n",
              "    </tr>\n",
              "    <tr>\n",
              "      <th>12</th>\n",
              "      <td>13</td>\n",
              "      <td>20</td>\n",
              "      <td>90</td>\n",
              "      <td>66</td>\n",
              "      <td>girl</td>\n",
              "      <td>3</td>\n",
              "    </tr>\n",
              "    <tr>\n",
              "      <th>13</th>\n",
              "      <td>14</td>\n",
              "      <td>50</td>\n",
              "      <td>50</td>\n",
              "      <td>50</td>\n",
              "      <td>girl</td>\n",
              "      <td>3</td>\n",
              "    </tr>\n",
              "    <tr>\n",
              "      <th>14</th>\n",
              "      <td>15</td>\n",
              "      <td>89</td>\n",
              "      <td>67</td>\n",
              "      <td>77</td>\n",
              "      <td>girl</td>\n",
              "      <td>3</td>\n",
              "    </tr>\n",
              "  </tbody>\n",
              "</table>\n",
              "</div>"
            ],
            "text/plain": [
              "    student_id  math_score  english_score  chinese_score   sex  class\n",
              "0            1          50             80             70   boy      1\n",
              "1            2          60             45             50   boy      2\n",
              "2            3          98             43             55   boy      1\n",
              "3            4          70             69             89   boy      2\n",
              "4            5          56             79             60  girl      1\n",
              "5            6          60             68             55  girl      2\n",
              "6            7          45             70             77  girl      1\n",
              "7            8          55             77             76  girl      2\n",
              "8            9          25             57             60  girl      1\n",
              "9           10          88             40             43  girl      3\n",
              "10          11          25             60             45   boy      3\n",
              "11          12          80             60             23   boy      3\n",
              "12          13          20             90             66  girl      3\n",
              "13          14          50             50             50  girl      3\n",
              "14          15          89             67             77  girl      3"
            ]
          },
          "metadata": {
            "tags": []
          },
          "execution_count": 1
        }
      ]
    },
    {
      "cell_type": "code",
      "metadata": {
        "colab": {
          "base_uri": "https://localhost:8080/",
          "height": 111
        },
        "id": "gTN8MQak40NV",
        "outputId": "2f8c9d20-2bf9-44d9-84e7-5288a46a56d0"
      },
      "source": [
        "#1\r\n",
        "score_df[score_df.columns[1:4]].agg(['max','min'])"
      ],
      "execution_count": 4,
      "outputs": [
        {
          "output_type": "execute_result",
          "data": {
            "text/html": [
              "<div>\n",
              "<style scoped>\n",
              "    .dataframe tbody tr th:only-of-type {\n",
              "        vertical-align: middle;\n",
              "    }\n",
              "\n",
              "    .dataframe tbody tr th {\n",
              "        vertical-align: top;\n",
              "    }\n",
              "\n",
              "    .dataframe thead th {\n",
              "        text-align: right;\n",
              "    }\n",
              "</style>\n",
              "<table border=\"1\" class=\"dataframe\">\n",
              "  <thead>\n",
              "    <tr style=\"text-align: right;\">\n",
              "      <th></th>\n",
              "      <th>math_score</th>\n",
              "      <th>english_score</th>\n",
              "      <th>chinese_score</th>\n",
              "    </tr>\n",
              "  </thead>\n",
              "  <tbody>\n",
              "    <tr>\n",
              "      <th>max</th>\n",
              "      <td>98</td>\n",
              "      <td>90</td>\n",
              "      <td>89</td>\n",
              "    </tr>\n",
              "    <tr>\n",
              "      <th>min</th>\n",
              "      <td>20</td>\n",
              "      <td>40</td>\n",
              "      <td>23</td>\n",
              "    </tr>\n",
              "  </tbody>\n",
              "</table>\n",
              "</div>"
            ],
            "text/plain": [
              "     math_score  english_score  chinese_score\n",
              "max          98             90             89\n",
              "min          20             40             23"
            ]
          },
          "metadata": {
            "tags": []
          },
          "execution_count": 4
        }
      ]
    },
    {
      "cell_type": "code",
      "metadata": {
        "colab": {
          "base_uri": "https://localhost:8080/"
        },
        "id": "pCyCLqZN56Jr",
        "outputId": "7a301a3b-05b2-423a-faca-e0bf28ec6ea8"
      },
      "source": [
        "#2\r\n",
        "score_df.groupby(['class']).math_score.mean()\r\n",
        "#class 2 has the highest math score mean."
      ],
      "execution_count": 8,
      "outputs": [
        {
          "output_type": "execute_result",
          "data": {
            "text/plain": [
              "class\n",
              "1    54.800000\n",
              "2    61.250000\n",
              "3    58.666667\n",
              "Name: math_score, dtype: float64"
            ]
          },
          "metadata": {
            "tags": []
          },
          "execution_count": 8
        }
      ]
    },
    {
      "cell_type": "code",
      "metadata": {
        "colab": {
          "base_uri": "https://localhost:8080/"
        },
        "id": "5idxVGwA6WhZ",
        "outputId": "3e84a150-0662-4464-d826-6822d5f6f818"
      },
      "source": [
        "#3\r\n",
        "abs(score_df.groupby(['sex']).chinese_score.mean()[0]-score_df.groupby(['sex']).chinese_score.mean()[1])"
      ],
      "execution_count": 18,
      "outputs": [
        {
          "output_type": "execute_result",
          "data": {
            "text/plain": [
              "7.333333333333329"
            ]
          },
          "metadata": {
            "tags": []
          },
          "execution_count": 18
        }
      ]
    },
    {
      "cell_type": "code",
      "metadata": {
        "id": "Wg3pehnP9USY"
      },
      "source": [
        ""
      ],
      "execution_count": null,
      "outputs": []
    }
  ]
}