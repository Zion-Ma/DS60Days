{
  "nbformat": 4,
  "nbformat_minor": 0,
  "metadata": {
    "colab": {
      "name": "Day2_02_HW.ipynb",
      "provenance": [],
      "collapsed_sections": []
    },
    "kernelspec": {
      "name": "python3",
      "display_name": "Python 3"
    }
  },
  "cells": [
    {
      "cell_type": "code",
      "metadata": {
        "colab": {
          "base_uri": "https://localhost:8080/"
        },
        "id": "WsgTN6G6Zekn",
        "outputId": "f0bee9d7-f909-44f5-e1cf-ef7ebea6d974"
      },
      "source": [
        "import numpy as np\r\n",
        "array=np.arange(30)\r\n",
        "array=array.reshape(5,6,order='F')\r\n",
        "np.where(array%6==1)"
      ],
      "execution_count": 14,
      "outputs": [
        {
          "output_type": "stream",
          "text": [
            "[[ 0  5 10 15 20 25]\n",
            " [ 1  6 11 16 21 26]\n",
            " [ 2  7 12 17 22 27]\n",
            " [ 3  8 13 18 23 28]\n",
            " [ 4  9 14 19 24 29]]\n"
          ],
          "name": "stdout"
        },
        {
          "output_type": "execute_result",
          "data": {
            "text/plain": [
              "(array([0, 1, 2, 3, 4]), array([5, 0, 1, 2, 3]))"
            ]
          },
          "metadata": {
            "tags": []
          },
          "execution_count": 14
        }
      ]
    }
  ]
}