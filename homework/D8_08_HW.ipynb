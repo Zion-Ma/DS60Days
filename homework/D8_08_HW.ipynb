{
  "nbformat": 4,
  "nbformat_minor": 0,
  "metadata": {
    "colab": {
      "name": "D8_08_HW.ipynb",
      "provenance": []
    },
    "kernelspec": {
      "name": "python3",
      "display_name": "Python 3"
    }
  },
  "cells": [
    {
      "cell_type": "code",
      "metadata": {
        "colab": {
          "base_uri": "https://localhost:8080/"
        },
        "id": "_PxQ5RlGPqwW",
        "outputId": "a5253568-b384-4947-94a1-3f0389dde2d8"
      },
      "source": [
        "import numpy as np\r\n",
        "name_list = ['小明','小華','小菁','小美','小張','John','Mark','Tom']\r\n",
        "sex_list = ['boy','boy','girl','girl','boy','boy','boy','boy']\r\n",
        "weight_list = [67.5,75.3,50.1,45.5,80.8,90.4,78.4,70.7]\r\n",
        "rank_list = [8,1,5,4,7,6,2,3]\r\n",
        "myopia_list = [True,True,False,False,True,True,False,False]\r\n",
        "\r\n",
        "#1.\r\n",
        "dt=np.dtype({'names':('Name', 'sex','weight', 'rank','myopia'),'formats':((np.str_,8),(np.str_,8),float,int,(np.bool_))})\r\n",
        "array=np.zeros(8, dtype=dt)\r\n",
        "array['Name']=name_list\r\n",
        "array['sex']=sex_list\r\n",
        "array['weight']=weight_list\r\n",
        "array['rank']=rank_list\r\n",
        "array['myopia']=myopia_list\r\n",
        "array"
      ],
      "execution_count": 28,
      "outputs": [
        {
          "output_type": "execute_result",
          "data": {
            "text/plain": [
              "array([('小明', 'boy', 67.5, 8,  True), ('小華', 'boy', 75.3, 1,  True),\n",
              "       ('小菁', 'girl', 50.1, 5, False), ('小美', 'girl', 45.5, 4, False),\n",
              "       ('小張', 'boy', 80.8, 7,  True), ('John', 'boy', 90.4, 6,  True),\n",
              "       ('Mark', 'boy', 78.4, 2, False), ('Tom', 'boy', 70.7, 3, False)],\n",
              "      dtype=[('Name', '<U8'), ('sex', '<U8'), ('weight', '<f8'), ('rank', '<i8'), ('myopia', '?')])"
            ]
          },
          "metadata": {
            "tags": []
          },
          "execution_count": 28
        }
      ]
    },
    {
      "cell_type": "code",
      "metadata": {
        "colab": {
          "base_uri": "https://localhost:8080/"
        },
        "id": "6WAksN3QUlj-",
        "outputId": "adc9964a-ae84-478a-a7ae-100d4f6877a9"
      },
      "source": [
        "#2. \r\n",
        "print('平均體重: ',np.average(array['weight']),sep='')"
      ],
      "execution_count": 33,
      "outputs": [
        {
          "output_type": "stream",
          "text": [
            "平均體重: 69.8375\n"
          ],
          "name": "stdout"
        }
      ]
    },
    {
      "cell_type": "code",
      "metadata": {
        "colab": {
          "base_uri": "https://localhost:8080/"
        },
        "id": "ylEvfbf1Vmfs",
        "outputId": "c496a3a6-6123-49a6-c7e8-12aa259bdbe2"
      },
      "source": [
        "#3.\r\n",
        "print('平均男生體重: ',np.average(array[array['sex']=='boy']['weight']),sep='')\r\n",
        "print('平均女生體重: ',np.average(array[array['sex']=='girl']['weight']),sep='')"
      ],
      "execution_count": 34,
      "outputs": [
        {
          "output_type": "stream",
          "text": [
            "平均男生體重: 77.18333333333332\n",
            "平均女生體重: 47.8\n"
          ],
          "name": "stdout"
        }
      ]
    },
    {
      "cell_type": "code",
      "metadata": {
        "id": "uNqsrKlMYGdM"
      },
      "source": [
        ""
      ],
      "execution_count": null,
      "outputs": []
    }
  ]
}