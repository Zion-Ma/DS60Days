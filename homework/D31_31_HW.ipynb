{
  "nbformat": 4,
  "nbformat_minor": 0,
  "metadata": {
    "colab": {
      "name": "D31_31_HW.ipynb",
      "provenance": [],
      "collapsed_sections": []
    },
    "kernelspec": {
      "name": "python3",
      "display_name": "Python 3"
    }
  },
  "cells": [
    {
      "cell_type": "code",
      "metadata": {
        "id": "EuHYJQIo3BCW"
      },
      "source": [
        "#1\r\n",
        "'''\r\n",
        " lost weigh >10 | => H1\r\n",
        " lost weigh <10 | => H0\r\n",
        " lost weigh =10 | => critical point "
      ],
      "execution_count": null,
      "outputs": []
    },
    {
      "cell_type": "code",
      "metadata": {
        "id": "L42_12j9BMMq"
      },
      "source": [
        "#2\r\n",
        "'''\r\n",
        "Market Share <=12% | => H1\r\n",
        "Market Share >12% | => H0"
      ],
      "execution_count": null,
      "outputs": []
    }
  ]
}