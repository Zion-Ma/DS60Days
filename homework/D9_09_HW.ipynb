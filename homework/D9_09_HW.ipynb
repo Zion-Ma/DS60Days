{
  "nbformat": 4,
  "nbformat_minor": 0,
  "metadata": {
    "colab": {
      "name": "D9_09_HW.ipynb",
      "provenance": []
    },
    "kernelspec": {
      "name": "python3",
      "display_name": "Python 3"
    }
  },
  "cells": [
    {
      "cell_type": "code",
      "metadata": {
        "id": "Kvedj1nxd_Re"
      },
      "source": [
        "import pandas as pd\r\n",
        "boston_data=pd.read_csv('boston.csv',usecols=['CHAS','NOX','RM'])\r\n",
        "boston_data.to_excel('boston.xlsx')"
      ],
      "execution_count": 1,
      "outputs": []
    }
  ]
}