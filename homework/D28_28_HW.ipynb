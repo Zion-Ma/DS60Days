{
  "nbformat": 4,
  "nbformat_minor": 0,
  "metadata": {
    "colab": {
      "name": "D28_28_HW.ipynb",
      "provenance": [],
      "collapsed_sections": []
    },
    "kernelspec": {
      "name": "python3",
      "display_name": "Python 3"
    }
  },
  "cells": [
    {
      "cell_type": "code",
      "metadata": {
        "id": "oVP6gTJBzzMW"
      },
      "source": [
        "# library\r\n",
        "import matplotlib.pyplot as plt\r\n",
        "import numpy as np\r\n",
        "import pandas as pd\r\n",
        "import scipy.stats as stats\r\n",
        "import math\r\n",
        "import statistics\r\n",
        "%matplotlib inline"
      ],
      "execution_count": 1,
      "outputs": []
    },
    {
      "cell_type": "code",
      "metadata": {
        "id": "BOpskhPC49dj"
      },
      "source": [
        "#1\r\n",
        "#超幾何分布"
      ],
      "execution_count": null,
      "outputs": []
    },
    {
      "cell_type": "code",
      "metadata": {
        "colab": {
          "base_uri": "https://localhost:8080/"
        },
        "id": "uWKnLJfj5WyQ",
        "outputId": "493c163b-90d4-4dfd-fc07-1c77475151e7"
      },
      "source": [
        "n=6\r\n",
        "M=49\r\n",
        "N=6\r\n",
        "k=6\r\n",
        "probs=stats.hypergeom.pmf(k,M,N,n)\r\n",
        "print('中獎機率=',probs)"
      ],
      "execution_count": 3,
      "outputs": [
        {
          "output_type": "stream",
          "text": [
            "中獎機率= 7.151123842018523e-08\n"
          ],
          "name": "stdout"
        }
      ]
    },
    {
      "cell_type": "code",
      "metadata": {
        "id": "hPFcV9bZ6P6_"
      },
      "source": [
        "# 若為隨機抽取，則兩者種獎機率相同。但若有人為干預電腦亂數操作，則不一定。"
      ],
      "execution_count": null,
      "outputs": []
    }
  ]
}