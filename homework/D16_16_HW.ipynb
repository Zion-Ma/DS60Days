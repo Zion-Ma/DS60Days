{
  "nbformat": 4,
  "nbformat_minor": 0,
  "metadata": {
    "colab": {
      "name": "D16_16_HW.ipynb",
      "provenance": []
    },
    "kernelspec": {
      "name": "python3",
      "display_name": "Python 3"
    }
  },
  "cells": [
    {
      "cell_type": "code",
      "metadata": {
        "colab": {
          "base_uri": "https://localhost:8080/"
        },
        "id": "-gHWSHVncwDm",
        "outputId": "e234b8eb-4051-4067-ed7d-ccab8542336f"
      },
      "source": [
        "import pandas as pd\r\n",
        "import numpy as np\r\n",
        "index = pd.date_range(\"1/1/2019\", periods=20, freq='D')\r\n",
        "series = pd.Series(range(20), index=index)\r\n",
        "index,series"
      ],
      "execution_count": 1,
      "outputs": [
        {
          "output_type": "execute_result",
          "data": {
            "text/plain": [
              "(DatetimeIndex(['2019-01-01', '2019-01-02', '2019-01-03', '2019-01-04',\n",
              "                '2019-01-05', '2019-01-06', '2019-01-07', '2019-01-08',\n",
              "                '2019-01-09', '2019-01-10', '2019-01-11', '2019-01-12',\n",
              "                '2019-01-13', '2019-01-14', '2019-01-15', '2019-01-16',\n",
              "                '2019-01-17', '2019-01-18', '2019-01-19', '2019-01-20'],\n",
              "               dtype='datetime64[ns]', freq='D'), 2019-01-01     0\n",
              " 2019-01-02     1\n",
              " 2019-01-03     2\n",
              " 2019-01-04     3\n",
              " 2019-01-05     4\n",
              " 2019-01-06     5\n",
              " 2019-01-07     6\n",
              " 2019-01-08     7\n",
              " 2019-01-09     8\n",
              " 2019-01-10     9\n",
              " 2019-01-11    10\n",
              " 2019-01-12    11\n",
              " 2019-01-13    12\n",
              " 2019-01-14    13\n",
              " 2019-01-15    14\n",
              " 2019-01-16    15\n",
              " 2019-01-17    16\n",
              " 2019-01-18    17\n",
              " 2019-01-19    18\n",
              " 2019-01-20    19\n",
              " Freq: D, dtype: int64)"
            ]
          },
          "metadata": {
            "tags": []
          },
          "execution_count": 1
        }
      ]
    },
    {
      "cell_type": "code",
      "metadata": {
        "colab": {
          "base_uri": "https://localhost:8080/"
        },
        "id": "67ULKhrcdC5C",
        "outputId": "5c58598c-5db3-46b1-816a-9e8827adcff0"
      },
      "source": [
        "#1\r\n",
        "series.to_period(freq='W')"
      ],
      "execution_count": 2,
      "outputs": [
        {
          "output_type": "execute_result",
          "data": {
            "text/plain": [
              "2018-12-31/2019-01-06     0\n",
              "2018-12-31/2019-01-06     1\n",
              "2018-12-31/2019-01-06     2\n",
              "2018-12-31/2019-01-06     3\n",
              "2018-12-31/2019-01-06     4\n",
              "2018-12-31/2019-01-06     5\n",
              "2019-01-07/2019-01-13     6\n",
              "2019-01-07/2019-01-13     7\n",
              "2019-01-07/2019-01-13     8\n",
              "2019-01-07/2019-01-13     9\n",
              "2019-01-07/2019-01-13    10\n",
              "2019-01-07/2019-01-13    11\n",
              "2019-01-07/2019-01-13    12\n",
              "2019-01-14/2019-01-20    13\n",
              "2019-01-14/2019-01-20    14\n",
              "2019-01-14/2019-01-20    15\n",
              "2019-01-14/2019-01-20    16\n",
              "2019-01-14/2019-01-20    17\n",
              "2019-01-14/2019-01-20    18\n",
              "2019-01-14/2019-01-20    19\n",
              "Freq: W-SUN, dtype: int64"
            ]
          },
          "metadata": {
            "tags": []
          },
          "execution_count": 2
        }
      ]
    },
    {
      "cell_type": "code",
      "metadata": {
        "colab": {
          "base_uri": "https://localhost:8080/"
        },
        "id": "iUwnzdeydWU1",
        "outputId": "0266935f-f024-43ac-f1c9-cd85e36a400b"
      },
      "source": [
        "#2\r\n",
        "series.to_period(freq='W').mean()"
      ],
      "execution_count": 3,
      "outputs": [
        {
          "output_type": "execute_result",
          "data": {
            "text/plain": [
              "9.5"
            ]
          },
          "metadata": {
            "tags": []
          },
          "execution_count": 3
        }
      ]
    },
    {
      "cell_type": "code",
      "metadata": {
        "id": "eRQqhBSbdg1r"
      },
      "source": [
        ""
      ],
      "execution_count": null,
      "outputs": []
    }
  ]
}