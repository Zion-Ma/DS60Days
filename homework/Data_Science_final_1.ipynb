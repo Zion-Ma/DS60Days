{
  "nbformat": 4,
  "nbformat_minor": 0,
  "metadata": {
    "colab": {
      "name": "Data_Science_final_1.ipynb",
      "private_outputs": true,
      "provenance": [],
      "collapsed_sections": []
    },
    "kernelspec": {
      "name": "python3",
      "display_name": "Python 3"
    },
    "language_info": {
      "name": "python"
    }
  },
  "cells": [
    {
      "cell_type": "code",
      "metadata": {
        "id": "GxiIO3TEVH44"
      },
      "source": [
        "!pip install plotly"
      ],
      "execution_count": null,
      "outputs": []
    },
    {
      "cell_type": "code",
      "metadata": {
        "id": "3gc6umJnVT5P"
      },
      "source": [
        "# 載入所需要的套件\n",
        "\n",
        "import numpy as np \n",
        "import pandas as pd \n",
        "import matplotlib.pyplot as plt\n",
        "import plotly.graph_objects as go\n",
        "import plotly.express as px\n",
        "pd.set_option('display.max_rows', None)\n",
        "from plotly.subplots import make_subplots\n",
        "import seaborn as sns\n",
        "import datetime"
      ],
      "execution_count": null,
      "outputs": []
    },
    {
      "cell_type": "code",
      "metadata": {
        "id": "WUoiLF4EVWQT"
      },
      "source": [
        "data = pd.read_csv('/content/drive/MyDrive/ML 60 DAYS/covid_19_data.csv')"
      ],
      "execution_count": null,
      "outputs": []
    },
    {
      "cell_type": "code",
      "metadata": {
        "id": "a0j0Mrgsm8S2"
      },
      "source": [
        "data.shape"
      ],
      "execution_count": null,
      "outputs": []
    },
    {
      "cell_type": "code",
      "metadata": {
        "id": "BWD7YbvxnEPO"
      },
      "source": [
        "data.head()"
      ],
      "execution_count": null,
      "outputs": []
    },
    {
      "cell_type": "code",
      "metadata": {
        "id": "sJ6NE8SkVtp0"
      },
      "source": [
        "data.isnull().sum()"
      ],
      "execution_count": null,
      "outputs": []
    },
    {
      "cell_type": "code",
      "metadata": {
        "id": "M3iYEJLFWBfx"
      },
      "source": [
        "data.info()"
      ],
      "execution_count": null,
      "outputs": []
    },
    {
      "cell_type": "code",
      "metadata": {
        "id": "je7IXP5QW6Rj"
      },
      "source": [
        "NAN = [(c,data[c].isna().mean()*100) for c in data]\n",
        "NAN = pd.DataFrame(NAN, columns=[\"column_name\", \"percentage\"])\n",
        "NAN"
      ],
      "execution_count": null,
      "outputs": []
    },
    {
      "cell_type": "code",
      "metadata": {
        "id": "8vkrhumDXODW"
      },
      "source": [
        "data[\"Province/State\"]= data[\"Province/State\"].fillna('Unknown')"
      ],
      "execution_count": null,
      "outputs": []
    },
    {
      "cell_type": "code",
      "metadata": {
        "id": "7vcLkHiwX5yG"
      },
      "source": [
        "data.head()"
      ],
      "execution_count": null,
      "outputs": []
    },
    {
      "cell_type": "code",
      "metadata": {
        "id": "1_vLaZitYM6f"
      },
      "source": [
        "data[[\"Confirmed\",\"Deaths\",\"Recovered\"]] = data[[\"Confirmed\",\"Deaths\",\"Recovered\"]].astype(int)"
      ],
      "execution_count": null,
      "outputs": []
    },
    {
      "cell_type": "code",
      "metadata": {
        "id": "s79lXORrYsyt"
      },
      "source": [
        "data['Country/Region'] = data['Country/Region'].replace('Mainland China','China')"
      ],
      "execution_count": null,
      "outputs": []
    },
    {
      "cell_type": "code",
      "metadata": {
        "id": "IKNueTqlY9V3"
      },
      "source": [
        "data['Active_case'] = data['Confirmed'] - data['Deaths'] - data['Recovered']\n",
        "data.head()"
      ],
      "execution_count": null,
      "outputs": []
    },
    {
      "cell_type": "code",
      "metadata": {
        "id": "qUSbjtTJZC3h"
      },
      "source": [
        "Data=data[data['ObservationDate'] == max(data['ObservationDate'])].reset_index(drop=True)\n",
        "Data"
      ],
      "execution_count": null,
      "outputs": []
    },
    {
      "cell_type": "code",
      "metadata": {
        "id": "tm-JjhdBcg7b"
      },
      "source": [
        "Data.groupby('ObservationDate').size()"
      ],
      "execution_count": null,
      "outputs": []
    },
    {
      "cell_type": "code",
      "metadata": {
        "id": "hW0TJvTsZxAH"
      },
      "source": [
        "Data.describe()"
      ],
      "execution_count": null,
      "outputs": []
    },
    {
      "cell_type": "code",
      "metadata": {
        "id": "OgBn2oDjZ12L"
      },
      "source": [
        "Data_world = Data.groupby(['ObservationDate'])[['Confirmed','Active_case','Recovered','Deaths']].sum().reset_index()\n",
        "Data_world"
      ],
      "execution_count": null,
      "outputs": []
    },
    {
      "cell_type": "code",
      "metadata": {
        "id": "JQ_j2T-EbRjH"
      },
      "source": [
        "labels = [\"Last Update\",\"Confirmed\",\"Active cases\",\"Recovered\",\"Deaths\"]\n",
        "fig = go.Figure(data=[go.Table(header=dict(values=labels),\n",
        "                      cells=dict(values=Data_world.loc[0,['ObservationDate',\"Confirmed\",\"Active_case\",\"Recovered\",\"Deaths\"]]))\n",
        "                      ])\n",
        "fig.update_layout(title='Coronavirus in the world:')\n",
        "fig.show()"
      ],
      "execution_count": null,
      "outputs": []
    },
    {
      "cell_type": "code",
      "metadata": {
        "id": "8Y35YEIoc7MH"
      },
      "source": [
        "labels = ['Active cases','Recovered','Deaths']\n",
        "\n",
        "values = Data_world.loc[0,['Active_case','Recovered','Deaths']]\n",
        "fig = px.pie(Data_world,values=values,names=labels,color_discrete_sequence=['rgb(69,144,185)','rgb(77,146,33)','rgb(77,77,77)'],hole=0.7)\n",
        "fig.update_layout(title='Total cases: '+str(Data_world['Confirmed'][0]))"
      ],
      "execution_count": null,
      "outputs": []
    },
    {
      "cell_type": "code",
      "metadata": {
        "id": "KyyG-Dz_dOT2"
      },
      "source": [
        "data_over_time=data.groupby(['ObservationDate'])[['Confirmed','Active_case','Recovered','Deaths']].sum().reset_index().sort_values('ObservationDate',ascending=True).reset_index(drop=True)"
      ],
      "execution_count": null,
      "outputs": []
    },
    {
      "cell_type": "code",
      "metadata": {
        "id": "UrcsDuOzFFTZ"
      },
      "source": [
        "fig=go.Figure()\n",
        "fig.add_trace(go.Scatter(x=data_over_time.index,y=data_over_time['Confirmed'],\n",
        "                         mode='lines',name='Confirmed cases'))\n",
        "\n",
        "fig.update_layout(title='Evolution of Confirmed cases over time in the word',\n",
        "                  template='plotly_white',\n",
        "                  yaxis_title='Confirmed cases',\n",
        "                  xaxis_title='Days')\n",
        "\n",
        "fig.show()"
      ],
      "execution_count": null,
      "outputs": []
    },
    {
      "cell_type": "code",
      "metadata": {
        "id": "ucv8G4nbGu7G"
      },
      "source": [
        "fig = go.Figure()\n",
        "\n",
        "fig.add_trace(go.Scatter(x=data_over_time.index,y=data_over_time['Active_case'],\n",
        "                         mode='lines',marker_color='yellow',\n",
        "                         name='Acitve cases',line=dict(dash='dot')))\n",
        "\n",
        "fig.update_layout(title='Evolution of Active cases over time in the world',\n",
        "                  template='plotly_dark',\n",
        "                  yaxis_title=\"Active cases\",\n",
        "                  xaxis_title=\"Days\")"
      ],
      "execution_count": null,
      "outputs": []
    },
    {
      "cell_type": "code",
      "metadata": {
        "id": "mC2Ngh6NHv3s"
      },
      "source": [
        "fig = go.Figure()\n",
        "\n",
        "fig.add_trace(go.Scatter(x=data_over_time.index,y=data_over_time['Recovered'],\n",
        "                         mode='lines',\n",
        "                         name='Recovered cases',marker_color='green'))\n",
        "\n",
        "fig.update_layout(title='Evolution of Active cases over time in the world',\n",
        "                  template='plotly_white',\n",
        "                  yaxis_title=\"Recovered cases\",\n",
        "                  xaxis_title=\"Days\")"
      ],
      "execution_count": null,
      "outputs": []
    },
    {
      "cell_type": "code",
      "metadata": {
        "id": "pe0ue74GId4N"
      },
      "source": [
        "fig = go.Figure()\n",
        "\n",
        "fig.add_trace(go.Scatter(x=data_over_time.index,y=data_over_time['Deaths'],\n",
        "                         mode='lines',marker_color='black',\n",
        "                         name='Deaths',line=dict(dash='dot')))\n",
        "\n",
        "fig.update_layout(title='Evolution of Active cases over time in the world',\n",
        "                  template='plotly_white',\n",
        "                  yaxis_title=\"Deaths\",\n",
        "                  xaxis_title=\"Days\")"
      ],
      "execution_count": null,
      "outputs": []
    },
    {
      "cell_type": "code",
      "metadata": {
        "id": "2fJsqPksIyAD"
      },
      "source": [
        "fig = go.Figure()\n",
        "\n",
        "fig.add_trace(go.Bar(x=data_over_time.ObservationDate,y=data_over_time['Confirmed'],\n",
        "                        #  mode='lines',marker_color='black',\n",
        "                        #  name='Deaths',line=dict(dash='dot')\n",
        "                         ))\n",
        "\n",
        "fig.update_layout(title='Confirmed Cases In Each Day',\n",
        "                  template='plotly_white',\n",
        "                  yaxis_title=\"Confirmed Cases\",\n",
        "                  xaxis_title=\"Days\")"
      ],
      "execution_count": null,
      "outputs": []
    },
    {
      "cell_type": "code",
      "metadata": {
        "id": "YtRigUm-JcjQ"
      },
      "source": [
        "fig = go.Figure()\n",
        "\n",
        "fig.add_trace(go.Bar(x=data_over_time.ObservationDate,y=data_over_time['Active_case'],\n",
        "                        #  mode='lines',\n",
        "                         marker_color='rgb(253,187,132)'\n",
        "                        #  name='Deaths',line=dict(dash='dot')\n",
        "                         ))\n",
        "\n",
        "fig.update_layout(title='Active Cases In Each Day',\n",
        "                  template='plotly_dark',\n",
        "                  yaxis_title=\"Active Cases\",\n",
        "                  xaxis_title=\"Days\")"
      ],
      "execution_count": null,
      "outputs": []
    },
    {
      "cell_type": "code",
      "metadata": {
        "id": "H86xtncjJ46M"
      },
      "source": [
        "fig = go.Figure()\n",
        "\n",
        "fig.add_trace(go.Bar(x=data_over_time.ObservationDate,y=data_over_time['Recovered'],\n",
        "                        #  mode='lines',\n",
        "                         marker_color='rgb(178,24,43)'\n",
        "                        #  name='Deaths',line=dict(dash='dot')\n",
        "                         ))\n",
        "\n",
        "fig.update_layout(title='Recovered Cases In Each Day',\n",
        "                  template='plotly_white',\n",
        "                  yaxis_title=\"Recovered Cases\",\n",
        "                  xaxis_title=\"Days\")"
      ],
      "execution_count": null,
      "outputs": []
    },
    {
      "cell_type": "code",
      "metadata": {
        "id": "71TeuQPNNT-s"
      },
      "source": [
        "fig = go.Figure()\n",
        "\n",
        "fig.add_trace(go.Bar(x=data_over_time.ObservationDate,y=data_over_time['Deaths'],\n",
        "                        #  mode='lines',\n",
        "                         marker_color='rgb(13,48,100)'\n",
        "                        #  name='Deaths',line=dict(dash='dot')\n",
        "                         ))\n",
        "\n",
        "fig.update_layout(title='Deaths In Each Day',\n",
        "                  template='plotly_white',\n",
        "                  yaxis_title=\"Deaths\",\n",
        "                  xaxis_title=\"Days\")"
      ],
      "execution_count": null,
      "outputs": []
    },
    {
      "cell_type": "code",
      "metadata": {
        "id": "4QI9-lS1NlTr"
      },
      "source": [
        "Data_per_country= Data.groupby('Country/Region')['Confirmed','Active_case','Recovered',\"Deaths\"].sum().reset_index().sort_values(\"Confirmed\",ascending=False).reset_index(drop=True)\n",
        "Data_per_country"
      ],
      "execution_count": null,
      "outputs": []
    },
    {
      "cell_type": "code",
      "metadata": {
        "id": "YDwyURZMODPn"
      },
      "source": [
        "headerColor = 'grey'\n",
        "rowEvenColor = 'lightgrey'\n",
        "rowOddColor = 'white'\n",
        "\n",
        "fig=go.Figure(data=[go.Table(\n",
        "                header=dict(values=['<b>Country</b>','<b>Confirmed Cases</b>'],\n",
        "                            line_color='darkslategray',    \n",
        "                      fill_color=headerColor,\n",
        "                      align=['left','center'],\n",
        "                      font=dict(color='white',size=12),\n",
        "                ),\n",
        "                cells=dict(\n",
        "                            values=[\n",
        "                                   Data_per_country['Country/Region'],\n",
        "                                   Data_per_country.Confirmed\n",
        "                                   ],\n",
        "                           line_color='darkslategray',\n",
        "                           fill_color=[[rowOddColor,rowEvenColor,rowOddColor,rowEvenColor,rowOddColor]*len(Data_per_country)],\n",
        "                           align=['left','center'],\n",
        "                           font=dict(color='darkslategray',size=11)\n",
        "                           )\n",
        "                )\n",
        "])\n",
        "\n",
        "fig.update_layout(title='Confirmed Cases In Each Country')\n",
        "\n",
        "fig.show()"
      ],
      "execution_count": null,
      "outputs": []
    },
    {
      "cell_type": "code",
      "metadata": {
        "id": "WVeqCIzMRqpw"
      },
      "source": [
        "fig = go.Figure(go.Bar(\n",
        "            x=Data_per_country['Confirmed'],\n",
        "            y=Data_per_country['Country/Region'],\n",
        "            orientation='h'))\n",
        "fig.update_layout(\n",
        "    title='Confirmed Cases In Each Country',\n",
        "    template='plotly_white',\n",
        "     xaxis_title=\"Confirmed Cases\",\n",
        "    yaxis_title=\"Countries\",\n",
        ")\n",
        "fig.show()"
      ],
      "execution_count": null,
      "outputs": []
    },
    {
      "cell_type": "code",
      "metadata": {
        "id": "RylK_YCyUCC_"
      },
      "source": [
        "fig = go.Figure(go.Bar(\n",
        "            x=Data_per_country['Active_case'],\n",
        "            y=Data_per_country['Country/Region'],\n",
        "            orientation='h',\n",
        "            marker_color='#DC3912',))\n",
        "fig.update_layout(\n",
        "    title='Active Cases In Each Country',\n",
        "    template='plotly_white',\n",
        "    xaxis_title=\"Active Cases\",\n",
        "    yaxis_title=\"Countries\",\n",
        ")\n",
        "fig.show()"
      ],
      "execution_count": null,
      "outputs": []
    },
    {
      "cell_type": "code",
      "metadata": {
        "id": "RuU_83OxUes2"
      },
      "source": [
        "fig = go.Figure(go.Bar(\n",
        "            x=Data_per_country['Deaths'],\n",
        "            y=Data_per_country['Country/Region'],\n",
        "            orientation='h',\n",
        "            marker_color='black',))\n",
        "fig.update_layout(\n",
        "    title='Deaths In Each Country',\n",
        "    template='plotly_white',\n",
        "    xaxis_title=\"Deaths\",\n",
        "    yaxis_title=\"Countries\",\n",
        ")\n",
        "\n",
        "fig.show()"
      ],
      "execution_count": null,
      "outputs": []
    },
    {
      "cell_type": "code",
      "metadata": {
        "id": "Fbqq1iUgUt9L"
      },
      "source": [
        "fig = go.Figure(go.Bar(\n",
        "            x=Data_per_country['Recovered'],\n",
        "            y=Data_per_country['Country/Region'],\n",
        "            orientation='h',\n",
        "            marker_color='#2CA02C',))\n",
        "fig.update_layout(\n",
        "    title='Recovered Cases In Each Country',\n",
        "    template='plotly_white',\n",
        "     xaxis_title=\"Recovered Cases\",\n",
        "    yaxis_title=\"Countries\",\n",
        ")\n",
        "fig.show()"
      ],
      "execution_count": null,
      "outputs": []
    },
    {
      "cell_type": "code",
      "metadata": {
        "id": "JiA1owq6UzQI"
      },
      "source": [
        "fig = px.choropleth(\n",
        "                    Data_per_country,locations=Data_per_country['Country/Region'],\n",
        "                    color=Data_per_country['Confirmed'],locationmode='country names',\n",
        "                    hover_name=Data_per_country['Country/Region'],\n",
        "                    color_continuous_scale=px.colors.sequential.Tealgrn,template='plotly_dark'\n",
        "                                           )\n",
        "fig.update_layout(\n",
        "    title='Confirmed Cases In Each Country'\n",
        ")\n",
        "fig.show()"
      ],
      "execution_count": null,
      "outputs": []
    },
    {
      "cell_type": "code",
      "metadata": {
        "id": "h1GgG3S_V_Gg"
      },
      "source": [
        "fig = px.choropleth(\n",
        "                    Data_per_country,locations=Data_per_country['Country/Region'],\n",
        "                    color=Data_per_country['Recovered'],locationmode='country names',\n",
        "                    hover_name=Data_per_country['Country/Region'],\n",
        "                    color_continuous_scale=px.colors.sequential.Tealgrn,template='plotly_white'\n",
        "                                           )\n",
        "fig.update_layout(\n",
        "    title='Confirmed Cases In Each Country'\n",
        ")\n",
        "fig.show()"
      ],
      "execution_count": null,
      "outputs": []
    },
    {
      "cell_type": "code",
      "metadata": {
        "id": "Dkfft9J6bTHS"
      },
      "source": [
        "fig = px.choropleth(\n",
        "                    Data_per_country,locations=Data_per_country['Country/Region'],\n",
        "                    color=Data_per_country['Deaths'],locationmode='country names',\n",
        "                    hover_name=Data_per_country['Country/Region'],\n",
        "                    color_continuous_scale=px.colors.sequential.Tealgrn,template='plotly_dark'\n",
        "                                           )\n",
        "fig.update_layout(\n",
        "    title='Confirmed Cases In Each Country'\n",
        ")\n",
        "fig.show()"
      ],
      "execution_count": null,
      "outputs": []
    },
    {
      "cell_type": "code",
      "metadata": {
        "id": "vebQPF2TbdSq"
      },
      "source": [
        "data_per_country = data.groupby([\"Country/Region\",\"ObservationDate\"])[[\"Confirmed\",\"Active_case\",\"Recovered\",\"Deaths\"]].sum().reset_index().sort_values(\"ObservationDate\",ascending=True).reset_index(drop=True)\n",
        "data_per_country"
      ],
      "execution_count": null,
      "outputs": []
    },
    {
      "cell_type": "code",
      "metadata": {
        "id": "95Fz0L0EbuMx"
      },
      "source": [
        "fig = px.choropleth(data_per_country, locations=data_per_country['Country/Region'],\n",
        "                    color=data_per_country['Confirmed'],locationmode='country names', \n",
        "                    hover_name=data_per_country['Country/Region'], \n",
        "                    color_continuous_scale=px.colors.sequential.deep,\n",
        "                    animation_frame=\"ObservationDate\")\n",
        "fig.update_layout(\n",
        "\n",
        "    title='Evolution of confirmed cases In Each Country',\n",
        ")\n",
        "fig.show()"
      ],
      "execution_count": null,
      "outputs": []
    },
    {
      "cell_type": "code",
      "metadata": {
        "id": "_b2qAo3MgR5J"
      },
      "source": [
        "fig = px.choropleth(data_per_country, locations=data_per_country['Country/Region'],\n",
        "                    color=data_per_country['Active_case'],locationmode='country names', \n",
        "                    hover_name=data_per_country['Country/Region'], \n",
        "                    color_continuous_scale=px.colors.sequential.deep,\n",
        "                    animation_frame=\"ObservationDate\")\n",
        "fig.update_layout(\n",
        "\n",
        "    title='Evolution of active cases In Each Country',template='plotly_dark'\n",
        ")\n",
        "fig.show()"
      ],
      "execution_count": null,
      "outputs": []
    },
    {
      "cell_type": "code",
      "metadata": {
        "id": "CRFUoPSigtmM"
      },
      "source": [
        "fig = px.choropleth(data_per_country, locations=data_per_country['Country/Region'],\n",
        "                    color=data_per_country['Recovered'],locationmode='country names', \n",
        "                    hover_name=data_per_country['Country/Region'], \n",
        "                    color_continuous_scale=px.colors.sequential.deep,\n",
        "                    animation_frame=\"ObservationDate\")\n",
        "fig.update_layout(\n",
        "    title='Evolution of recovered cases In Each Country',\n",
        ")\n",
        "fig.show()"
      ],
      "execution_count": null,
      "outputs": []
    },
    {
      "cell_type": "code",
      "metadata": {
        "id": "CmhtoOi7hKfr"
      },
      "source": [
        "fig = px.choropleth(data_per_country, locations=data_per_country['Country/Region'],\n",
        "                    color=data_per_country['Deaths'],locationmode='country names', \n",
        "                    hover_name=data_per_country['Country/Region'], \n",
        "                    color_continuous_scale=px.colors.sequential.deep,\n",
        "                    animation_frame=\"ObservationDate\")\n",
        "fig.update_layout(\n",
        "    title='Evolution of recovered cases In Each Country',template='plotly_dark'\n",
        ")\n",
        "fig.show()"
      ],
      "execution_count": null,
      "outputs": []
    },
    {
      "cell_type": "code",
      "metadata": {
        "id": "UaBWZGQjhlHv"
      },
      "source": [
        "fig = go.Figure(data=[go.Bar(\n",
        "    x = Data_per_country['Country/Region'][:10],y=Data_per_country['Confirmed'][:10],\n",
        "    text=Data_per_country['Confirmed'][:10],\n",
        "    textposition='auto',\n",
        "    marker_color='black',\n",
        "    )])\n",
        "\n",
        "fig.update_layout(\n",
        "    title='Most 10 infected Countries',\n",
        "    xaxis_title=\"Countries\",\n",
        "    yaxis_title=\"Confirmed Cases\",\n",
        "        template='plotly_white'\n",
        "\n",
        ")\n",
        "fig.show()"
      ],
      "execution_count": null,
      "outputs": []
    },
    {
      "cell_type": "code",
      "metadata": {
        "id": "dmTEFmjLiprS"
      },
      "source": [
        "fig = go.Figure(data=[go.Scatter(\n",
        "    x=Data_per_country['Country/Region'][:10],\n",
        "    y=Data_per_country.Confirmed[:10],\n",
        "    mode='markers',\n",
        "    marker=dict(\n",
        "        color=100+np.random.randn(500),\n",
        "        size=(Data_per_country.Confirmed[:10]/25000),\n",
        "        showscale=True\n",
        "    )\n",
        ")])\n",
        "\n",
        "fig.update_layout(\n",
        "    title='10 most infected Countries',\n",
        "    xaxis_title=\"Countries\",\n",
        "    yaxis_title=\"Confirmed Cases\",\n",
        "    template='plotly_dark'\n",
        ")\n",
        "fig.show()"
      ],
      "execution_count": null,
      "outputs": []
    },
    {
      "cell_type": "code",
      "metadata": {
        "id": "6-Cwu0JKkNWu"
      },
      "source": [
        "Recovered_per_country = Data.groupby([\"Country/Region\"])[\"Recovered\"].sum().reset_index().sort_values(\"Recovered\",ascending=False).reset_index(drop=True)\n",
        "Recovered_per_country.head()"
      ],
      "execution_count": null,
      "outputs": []
    },
    {
      "cell_type": "code",
      "metadata": {
        "id": "-N5AXaGbk7-j"
      },
      "source": [
        "headerColor = 'grey'\n",
        "rowEvenColor = 'lightgrey'\n",
        "rowOddColor = 'white'\n",
        "\n",
        "fig = go.Figure(data=[go.Table(\n",
        "    header=dict(\n",
        "        values=['<b>Country</b>','<b>Recovered Cases</b>'],\n",
        "        line_color='darkslategray',\n",
        "        fill_color=headerColor,\n",
        "        align=['center','center'],\n",
        "        font=dict(color='white',size=12)\n",
        "    ),\n",
        "    cells=dict(\n",
        "        values=[Recovered_per_country['Country/Region'],\n",
        "                Recovered_per_country.Recovered\n",
        "                ],\n",
        "         line_color='darkslategray',\n",
        "         fill_color=[[rowOddColor,rowEvenColor]*len(Data_per_country)],\n",
        "         align=['center','center'],\n",
        "         font=dict(color='darkslategray',size=11)\n",
        "    )\n",
        ")])\n",
        "\n",
        "fig.update_layout(\n",
        "    title='Recovered Cases In Each Country',\n",
        ")\n",
        "fig.show()"
      ],
      "execution_count": null,
      "outputs": []
    },
    {
      "cell_type": "code",
      "metadata": {
        "id": "9rq2O2Yep12A"
      },
      "source": [
        "fig = px.pie(Recovered_per_country,values=Recovered_per_country['Recovered'],names=Recovered_per_country['Country/Region'],\n",
        "             title='Recovered cases')\n",
        "fig.update_traces(textposition='inside',textinfo='label+percent')\n",
        "fig.update_layout(template='plotly_white')\n",
        "fig.show()"
      ],
      "execution_count": null,
      "outputs": []
    },
    {
      "cell_type": "code",
      "metadata": {
        "id": "ugFKRCibqZtK"
      },
      "source": [
        "fig = go.Figure(data=[go.Bar(\n",
        "            x=Recovered_per_country['Country/Region'][0:10], y=Recovered_per_country['Recovered'][0:10],\n",
        "            text=Recovered_per_country['Recovered'][0:10],\n",
        "            textposition='outside',\n",
        "            marker_color='green',\n",
        "\n",
        "        )])\n",
        "fig.update_layout(\n",
        "    title='Most 10 infected Countries',\n",
        "    xaxis_title=\"Countries\",\n",
        "    yaxis_title=\"Recovered Cases\",\n",
        "    template='plotly_white'\n",
        ")\n",
        "fig.show()"
      ],
      "execution_count": null,
      "outputs": []
    },
    {
      "cell_type": "code",
      "metadata": {
        "id": "xbw5lxL4sXvI"
      },
      "source": [
        "fig = go.Figure(data=[go.Scatter(\n",
        "    x=Recovered_per_country['Country/Region'][0:10],\n",
        "    y=Recovered_per_country['Recovered'][0:10],\n",
        "    mode='markers',\n",
        "    marker=dict(\n",
        "        color=100+np.random.randn(500),\n",
        "        size=(Data_per_country['Recovered'][0:10]/20000),\n",
        "        showscale=True\n",
        "        )\n",
        ")])\n",
        "fig.update_layout(\n",
        "    title='Most 10 infected Countries',\n",
        "    xaxis_title=\"Countries\",\n",
        "    yaxis_title=\"Recovered Cases\",\n",
        "    template='plotly_white'\n",
        "\n",
        ")\n",
        "fig.show()"
      ],
      "execution_count": null,
      "outputs": []
    },
    {
      "cell_type": "code",
      "metadata": {
        "id": "E4NDMJD4sjg4"
      },
      "source": [
        "Active_per_country = Data.groupby([\"Country/Region\"])[\"Active_case\"].sum().reset_index().sort_values(\"Active_case\",ascending=False).reset_index(drop=True)\n",
        "Active_per_country.head()"
      ],
      "execution_count": null,
      "outputs": []
    },
    {
      "cell_type": "code",
      "metadata": {
        "id": "Zo-dpeZ3snBX"
      },
      "source": [
        "headerColor = 'grey'\n",
        "rowEvenColor = 'lightgrey'\n",
        "rowOddColor = 'white'\n",
        "\n",
        "fig = go.Figure(data=[go.Table(\n",
        "  header=dict(\n",
        "    values=['<b>Country</b>','<b>Active Cases</b>'],\n",
        "    line_color='darkslategray',\n",
        "    fill_color=headerColor,\n",
        "    align=['left','center'],\n",
        "    font=dict(color='white', size=12)\n",
        "  ),\n",
        "  cells=dict(\n",
        "    values=[\n",
        "      Active_per_country['Country/Region'],\n",
        "      Active_per_country['Active_case'],\n",
        "      ],\n",
        "    line_color='darkslategray',\n",
        "    # 2-D list of colors for alternating rows\n",
        "    fill_color = [[rowOddColor,rowEvenColor,rowOddColor, rowEvenColor,rowOddColor]*len(Data_per_country)],\n",
        "    align = ['left', 'center'],\n",
        "    font = dict(color = 'darkslategray', size = 11)\n",
        "    ))\n",
        "])\n",
        "fig.update_layout(\n",
        "    title='Active Cases In Each Country',\n",
        ")\n",
        "fig.show()"
      ],
      "execution_count": null,
      "outputs": []
    },
    {
      "cell_type": "code",
      "metadata": {
        "id": "zUv9yRktsvTG"
      },
      "source": [
        "fig = go.Figure(data=[go.Bar(\n",
        "            x=Active_per_country['Country/Region'][0:10], y=Active_per_country['Active_case'][0:10],\n",
        "            text=Active_per_country['Active_case'][0:10],\n",
        "           \n",
        "        )])\n",
        "fig.update_layout(\n",
        "    title='Most 10 infected Countries',\n",
        "    xaxis_title=\"Countries\",\n",
        "    yaxis_title=\"Active Cases\",\n",
        "    template='plotly_white'\n",
        ")\n",
        "fig.show()"
      ],
      "execution_count": null,
      "outputs": []
    },
    {
      "cell_type": "code",
      "metadata": {
        "id": "ZdBfkRyns6iq"
      },
      "source": [
        "fig = go.Figure(data=[go.Scatter(\n",
        "    x=Active_per_country['Country/Region'][0:10],\n",
        "    y=Active_per_country['Active_case'][0:10],\n",
        "    mode='markers',\n",
        "    marker=dict(\n",
        "        color=10+np.random.randn(200),\n",
        "\n",
        "        size=Active_per_country['Active_case'][0:10]/15000,\n",
        "        showscale=True\n",
        "        )\n",
        ")])\n",
        "fig.update_layout(\n",
        "    title='10 mose infected Countries',\n",
        "    xaxis_title=\"Countries\",\n",
        "    yaxis_title=\"Active Cases\",\n",
        "        template='plotly_white'\n",
        "\n",
        ")\n",
        "fig.show()"
      ],
      "execution_count": null,
      "outputs": []
    },
    {
      "cell_type": "code",
      "metadata": {
        "id": "X8cvBI-js-mf"
      },
      "source": [
        "Deaths_per_country = Data.groupby([\"Country/Region\"])[\"Deaths\"].sum().reset_index().sort_values(\"Deaths\",ascending=False).reset_index(drop=True)\n",
        "Deaths_per_country.head()"
      ],
      "execution_count": null,
      "outputs": []
    },
    {
      "cell_type": "code",
      "metadata": {
        "id": "d9qWuI5htDyt"
      },
      "source": [
        "headerColor = 'grey'\n",
        "rowEvenColor = 'lightgrey'\n",
        "rowOddColor = 'white'\n",
        "\n",
        "fig = go.Figure(data=[go.Table(\n",
        "  header=dict(\n",
        "    values=['<b>Country</b>','<b>Deaths</b>'],\n",
        "    line_color='darkslategray',\n",
        "    fill_color=headerColor,\n",
        "    align=['left','center'],\n",
        "    font=dict(color='white', size=12)\n",
        "  ),\n",
        "  cells=dict(\n",
        "    values=[\n",
        "      Deaths_per_country['Country/Region'],\n",
        "      Deaths_per_country['Deaths'],\n",
        "      ],\n",
        "    line_color='darkslategray',\n",
        "    # 2-D list of colors for alternating rows\n",
        "    fill_color = [[rowOddColor,rowEvenColor,rowOddColor, rowEvenColor,rowOddColor]*len(Data_per_country)],\n",
        "    align = ['left', 'center'],\n",
        "    font = dict(color = 'darkslategray', size = 11)\n",
        "    ))\n",
        "])\n",
        "fig.update_layout(\n",
        "    title='Deaths In Each Country',\n",
        ")\n",
        "fig.show()"
      ],
      "execution_count": null,
      "outputs": []
    },
    {
      "cell_type": "code",
      "metadata": {
        "id": "x_7mChE4tHB-"
      },
      "source": [
        "fig = go.Figure(data=[go.Bar(\n",
        "            x=Deaths_per_country['Country/Region'][0:10], y=Deaths_per_country['Deaths'][0:10],\n",
        "            text=Deaths_per_country['Deaths'][0:10],\n",
        "            textposition='auto',\n",
        "            marker_color='black'\n",
        "\n",
        "        )])\n",
        "fig.update_layout(\n",
        "    title='10 most infected Countries',\n",
        "    xaxis_title=\"Countries\",\n",
        "    yaxis_title=\"Deaths\",\n",
        "        template='plotly_white'\n",
        "\n",
        ")\n",
        "fig.show()"
      ],
      "execution_count": null,
      "outputs": []
    },
    {
      "cell_type": "code",
      "metadata": {
        "id": "SriUMdIltL4S"
      },
      "source": [
        "fig = go.Figure(data=[go.Scatter(\n",
        "    x=Deaths_per_country['Country/Region'][0:10],\n",
        "    y=Deaths_per_country['Deaths'][0:10],\n",
        "    mode='markers',\n",
        "    marker=dict(\n",
        "        color=[145, 140, 135, 130, 125, 120,115,110,105,100],\n",
        "        size=Deaths_per_country['Deaths'][0:10]/1000,\n",
        "        showscale=True\n",
        "        )\n",
        ")])\n",
        "fig.update_layout(\n",
        "    title='Most 10 infected Countries',\n",
        "    xaxis_title=\"Countries\",\n",
        "    yaxis_title=\"Deaths\",\n",
        "        template='plotly_white'\n",
        "\n",
        ")\n",
        "fig.show()"
      ],
      "execution_count": null,
      "outputs": []
    },
    {
      "cell_type": "code",
      "metadata": {
        "id": "EGNrFSyDtTZq"
      },
      "source": [
        "Data_China = data[data['Country/Region']=='China'].reset_index(drop=True)\n",
        "Data_China.head()"
      ],
      "execution_count": null,
      "outputs": []
    },
    {
      "cell_type": "code",
      "metadata": {
        "id": "XyT08pe4tkN4"
      },
      "source": [
        "Data_china_last = Data_China[Data_China['ObservationDate']==max(Data_China['ObservationDate'])].reset_index()\n",
        "Data_china_last.head()"
      ],
      "execution_count": null,
      "outputs": []
    },
    {
      "cell_type": "code",
      "metadata": {
        "id": "TW6FoyN-t3qF"
      },
      "source": [
        "Data_china_per_state = Data_china_last.groupby(['Province/State'])['Confirmed','Active_case','Recovered','Deaths'].sum().reset_index().sort_values('Confirmed',ascending=False).reset_index(drop=True)\n",
        "Data_china_per_state.head()\n"
      ],
      "execution_count": null,
      "outputs": []
    },
    {
      "cell_type": "code",
      "metadata": {
        "id": "QE4GVbojuoUm"
      },
      "source": [
        "fig = px.pie(Data_china_per_state,values=Data_china_per_state['Confirmed'],names=Data_china_per_state['Province/State'],\n",
        "             title='Confirmed cases in China',\n",
        "             hole=0.2)\n",
        "\n",
        "fig.update_traces(textposition='inside',textinfo='label+percent')\n",
        "fig.show()"
      ],
      "execution_count": null,
      "outputs": []
    },
    {
      "cell_type": "code",
      "metadata": {
        "id": "NhCIrcKHvPT0"
      },
      "source": [
        "fig = go.Figure(go.Bar(\n",
        "    x=Data_china_per_state.Active_case,\n",
        "    y=Data_china_per_state['Province/State'],\n",
        "    orientation='h',\n",
        "    marker_color='#DC3912'\n",
        "))\n",
        "\n",
        "fig.update_layout(\n",
        "    title='Active Cases In Each Province/State',\n",
        "    template='plotly_white',\n",
        "    xaxis_title=\"Acitve Cases\",\n",
        "    yaxis_title=\"Province/State\"\n",
        ")\n",
        "\n",
        "fig.show()"
      ],
      "execution_count": null,
      "outputs": []
    },
    {
      "cell_type": "code",
      "metadata": {
        "id": "WjjSt34Nv_F5"
      },
      "source": [
        "fig = go.Figure(go.Bar(\n",
        "    x=Data_china_per_state.Recovered,\n",
        "    y=Data_china_per_state['Province/State'],\n",
        "    orientation='h',\n",
        "    marker_color='green'\n",
        "))\n",
        "\n",
        "fig.update_layout(\n",
        "    title='Recovered Cases In Each Province/State',\n",
        "    template='plotly_white',\n",
        "    xaxis_title=\"Recovered Cases\",\n",
        "    yaxis_title=\"Province/State\"\n",
        ")\n",
        "\n",
        "fig.show()"
      ],
      "execution_count": null,
      "outputs": []
    },
    {
      "cell_type": "code",
      "metadata": {
        "id": "sV_e_-_xw4cj"
      },
      "source": [
        "fig = go.Figure(go.Bar(\n",
        "    x=Data_china_per_state.Deaths,\n",
        "    y=Data_china_per_state['Province/State'],\n",
        "    orientation='h',\n",
        "    marker_color='black'\n",
        "))\n",
        "\n",
        "fig.update_layout(\n",
        "    title='Death Cases In Each Province/State',\n",
        "    template='plotly_white',\n",
        "    xaxis_title=\"Death Cases\",\n",
        "    yaxis_title=\"Province/State\"\n",
        ")\n",
        "\n",
        "fig.show()"
      ],
      "execution_count": null,
      "outputs": []
    },
    {
      "cell_type": "code",
      "metadata": {
        "id": "p75LOl9qxFrQ"
      },
      "source": [
        "Data_china_total = Data_china_last.groupby('Country/Region')['Confirmed','Active_case','Recovered','Deaths'].sum().reset_index().reset_index(drop=True)\n",
        "Data_china_total.head()"
      ],
      "execution_count": null,
      "outputs": []
    },
    {
      "cell_type": "code",
      "metadata": {
        "id": "uioEHaf9xlF7"
      },
      "source": [
        "label = ['Active cases','Recovered','Deaths']\n",
        "values=Data_china_total.loc[0,['Active_case','Recovered','Deaths']]\n",
        "\n",
        "fig = px.pie(Data_china_total, values=values, names=labels, color_discrete_sequence=['green','royalblue','darkblue'], hole=0.5)\n",
        "fig.update_layout(\n",
        "    title='Total cases in China : '+str(Data_china_total[\"Confirmed\"][0]),\n",
        ")\n",
        "fig.show()"
      ],
      "execution_count": null,
      "outputs": []
    },
    {
      "cell_type": "code",
      "metadata": {
        "id": "A7dz1SwTyoQy"
      },
      "source": [
        "Data_china_op=Data_China.groupby(['ObservationDate','Country/Region'])['Confirmed','Deaths','Recovered','Active_case'].sum().reset_index().reset_index(drop=True)\n",
        "Data_china_op.head()"
      ],
      "execution_count": null,
      "outputs": []
    },
    {
      "cell_type": "code",
      "metadata": {
        "id": "89l0uJE5zK3K"
      },
      "source": [
        "fig = go.Figure()\n",
        "fig.add_trace(go.Scatter(x=Data_china_op['ObservationDate'],y=Data_china_op.Confirmed,\n",
        "                         mode='lines',name='Confirmed cases'\n",
        "                         ))\n",
        "\n",
        "fig.add_trace(go.Scatter(x=Data_china_op['ObservationDate'], y=Data_china_op['Active_case'],\n",
        "                    mode='lines',\n",
        "                    name='Active cases',line=dict( dash='dot')))\n",
        "\n",
        "fig.add_trace(go.Scatter(x=Data_china_op['ObservationDate'], y=Data_china_op['Deaths'],name='Deaths',\n",
        "                                   marker_color='black',mode='lines',line=dict( dash='dot') ))\n",
        "\n",
        "fig.add_trace(go.Scatter(x=Data_china_op['ObservationDate'], y=Data_china_op['Recovered'],\n",
        "                    mode='lines',\n",
        "                    name='Recovered cases',marker_color='green'))\n",
        "\n",
        "fig.update_layout(\n",
        "    title='Evolution of cases over time in China',\n",
        "        template='plotly_white'\n",
        "\n",
        ")\n",
        "\n",
        "fig.show()"
      ],
      "execution_count": null,
      "outputs": []
    },
    {
      "cell_type": "code",
      "metadata": {
        "id": "LRGp8y791l2L"
      },
      "source": [
        "Data_US = data [(data['Country/Region'] == 'US') ].reset_index(drop=True)"
      ],
      "execution_count": null,
      "outputs": []
    },
    {
      "cell_type": "code",
      "metadata": {
        "id": "73kOwIhs3Gnq"
      },
      "source": [
        "Data_us_last = Data_US[Data_US['ObservationDate'] == max(Data_US['ObservationDate'])].reset_index()"
      ],
      "execution_count": null,
      "outputs": []
    },
    {
      "cell_type": "code",
      "metadata": {
        "id": "_vf8vP1V3JKr"
      },
      "source": [
        "Data_us_total= Data_us_last.groupby([\"Country/Region\"])[\"Confirmed\",\"Deaths\",\"Recovered\",\"Active_case\"].sum().reset_index().reset_index(drop=True)\n",
        "Data_us_total"
      ],
      "execution_count": null,
      "outputs": []
    },
    {
      "cell_type": "code",
      "metadata": {
        "id": "Uk1LpHHh3LFh"
      },
      "source": [
        "labels = [\"Active cases\",\"Recovered\",\"Deaths\"]\n",
        "values = Data_us_total.loc[0, [\"Active_case\",\"Recovered\",\"Deaths\"]]\n",
        "df = px.data.tips()\n",
        "fig = px.pie(Data_us_total, values=values, names=labels, color_discrete_sequence=['royalblue','darkblue','green'], hole=0.5)\n",
        "fig.update_layout(\n",
        "    title='Total cases in United States : '+str(Data_us_total[\"Confirmed\"][0]),\n",
        ")\n",
        "fig.show()"
      ],
      "execution_count": null,
      "outputs": []
    },
    {
      "cell_type": "code",
      "metadata": {
        "id": "HzNVC1nA3SG6"
      },
      "source": [
        "Data_us_per_state= Data_us_last.groupby([\"Province/State\"])[\"Confirmed\",\"Active_case\",\"Deaths\"].sum().reset_index().sort_values(\"Confirmed\",ascending=False).reset_index(drop=True)\n",
        "Data_us_per_state"
      ],
      "execution_count": null,
      "outputs": []
    },
    {
      "cell_type": "code",
      "metadata": {
        "id": "6nIT6LR03UQX"
      },
      "source": [
        "fig = px.pie(Data_us_per_state, values=Data_us_per_state['Confirmed'], names=Data_us_per_state['Province/State'],\n",
        "             title='Confirmed cases in United States',\n",
        "            hole=.2)\n",
        "fig.update_traces(textposition='inside', textinfo='percent+label')\n",
        "fig.show()"
      ],
      "execution_count": null,
      "outputs": []
    },
    {
      "cell_type": "code",
      "metadata": {
        "id": "uSplq11u3igF"
      },
      "source": [
        "fig = px.pie(Data_us_per_state, values=Data_us_per_state['Active_case'], names=Data_us_per_state['Province/State'],\n",
        "             title='Active cases in United States',\n",
        "            hole=.2)\n",
        "fig.update_traces(textposition='inside', textinfo='percent+label')\n",
        "fig.show()"
      ],
      "execution_count": null,
      "outputs": []
    },
    {
      "cell_type": "code",
      "metadata": {
        "id": "Y25FnHQR3nyx"
      },
      "source": [
        "fig = px.pie(Data_us_per_state, values=Data_us_per_state['Deaths'], names=Data_us_per_state['Province/State'],\n",
        "             title='Deaths in United States',\n",
        "            hole=.2)\n",
        "fig.update_traces(textposition='inside', textinfo='percent+label')\n",
        "fig.show()"
      ],
      "execution_count": null,
      "outputs": []
    },
    {
      "cell_type": "code",
      "metadata": {
        "id": "o1J6ybTq3rH-"
      },
      "source": [
        "Data_US_op= Data_US.groupby([\"ObservationDate\",\"Country/Region\"])[\"Confirmed\",\"Deaths\",\"Recovered\",\"Active_case\"].sum().reset_index().reset_index(drop=True)\n",
        "Data_US_op.head()"
      ],
      "execution_count": null,
      "outputs": []
    },
    {
      "cell_type": "code",
      "metadata": {
        "id": "M3Pj9cQz373z"
      },
      "source": [
        "fig = go.Figure()\n",
        "fig.add_trace(go.Scatter(x=Data_US_op.index, y=Data_US_op['Confirmed'],\n",
        "                    mode='lines',\n",
        "                    name='Confirmed cases'))\n",
        "\n",
        "\n",
        "fig.update_layout(\n",
        "    title='Evolution of Confirmed cases over time in US',\n",
        "        template='plotly_white'\n",
        "\n",
        ")\n",
        "\n",
        "fig.show()"
      ],
      "execution_count": null,
      "outputs": []
    },
    {
      "cell_type": "code",
      "metadata": {
        "id": "nQT-MEDM4Urj"
      },
      "source": [
        "fig = go.Figure()\n",
        "\n",
        "fig.add_trace(go.Scatter(x=Data_US_op.index, y=Data_US_op['Active_case'],\n",
        "                    mode='lines',\n",
        "                    name='Active cases',line=dict( dash='dot')))\n",
        "\n",
        "fig.update_layout(\n",
        "    title='Evolution of Acitive cases over time in US',\n",
        "        template='plotly_white'\n",
        "\n",
        ")\n",
        "\n",
        "fig.show()"
      ],
      "execution_count": null,
      "outputs": []
    },
    {
      "cell_type": "code",
      "metadata": {
        "id": "6g94LIyD4YXP"
      },
      "source": [
        "fig = go.Figure()\n",
        "\n",
        "fig.add_trace(go.Scatter(x=Data_US_op.index, y=Data_US_op['Recovered'],\n",
        "                    mode='lines',\n",
        "                    name='Recovered cases',marker_color='green'))\n",
        "\n",
        "fig.update_layout(\n",
        "    title='Evolution of Recovered cases over time in US',\n",
        "        template='plotly_white'\n",
        "\n",
        ")\n",
        "\n",
        "fig.show()"
      ],
      "execution_count": null,
      "outputs": []
    },
    {
      "cell_type": "code",
      "metadata": {
        "id": "G1J1Pld-4b8U"
      },
      "source": [
        "fig = go.Figure()\n",
        "\n",
        "fig.add_trace(go.Scatter(x=Data_US_op.index, y=Data_US_op['Deaths'],name='Deaths',\n",
        "                                   marker_color='white',mode='lines',line=dict( dash='dot') ))\n",
        "\n",
        "fig.update_layout(\n",
        "    title='Evolution of Deaths over time in US',\n",
        "        template='plotly_dark'\n",
        "\n",
        ")\n",
        "\n",
        "fig.show()"
      ],
      "execution_count": null,
      "outputs": []
    },
    {
      "cell_type": "code",
      "metadata": {
        "id": "s-SYdVqH4eTL"
      },
      "source": [
        ""
      ],
      "execution_count": null,
      "outputs": []
    }
  ]
}