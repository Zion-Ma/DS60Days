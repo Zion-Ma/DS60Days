{
  "nbformat": 4,
  "nbformat_minor": 0,
  "metadata": {
    "colab": {
      "name": "D38_38_HW.ipynb",
      "provenance": []
    },
    "kernelspec": {
      "name": "python3",
      "display_name": "Python 3"
    }
  },
  "cells": [
    {
      "cell_type": "code",
      "metadata": {
        "colab": {
          "base_uri": "https://localhost:8080/"
        },
        "id": "_5uX-4Wzvj0A",
        "outputId": "81ac4d41-ba52-473c-d45b-63186ba8896b"
      },
      "source": [
        "# library\r\n",
        "import matplotlib.pyplot as plt\r\n",
        "import numpy as np\r\n",
        "import pandas as pd\r\n",
        "from scipy import stats\r\n",
        "import math\r\n",
        "import statistics\r\n",
        "import seaborn as sns\r\n",
        "from IPython.display import display\r\n",
        "import sklearn\r\n",
        "print(sklearn.__version__)\r\n",
        "#如果只有 0.19 記得要更新至 最新版本\r\n",
        "%matplotlib inline\r\n",
        "#!pip install researchpy\r\n",
        "import researchpy\r\n",
        "#!pip install pingouin\r\n",
        "import pingouin as pg"
      ],
      "execution_count": 3,
      "outputs": [
        {
          "output_type": "stream",
          "text": [
            "0.22.2.post1\n",
            "Collecting researchpy\n",
            "  Downloading https://files.pythonhosted.org/packages/4b/a3/b16ea25a5416f7c35824b2fc3ee1cdc9f9d8ab6d9fc4119679504d43b8a8/researchpy-0.2.3-py3-none-any.whl\n",
            "Requirement already satisfied: numpy in /usr/local/lib/python3.7/dist-packages (from researchpy) (1.19.5)\n",
            "Requirement already satisfied: scipy in /usr/local/lib/python3.7/dist-packages (from researchpy) (1.4.1)\n",
            "Requirement already satisfied: statsmodels in /usr/local/lib/python3.7/dist-packages (from researchpy) (0.10.2)\n",
            "Requirement already satisfied: pandas in /usr/local/lib/python3.7/dist-packages (from researchpy) (1.1.5)\n",
            "Requirement already satisfied: patsy>=0.4.0 in /usr/local/lib/python3.7/dist-packages (from statsmodels->researchpy) (0.5.1)\n",
            "Requirement already satisfied: python-dateutil>=2.7.3 in /usr/local/lib/python3.7/dist-packages (from pandas->researchpy) (2.8.1)\n",
            "Requirement already satisfied: pytz>=2017.2 in /usr/local/lib/python3.7/dist-packages (from pandas->researchpy) (2018.9)\n",
            "Requirement already satisfied: six in /usr/local/lib/python3.7/dist-packages (from patsy>=0.4.0->statsmodels->researchpy) (1.15.0)\n",
            "Installing collected packages: researchpy\n",
            "Successfully installed researchpy-0.2.3\n"
          ],
          "name": "stdout"
        },
        {
          "output_type": "stream",
          "text": [
            "/usr/local/lib/python3.7/dist-packages/statsmodels/tools/_testing.py:19: FutureWarning: pandas.util.testing is deprecated. Use the functions in the public API at pandas.testing instead.\n",
            "  import pandas.util.testing as tm\n"
          ],
          "name": "stderr"
        },
        {
          "output_type": "stream",
          "text": [
            "Collecting pingouin\n",
            "\u001b[?25l  Downloading https://files.pythonhosted.org/packages/55/47/9d1845b179fcbac04f13056846e132e54cf62734d33892a370f98efa5ac1/pingouin-0.3.10.tar.gz (204kB)\n",
            "\r\u001b[K     |█▋                              | 10kB 14.3MB/s eta 0:00:01\r\u001b[K     |███▏                            | 20kB 11.0MB/s eta 0:00:01\r\u001b[K     |████▉                           | 30kB 9.6MB/s eta 0:00:01\r\u001b[K     |██████▍                         | 40kB 7.8MB/s eta 0:00:01\r\u001b[K     |████████                        | 51kB 4.4MB/s eta 0:00:01\r\u001b[K     |█████████▋                      | 61kB 4.9MB/s eta 0:00:01\r\u001b[K     |███████████▏                    | 71kB 5.1MB/s eta 0:00:01\r\u001b[K     |████████████▉                   | 81kB 5.2MB/s eta 0:00:01\r\u001b[K     |██████████████▍                 | 92kB 5.3MB/s eta 0:00:01\r\u001b[K     |████████████████                | 102kB 5.4MB/s eta 0:00:01\r\u001b[K     |█████████████████▋              | 112kB 5.4MB/s eta 0:00:01\r\u001b[K     |███████████████████▎            | 122kB 5.4MB/s eta 0:00:01\r\u001b[K     |████████████████████▉           | 133kB 5.4MB/s eta 0:00:01\r\u001b[K     |██████████████████████▍         | 143kB 5.4MB/s eta 0:00:01\r\u001b[K     |████████████████████████        | 153kB 5.4MB/s eta 0:00:01\r\u001b[K     |█████████████████████████▋      | 163kB 5.4MB/s eta 0:00:01\r\u001b[K     |███████████████████████████▎    | 174kB 5.4MB/s eta 0:00:01\r\u001b[K     |████████████████████████████▉   | 184kB 5.4MB/s eta 0:00:01\r\u001b[K     |██████████████████████████████▍ | 194kB 5.4MB/s eta 0:00:01\r\u001b[K     |████████████████████████████████| 204kB 5.4MB/s \n",
            "\u001b[?25hRequirement already satisfied: numpy>=1.15 in /usr/local/lib/python3.7/dist-packages (from pingouin) (1.19.5)\n",
            "Requirement already satisfied: scipy>=1.3 in /usr/local/lib/python3.7/dist-packages (from pingouin) (1.4.1)\n",
            "Requirement already satisfied: pandas>=0.24 in /usr/local/lib/python3.7/dist-packages (from pingouin) (1.1.5)\n",
            "Requirement already satisfied: matplotlib>=3.0.2 in /usr/local/lib/python3.7/dist-packages (from pingouin) (3.2.2)\n",
            "Requirement already satisfied: seaborn>=0.9.0 in /usr/local/lib/python3.7/dist-packages (from pingouin) (0.11.1)\n",
            "Requirement already satisfied: statsmodels>=0.10.0 in /usr/local/lib/python3.7/dist-packages (from pingouin) (0.10.2)\n",
            "Requirement already satisfied: scikit-learn in /usr/local/lib/python3.7/dist-packages (from pingouin) (0.22.2.post1)\n",
            "Collecting pandas_flavor>=0.1.2\n",
            "  Downloading https://files.pythonhosted.org/packages/9a/57/7fbcff4c0961ed190ac5fcb0bd8194152ee1ee6487edf64fdbae16e2bc4b/pandas_flavor-0.2.0-py2.py3-none-any.whl\n",
            "Collecting outdated\n",
            "  Downloading https://files.pythonhosted.org/packages/86/70/2f166266438a30e94140f00c99c0eac1c45807981052a1d4c123660e1323/outdated-0.2.0.tar.gz\n",
            "Requirement already satisfied: tabulate in /usr/local/lib/python3.7/dist-packages (from pingouin) (0.8.9)\n",
            "Requirement already satisfied: pytz>=2017.2 in /usr/local/lib/python3.7/dist-packages (from pandas>=0.24->pingouin) (2018.9)\n",
            "Requirement already satisfied: python-dateutil>=2.7.3 in /usr/local/lib/python3.7/dist-packages (from pandas>=0.24->pingouin) (2.8.1)\n",
            "Requirement already satisfied: cycler>=0.10 in /usr/local/lib/python3.7/dist-packages (from matplotlib>=3.0.2->pingouin) (0.10.0)\n",
            "Requirement already satisfied: pyparsing!=2.0.4,!=2.1.2,!=2.1.6,>=2.0.1 in /usr/local/lib/python3.7/dist-packages (from matplotlib>=3.0.2->pingouin) (2.4.7)\n",
            "Requirement already satisfied: kiwisolver>=1.0.1 in /usr/local/lib/python3.7/dist-packages (from matplotlib>=3.0.2->pingouin) (1.3.1)\n",
            "Requirement already satisfied: patsy>=0.4.0 in /usr/local/lib/python3.7/dist-packages (from statsmodels>=0.10.0->pingouin) (0.5.1)\n",
            "Requirement already satisfied: joblib>=0.11 in /usr/local/lib/python3.7/dist-packages (from scikit-learn->pingouin) (1.0.1)\n",
            "Requirement already satisfied: xarray in /usr/local/lib/python3.7/dist-packages (from pandas_flavor>=0.1.2->pingouin) (0.15.1)\n",
            "Collecting littleutils\n",
            "  Downloading https://files.pythonhosted.org/packages/4e/b1/bb4e06f010947d67349f863b6a2ad71577f85590180a935f60543f622652/littleutils-0.2.2.tar.gz\n",
            "Requirement already satisfied: requests in /usr/local/lib/python3.7/dist-packages (from outdated->pingouin) (2.23.0)\n",
            "Requirement already satisfied: six>=1.5 in /usr/local/lib/python3.7/dist-packages (from python-dateutil>=2.7.3->pandas>=0.24->pingouin) (1.15.0)\n",
            "Requirement already satisfied: setuptools>=41.2 in /usr/local/lib/python3.7/dist-packages (from xarray->pandas_flavor>=0.1.2->pingouin) (54.0.0)\n",
            "Requirement already satisfied: chardet<4,>=3.0.2 in /usr/local/lib/python3.7/dist-packages (from requests->outdated->pingouin) (3.0.4)\n",
            "Requirement already satisfied: urllib3!=1.25.0,!=1.25.1,<1.26,>=1.21.1 in /usr/local/lib/python3.7/dist-packages (from requests->outdated->pingouin) (1.24.3)\n",
            "Requirement already satisfied: certifi>=2017.4.17 in /usr/local/lib/python3.7/dist-packages (from requests->outdated->pingouin) (2020.12.5)\n",
            "Requirement already satisfied: idna<3,>=2.5 in /usr/local/lib/python3.7/dist-packages (from requests->outdated->pingouin) (2.10)\n",
            "Building wheels for collected packages: pingouin, outdated, littleutils\n",
            "  Building wheel for pingouin (setup.py) ... \u001b[?25l\u001b[?25hdone\n",
            "  Created wheel for pingouin: filename=pingouin-0.3.10-cp37-none-any.whl size=203396 sha256=35f40cccab1eba54eeb4fb44cea2150639b87737e0d91df7c03a297106346ea0\n",
            "  Stored in directory: /root/.cache/pip/wheels/e6/f4/06/b5046209e6c0d96b4dea243c45e926b5c0dd88e23b01c45f92\n",
            "  Building wheel for outdated (setup.py) ... \u001b[?25l\u001b[?25hdone\n",
            "  Created wheel for outdated: filename=outdated-0.2.0-cp37-none-any.whl size=4962 sha256=1b9c924898226fde95ae0046ead7dfcb00c5bc4744f2918b5c6185b510d289ff\n",
            "  Stored in directory: /root/.cache/pip/wheels/fd/7c/ef/814f514d31197310872b5abf353feb8fef9d67ee658e1e7e39\n",
            "  Building wheel for littleutils (setup.py) ... \u001b[?25l\u001b[?25hdone\n",
            "  Created wheel for littleutils: filename=littleutils-0.2.2-cp37-none-any.whl size=7051 sha256=fea8e2a9c670ce682e3e9406f3c67ea4b3a7f0bfd36fed7312a6a80877753aac\n",
            "  Stored in directory: /root/.cache/pip/wheels/53/16/9f/ac67d15c40243754fd73f620e1b9b6dedc20492ecc19a2bae1\n",
            "Successfully built pingouin outdated littleutils\n",
            "Installing collected packages: pandas-flavor, littleutils, outdated, pingouin\n",
            "Successfully installed littleutils-0.2.2 outdated-0.2.0 pandas-flavor-0.2.0 pingouin-0.3.10\n"
          ],
          "name": "stdout"
        }
      ]
    },
    {
      "cell_type": "code",
      "metadata": {
        "id": "NtJ6XVFowFew"
      },
      "source": [
        "df_train=pd.read_csv('/content/drive/MyDrive/titanic/train.csv')"
      ],
      "execution_count": 4,
      "outputs": []
    },
    {
      "cell_type": "code",
      "metadata": {
        "id": "5CYPVCs9wp_x"
      },
      "source": [
        "df_train.dropna(inplace=True)\r\n",
        "# df_train"
      ],
      "execution_count": 7,
      "outputs": []
    },
    {
      "cell_type": "code",
      "metadata": {
        "colab": {
          "base_uri": "https://localhost:8080/",
          "height": 110
        },
        "id": "QZLPHgjdwvfJ",
        "outputId": "ea75b0d1-1f13-4551-cf0f-8c6830ccad4a"
      },
      "source": [
        "# Q1\r\n",
        "# Continuous (Age) v.s. Discrete (Survived)\r\n",
        "aov=pg.anova(data=df_train,dv='Age',between='Survived',detailed=True)\r\n",
        "aov"
      ],
      "execution_count": 13,
      "outputs": [
        {
          "output_type": "execute_result",
          "data": {
            "text/html": [
              "<div>\n",
              "<style scoped>\n",
              "    .dataframe tbody tr th:only-of-type {\n",
              "        vertical-align: middle;\n",
              "    }\n",
              "\n",
              "    .dataframe tbody tr th {\n",
              "        vertical-align: top;\n",
              "    }\n",
              "\n",
              "    .dataframe thead th {\n",
              "        text-align: right;\n",
              "    }\n",
              "</style>\n",
              "<table border=\"1\" class=\"dataframe\">\n",
              "  <thead>\n",
              "    <tr style=\"text-align: right;\">\n",
              "      <th></th>\n",
              "      <th>Source</th>\n",
              "      <th>SS</th>\n",
              "      <th>DF</th>\n",
              "      <th>MS</th>\n",
              "      <th>F</th>\n",
              "      <th>p-unc</th>\n",
              "      <th>np2</th>\n",
              "    </tr>\n",
              "  </thead>\n",
              "  <tbody>\n",
              "    <tr>\n",
              "      <th>0</th>\n",
              "      <td>Survived</td>\n",
              "      <td>2875.522529</td>\n",
              "      <td>1</td>\n",
              "      <td>2875.522529</td>\n",
              "      <td>12.491639</td>\n",
              "      <td>0.000519</td>\n",
              "      <td>0.064559</td>\n",
              "    </tr>\n",
              "    <tr>\n",
              "      <th>1</th>\n",
              "      <td>Within</td>\n",
              "      <td>41665.436185</td>\n",
              "      <td>181</td>\n",
              "      <td>230.195780</td>\n",
              "      <td>NaN</td>\n",
              "      <td>NaN</td>\n",
              "      <td>NaN</td>\n",
              "    </tr>\n",
              "  </tbody>\n",
              "</table>\n",
              "</div>"
            ],
            "text/plain": [
              "     Source            SS   DF           MS          F     p-unc       np2\n",
              "0  Survived   2875.522529    1  2875.522529  12.491639  0.000519  0.064559\n",
              "1    Within  41665.436185  181   230.195780        NaN       NaN       NaN"
            ]
          },
          "metadata": {
            "tags": []
          },
          "execution_count": 13
        }
      ]
    },
    {
      "cell_type": "code",
      "metadata": {
        "colab": {
          "base_uri": "https://localhost:8080/"
        },
        "id": "PtIumcN8zfO0",
        "outputId": "04797324-8c8b-486f-a4ce-fd37350126d7"
      },
      "source": [
        "aov.SS"
      ],
      "execution_count": 14,
      "outputs": [
        {
          "output_type": "execute_result",
          "data": {
            "text/plain": [
              "0     2875.522529\n",
              "1    41665.436185\n",
              "Name: SS, dtype: float64"
            ]
          },
          "metadata": {
            "tags": []
          },
          "execution_count": 14
        }
      ]
    },
    {
      "cell_type": "code",
      "metadata": {
        "colab": {
          "base_uri": "https://localhost:8080/"
        },
        "id": "QsBxT5LSzJe2",
        "outputId": "5041737d-7a51-4d90-ab43-b176b8980d6f"
      },
      "source": [
        "etasq=aov.SS[0]/(aov.SS[0]+aov.SS[1])\r\n",
        "etasq"
      ],
      "execution_count": 9,
      "outputs": [
        {
          "output_type": "execute_result",
          "data": {
            "text/plain": [
              "0.06455906231842591"
            ]
          },
          "metadata": {
            "tags": []
          },
          "execution_count": 9
        }
      ]
    },
    {
      "cell_type": "code",
      "metadata": {
        "colab": {
          "base_uri": "https://localhost:8080/",
          "height": 35
        },
        "id": "jbncwrVIzzkk",
        "outputId": "c441ed54-07e6-4209-ff45-b7fd78ff7384"
      },
      "source": [
        "def judgement_etaSq(etaSq):\r\n",
        "  if etaSq < 0.01:\r\n",
        "    qual='Negligible'\r\n",
        "  elif etaSq < 0.06:\r\n",
        "    qual='Small'\r\n",
        "  elif etaSq < 0.14:\r\n",
        "    qual='Medium'\r\n",
        "  else:\r\n",
        "    qual='Large'\r\n",
        "  return (qual)\r\n",
        "judgement_etaSq(etasq)\r\n",
        "# Age 與 Survived 呈中度線性相關"
      ],
      "execution_count": 15,
      "outputs": [
        {
          "output_type": "execute_result",
          "data": {
            "application/vnd.google.colaboratory.intrinsic+json": {
              "type": "string"
            },
            "text/plain": [
              "'Medium'"
            ]
          },
          "metadata": {
            "tags": []
          },
          "execution_count": 15
        }
      ]
    },
    {
      "cell_type": "code",
      "metadata": {
        "colab": {
          "base_uri": "https://localhost:8080/",
          "height": 383
        },
        "id": "gSbxyEjB5M4L",
        "outputId": "ac0e8b12-fd6e-40fa-c1bd-739cd7ab5a47"
      },
      "source": [
        "g=sns.catplot(x='Survived',y='Age',hue='Survived',data=df_train,kind='violin')"
      ],
      "execution_count": 31,
      "outputs": [
        {
          "output_type": "display_data",
          "data": {
            "image/png": "[encoded data removed]",
            "text/plain": [
              "<Figure size 360x360 with 1 Axes>"
            ]
          },
          "metadata": {
            "tags": [],
            "needs_background": "light"
          }
        }
      ]
    },
    {
      "cell_type": "code",
      "metadata": {
        "colab": {
          "base_uri": "https://localhost:8080/",
          "height": 141
        },
        "id": "UonlxLtyz21s",
        "outputId": "4aedbd55-3212-4f56-a00e-099a1366573d"
      },
      "source": [
        "# Q2\r\n",
        "# Discrete (Sex) v.s. Discrete (Sirvived)\r\n",
        "conTable=pd.crosstab(df_train['Sex'],df_train['Survived'])\r\n",
        "conTable"
      ],
      "execution_count": 16,
      "outputs": [
        {
          "output_type": "execute_result",
          "data": {
            "text/html": [
              "<div>\n",
              "<style scoped>\n",
              "    .dataframe tbody tr th:only-of-type {\n",
              "        vertical-align: middle;\n",
              "    }\n",
              "\n",
              "    .dataframe tbody tr th {\n",
              "        vertical-align: top;\n",
              "    }\n",
              "\n",
              "    .dataframe thead th {\n",
              "        text-align: right;\n",
              "    }\n",
              "</style>\n",
              "<table border=\"1\" class=\"dataframe\">\n",
              "  <thead>\n",
              "    <tr style=\"text-align: right;\">\n",
              "      <th>Survived</th>\n",
              "      <th>0</th>\n",
              "      <th>1</th>\n",
              "    </tr>\n",
              "    <tr>\n",
              "      <th>Sex</th>\n",
              "      <th></th>\n",
              "      <th></th>\n",
              "    </tr>\n",
              "  </thead>\n",
              "  <tbody>\n",
              "    <tr>\n",
              "      <th>female</th>\n",
              "      <td>6</td>\n",
              "      <td>82</td>\n",
              "    </tr>\n",
              "    <tr>\n",
              "      <th>male</th>\n",
              "      <td>54</td>\n",
              "      <td>41</td>\n",
              "    </tr>\n",
              "  </tbody>\n",
              "</table>\n",
              "</div>"
            ],
            "text/plain": [
              "Survived   0   1\n",
              "Sex             \n",
              "female     6  82\n",
              "male      54  41"
            ]
          },
          "metadata": {
            "tags": []
          },
          "execution_count": 16
        }
      ]
    },
    {
      "cell_type": "code",
      "metadata": {
        "colab": {
          "base_uri": "https://localhost:8080/",
          "height": 70
        },
        "id": "ffP7YXSz00qO",
        "outputId": "57f82064-387a-4564-e9ce-a3eeeabe7f6d"
      },
      "source": [
        "df=min(conTable.shape[0],conTable.shape[1])-1\r\n",
        "print(\"Degree of freedom is\",df)\r\n",
        "crosstab,res=researchpy.crosstab(df_train['Sex'],df_train['Survived'],test='chi-square')\r\n",
        "print(\"Cramer's value is\",res.loc[2,'results'])\r\n",
        "def judgement_CramerV(df,V):\r\n",
        "  if df == 1:\r\n",
        "    if V < 0.10:\r\n",
        "      qual='negligible'\r\n",
        "    elif V< 0.30:\r\n",
        "      qual='small'\r\n",
        "    elif V< 0.50:\r\n",
        "      qual='medium'\r\n",
        "    else:\r\n",
        "      qual='large' \r\n",
        "  elif df == 2:\r\n",
        "        if V < 0.07:\r\n",
        "            qual = 'negligible'\r\n",
        "        elif V < 0.21:\r\n",
        "            qual = 'small'\r\n",
        "        elif V < 0.35:\r\n",
        "            qual = 'medium'\r\n",
        "        else:\r\n",
        "            qual = 'large'\r\n",
        "  elif df == 3:\r\n",
        "      if V < 0.06:\r\n",
        "          qual = 'negligible'\r\n",
        "      elif V < 0.17:\r\n",
        "          qual = 'small'\r\n",
        "      elif V < 0.29:\r\n",
        "          qual = 'medium'\r\n",
        "      else:\r\n",
        "          qual = 'large'\r\n",
        "  elif df == 4:\r\n",
        "      if V < 0.05:\r\n",
        "          qual = 'negligible'\r\n",
        "      elif V < 0.15:\r\n",
        "          qual = 'small'\r\n",
        "      elif V < 0.25:\r\n",
        "          qual = 'medium'\r\n",
        "      else:\r\n",
        "          qual = 'large'\r\n",
        "  else:\r\n",
        "      if V < 0.05:\r\n",
        "          qual = 'negligible'\r\n",
        "      elif V < 0.13:\r\n",
        "          qual = 'small'\r\n",
        "      elif V < 0.22:\r\n",
        "          qual = 'medium'\r\n",
        "      else:\r\n",
        "          qual = 'large'\r\n",
        "  return(qual)\r\n",
        "judgement_CramerV(df,res.loc[2,'results'])\r\n",
        "# Sex 與 Survived 成高度線性相關"
      ],
      "execution_count": 26,
      "outputs": [
        {
          "output_type": "stream",
          "text": [
            "Degree of freedom is 1\n",
            "Cramer's value is 0.5324\n"
          ],
          "name": "stdout"
        },
        {
          "output_type": "execute_result",
          "data": {
            "application/vnd.google.colaboratory.intrinsic+json": {
              "type": "string"
            },
            "text/plain": [
              "'large'"
            ]
          },
          "metadata": {
            "tags": []
          },
          "execution_count": 26
        }
      ]
    },
    {
      "cell_type": "code",
      "metadata": {
        "colab": {
          "base_uri": "https://localhost:8080/",
          "height": 279
        },
        "id": "JR_CFj7Q5EZ-",
        "outputId": "91605ec4-17f0-44ce-b406-3956076e085b"
      },
      "source": [
        "g=sns.countplot(x='Sex',hue='Survived',data=df_train)"
      ],
      "execution_count": 29,
      "outputs": [
        {
          "output_type": "display_data",
          "data": {
            "image/png": "[encoded data removed]",
            "text/plain": [
              "<Figure size 432x288 with 1 Axes>"
            ]
          },
          "metadata": {
            "tags": [],
            "needs_background": "light"
          }
        }
      ]
    },
    {
      "cell_type": "code",
      "metadata": {
        "colab": {
          "base_uri": "https://localhost:8080/"
        },
        "id": "aQi3c-eW11fr",
        "outputId": "6a0cbd8f-3e61-4b20-c08f-d5e2aa15fc17"
      },
      "source": [
        "# Q3\r\n",
        "# Continuous (Age) v.s. Continuous (Fare)\r\n",
        "corr,_=stats.pearsonr(df_train['Age'],df_train['Fare'])\r\n",
        "print(corr)\r\n",
        "# Age 與 Fare 無線性相關"
      ],
      "execution_count": 27,
      "outputs": [
        {
          "output_type": "stream",
          "text": [
            "-0.09242385620999947\n"
          ],
          "name": "stdout"
        }
      ]
    },
    {
      "cell_type": "code",
      "metadata": {
        "colab": {
          "base_uri": "https://localhost:8080/",
          "height": 279
        },
        "id": "AJv8WPhM4hjg",
        "outputId": "918fda71-d570-4b26-b426-2e24c0105874"
      },
      "source": [
        "g=sns.regplot(x='Age',y='Fare',color='g',data=df_train)"
      ],
      "execution_count": 28,
      "outputs": [
        {
          "output_type": "display_data",
          "data": {
            "image/png": "[encoded data removed]",
            "text/plain": [
              "<Figure size 432x288 with 1 Axes>"
            ]
          },
          "metadata": {
            "tags": [],
            "needs_background": "light"
          }
        }
      ]
    },
    {
      "cell_type": "code",
      "metadata": {
        "id": "n9oe_lnC46rI"
      },
      "source": [
        ""
      ],
      "execution_count": null,
      "outputs": []
    }
  ]
}