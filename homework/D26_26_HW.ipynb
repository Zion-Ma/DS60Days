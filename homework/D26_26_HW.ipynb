{
  "nbformat": 4,
  "nbformat_minor": 0,
  "metadata": {
    "colab": {
      "name": "D26_26_HW.ipynb",
      "provenance": [],
      "collapsed_sections": []
    },
    "kernelspec": {
      "name": "python3",
      "display_name": "Python 3"
    }
  },
  "cells": [
    {
      "cell_type": "code",
      "metadata": {
        "id": "XB2X3AY9DEt2"
      },
      "source": [
        "import matplotlib.pyplot as plt\r\n",
        "import numpy as np\r\n",
        "import pandas as pd\r\n",
        "import scipy.stats as stats\r\n",
        "import math\r\n",
        "import statistics\r\n",
        "import seaborn as sns"
      ],
      "execution_count": 1,
      "outputs": []
    },
    {
      "cell_type": "code",
      "metadata": {
        "id": "rTb1KgK0DQFT"
      },
      "source": [
        "boys=[164, 176, 169, 169, 165, 175, 159, 151, 144, 160, 183, 165, 156, 170,\r\n",
        " 164, 173, 165, 163, 177, 171]\r\n",
        "\r\n",
        "girls=[169, 183, 170, 168, 182, 170, 173, 185, 151, 156, 162, 169, 162, 181,\r\n",
        " 159, 154, 167, 175, 170, 160]"
      ],
      "execution_count": 3,
      "outputs": []
    },
    {
      "cell_type": "code",
      "metadata": {
        "colab": {
          "base_uri": "https://localhost:8080/",
          "height": 451
        },
        "id": "IBodpl-EUiKZ",
        "outputId": "a5c88332-514f-416b-d14b-a426a65d9903"
      },
      "source": [
        "#1\r\n",
        "#男孩統計量\r\n",
        "mean_boy=np.mean(boys)\r\n",
        "print(\"男孩身高平均=\",mean_boy)\r\n",
        "np_median_boy=np.median(boys,axis=None)\r\n",
        "print('男孩身高中位數=',np_median_boy)\r\n",
        "mode_boy=stats.mode(boys,axis=None)\r\n",
        "print('男孩身高眾數=',mode_boy[0][0])\r\n",
        "#rangeV=max(boys)-min(boys)\r\n",
        "def rangeV(x):\r\n",
        "  return (max(x)-min(x))\r\n",
        "print('男孩身高全距=',rangeV(boys))\r\n",
        "print('男孩身高變異數=',np.var(boys,ddof=1))\r\n",
        "statistics_stdev_boy=statistics.stdev(boys)\r\n",
        "print('男孩身高標準差=',statistics_stdev_boy)\r\n",
        "print('男孩身高百分位數: ')\r\n",
        "print('75百分位數=',np.percentile(boys,75))\r\n",
        "print('50百分位數=',np.percentile(boys,50))\r\n",
        "print('25百分位數=',np.percentile(boys,25))\r\n",
        "plt.hist(boys,alpha=.4,bins=40)\r\n",
        "plt.title('boy, skewness={},kurtosis={}'.format(round(stats.skew(boys),2),round(stats.kurtosis(boys),2)))\r\n",
        "plt.axvline(x=mean_boy,c='r')\r\n",
        "plt.show()"
      ],
      "execution_count": 17,
      "outputs": [
        {
          "output_type": "stream",
          "text": [
            "男孩身高平均= 165.95\n",
            "男孩身高中位數= 165.0\n",
            "男孩身高眾數= 165\n",
            "男孩身高全距= 39\n",
            "男孩身高變異數= 84.89210526315789\n",
            "男孩身高標準差= 9.213691185575838\n",
            "男孩身高百分位數: \n",
            "75百分位數= 171.5\n",
            "50百分位數= 165.0\n",
            "25百分位數= 162.25\n"
          ],
          "name": "stdout"
        },
        {
          "output_type": "display_data",
          "data": {
            "image/png": "[encoded data removed]",
            "text/plain": [
              "<Figure size 432x288 with 1 Axes>"
            ]
          },
          "metadata": {
            "tags": [],
            "needs_background": "light"
          }
        }
      ]
    },
    {
      "cell_type": "code",
      "metadata": {
        "colab": {
          "base_uri": "https://localhost:8080/",
          "height": 451
        },
        "id": "Ah6-CG3SVUXK",
        "outputId": "199a4ff6-edb8-450d-ec78-04de6224d985"
      },
      "source": [
        "#1\r\n",
        "#女孩統計量\r\n",
        "mean_girls=np.mean(girls)\r\n",
        "print(\"女孩身高平均=\",mean_girls)\r\n",
        "np_median_girls=np.median(girls,axis=None)\r\n",
        "print('女孩身高中位數=',np_median_girls)\r\n",
        "mode_girls=stats.mode(girls,axis=None)\r\n",
        "print('女孩身高眾數=',mode_girls[0][0])\r\n",
        "#rangeV=max(girls)-min(girls)\r\n",
        "print('女孩身高全距=',rangeV(girls))\r\n",
        "print('女孩身高變異數=',np.var(girls,ddof=1))\r\n",
        "statistics_stdev_girls=statistics.stdev(girls)\r\n",
        "print('女孩身高標準差=',statistics_stdev_girls)\r\n",
        "print('女孩身高百分位數: ')\r\n",
        "print('75百分位數=',np.percentile(girls,75))\r\n",
        "print('50百分位數=',np.percentile(girls,50))\r\n",
        "print('25百分位數=',np.percentile(girls,25))\r\n",
        "plt.hist(girls,alpha=.4,bins=40)\r\n",
        "plt.title('girls, skewness={},kurtosis={}'.format(round(stats.skew(girls),2),round(stats.kurtosis(girls),2)))\r\n",
        "plt.axvline(x=mean_girls,c='r')\r\n",
        "plt.show()"
      ],
      "execution_count": 18,
      "outputs": [
        {
          "output_type": "stream",
          "text": [
            "女孩身高平均= 168.3\n",
            "女孩身高中位數= 169.0\n",
            "女孩身高眾數= 170\n",
            "女孩身高全距= 34\n",
            "女孩身高變異數= 95.37894736842104\n",
            "女孩身高標準差= 9.766214587465353\n",
            "女孩身高百分位數: \n",
            "75百分位數= 173.5\n",
            "50百分位數= 169.0\n",
            "25百分位數= 161.5\n"
          ],
          "name": "stdout"
        },
        {
          "output_type": "display_data",
          "data": {
            "image/png": "[encoded data removed]",
            "text/plain": [
              "<Figure size 432x288 with 1 Axes>"
            ]
          },
          "metadata": {
            "tags": [],
            "needs_background": "light"
          }
        }
      ]
    },
    {
      "cell_type": "code",
      "metadata": {
        "colab": {
          "base_uri": "https://localhost:8080/"
        },
        "id": "SXdW95pIWYtH",
        "outputId": "4d76e3ff-1fac-48b1-8414-ed68d6a93216"
      },
      "source": [
        "#2\r\n",
        "def higher(boys,girls):\r\n",
        "  if np.greater(np.mean(boys),np.mean(girls)) == True:\r\n",
        "    print('Boys mean is higher.')\r\n",
        "  else:\r\n",
        "    print('Girls mean is higher.')\r\n",
        "higher(boys,girls)"
      ],
      "execution_count": 16,
      "outputs": [
        {
          "output_type": "stream",
          "text": [
            "Girls mean is higher.\n"
          ],
          "name": "stdout"
        }
      ]
    },
    {
      "cell_type": "code",
      "metadata": {
        "id": "V4t5h6ouXKli"
      },
      "source": [
        ""
      ],
      "execution_count": null,
      "outputs": []
    }
  ]
}