{
  "nbformat": 4,
  "nbformat_minor": 0,
  "metadata": {
    "colab": {
      "name": "D4_04_HW.ipynb",
      "provenance": []
    },
    "kernelspec": {
      "name": "python3",
      "display_name": "Python 3"
    }
  },
  "cells": [
    {
      "cell_type": "code",
      "metadata": {
        "colab": {
          "base_uri": "https://localhost:8080/"
        },
        "id": "JsD7vyiWmDOO",
        "outputId": "2844c2dc-b265-4bf5-8aa2-dd3286843e27"
      },
      "source": [
        "import numpy as np\r\n",
        "english_score = np.array([55,89,76,65,48,70])\r\n",
        "math_score = np.array([60,85,60,68,55,60])\r\n",
        "chinese_score = np.array([65,90,82,72,66,77])\r\n",
        "english_better=0\r\n",
        "for i,j in zip(english_score,math_score):\r\n",
        "  if i>j:\r\n",
        "    english_better+=1\r\n",
        "def Chinese_best(x,y,z):\r\n",
        "  truth=[]\r\n",
        "  for i,j,k in zip(x,y,z):\r\n",
        "    truth.append(k==max(i,j,k))\r\n",
        "  if np.all(np.array(truth)) == True:\r\n",
        "    return '2. 全班同學最高分都是國文'\r\n",
        "  else:\r\n",
        "    return '2. 全班同學最高分不一定是國文'\r\n",
        "print('1. 英文比數學高的有',english_better,'個',sep='')\r\n",
        "print(Chinese_best(english_score,math_score,chinese_score))\r\n"
      ],
      "execution_count": 12,
      "outputs": [
        {
          "output_type": "stream",
          "text": [
            "1. 英文比數學高的有3個\n",
            "2. 全班同學最高分都是國文\n"
          ],
          "name": "stdout"
        }
      ]
    }
  ]
}