{
  "nbformat": 4,
  "nbformat_minor": 0,
  "metadata": {
    "colab": {
      "name": "Day1_01_HW.ipynb",
      "provenance": [],
      "collapsed_sections": []
    },
    "kernelspec": {
      "name": "python3",
      "display_name": "Python 3"
    }
  },
  "cells": [
    {
      "cell_type": "code",
      "metadata": {
        "colab": {
          "base_uri": "https://localhost:8080/"
        },
        "id": "4dPK1dnZalHq",
        "outputId": "856373d7-c187-4333-b6d0-ade79a7e0931"
      },
      "source": [
        "import numpy as np\r\n",
        "array1=np.arange(0,21)\r\n",
        "\r\n",
        "array2=np.array([i for i in array1 if i>0 and i%2==0])\r\n",
        "\r\n",
        "array3=np.array([j for j in array1 if j>0 and j%3==0])\r\n",
        "print(array1)\r\n",
        "print(array2)\r\n",
        "print(array3)"
      ],
      "execution_count": 11,
      "outputs": [
        {
          "output_type": "stream",
          "text": [
            "[ 0  1  2  3  4  5  6  7  8  9 10 11 12 13 14 15 16 17 18 19 20]\n",
            "[ 2  4  6  8 10 12 14 16 18 20]\n",
            "[ 3  6  9 12 15 18]\n"
          ],
          "name": "stdout"
        }
      ]
    }
  ]
}