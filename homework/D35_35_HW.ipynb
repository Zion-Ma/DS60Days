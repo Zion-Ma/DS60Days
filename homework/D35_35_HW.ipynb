{
  "nbformat": 4,
  "nbformat_minor": 0,
  "metadata": {
    "colab": {
      "name": "D35_35_HW.ipynb",
      "provenance": [],
      "collapsed_sections": []
    },
    "kernelspec": {
      "name": "python3",
      "display_name": "Python 3"
    }
  },
  "cells": [
    {
      "cell_type": "code",
      "metadata": {
        "id": "4_HHuUdILfHI"
      },
      "source": [
        "import pandas as pd\r\n",
        "import numpy as np\r\n",
        "import matplotlib.pyplot as plt\r\n",
        "import seaborn as sns\r\n",
        "\r\n",
        "from IPython.display import display\r\n",
        "#讓圖可以在 jupyter notebook顯示\r\n",
        "%matplotlib inline"
      ],
      "execution_count": 1,
      "outputs": []
    },
    {
      "cell_type": "code",
      "metadata": {
        "id": "eOSAeSNDLmiw"
      },
      "source": [
        "df_train=pd.read_csv('/content/drive/MyDrive/titanic/train.csv')\r\n",
        "df_test=pd.read_csv('/content/drive/MyDrive/titanic/test.csv')"
      ],
      "execution_count": 2,
      "outputs": []
    },
    {
      "cell_type": "code",
      "metadata": {
        "colab": {
          "base_uri": "https://localhost:8080/"
        },
        "id": "TBiFJGZoYm1I",
        "outputId": "aca244d6-59d3-4def-9bfe-93d35f058e44"
      },
      "source": [
        "df_test.isnull().any().sum()"
      ],
      "execution_count": 27,
      "outputs": [
        {
          "output_type": "execute_result",
          "data": {
            "text/plain": [
              "3"
            ]
          },
          "metadata": {
            "tags": []
          },
          "execution_count": 27
        }
      ]
    },
    {
      "cell_type": "code",
      "metadata": {
        "colab": {
          "base_uri": "https://localhost:8080/"
        },
        "id": "wK4TbRoAMCu1",
        "outputId": "a821508d-b29f-40c5-c3a8-eb42d6828627"
      },
      "source": [
        "# 1\r\n",
        "df_train.info(), df_test.info()\r\n",
        "#test has no survived as the predicted result"
      ],
      "execution_count": 3,
      "outputs": [
        {
          "output_type": "stream",
          "text": [
            "<class 'pandas.core.frame.DataFrame'>\n",
            "RangeIndex: 891 entries, 0 to 890\n",
            "Data columns (total 12 columns):\n",
            " #   Column       Non-Null Count  Dtype  \n",
            "---  ------       --------------  -----  \n",
            " 0   PassengerId  891 non-null    int64  \n",
            " 1   Survived     891 non-null    int64  \n",
            " 2   Pclass       891 non-null    int64  \n",
            " 3   Name         891 non-null    object \n",
            " 4   Sex          891 non-null    object \n",
            " 5   Age          714 non-null    float64\n",
            " 6   SibSp        891 non-null    int64  \n",
            " 7   Parch        891 non-null    int64  \n",
            " 8   Ticket       891 non-null    object \n",
            " 9   Fare         891 non-null    float64\n",
            " 10  Cabin        204 non-null    object \n",
            " 11  Embarked     889 non-null    object \n",
            "dtypes: float64(2), int64(5), object(5)\n",
            "memory usage: 83.7+ KB\n",
            "<class 'pandas.core.frame.DataFrame'>\n",
            "RangeIndex: 418 entries, 0 to 417\n",
            "Data columns (total 11 columns):\n",
            " #   Column       Non-Null Count  Dtype  \n",
            "---  ------       --------------  -----  \n",
            " 0   PassengerId  418 non-null    int64  \n",
            " 1   Pclass       418 non-null    int64  \n",
            " 2   Name         418 non-null    object \n",
            " 3   Sex          418 non-null    object \n",
            " 4   Age          332 non-null    float64\n",
            " 5   SibSp        418 non-null    int64  \n",
            " 6   Parch        418 non-null    int64  \n",
            " 7   Ticket       418 non-null    object \n",
            " 8   Fare         417 non-null    float64\n",
            " 9   Cabin        91 non-null     object \n",
            " 10  Embarked     418 non-null    object \n",
            "dtypes: float64(2), int64(4), object(5)\n",
            "memory usage: 36.0+ KB\n"
          ],
          "name": "stdout"
        },
        {
          "output_type": "execute_result",
          "data": {
            "text/plain": [
              "(None, None)"
            ]
          },
          "metadata": {
            "tags": []
          },
          "execution_count": 3
        }
      ]
    },
    {
      "cell_type": "code",
      "metadata": {
        "colab": {
          "base_uri": "https://localhost:8080/"
        },
        "id": "7fsdeY4YMNvz",
        "outputId": "937ac164-eb44-4d45-a8cc-beb44a45832f"
      },
      "source": [
        "#1\r\n",
        "df_train.describe(),df_test.describe()"
      ],
      "execution_count": 6,
      "outputs": [
        {
          "output_type": "execute_result",
          "data": {
            "text/plain": [
              "(       PassengerId    Survived      Pclass  ...       SibSp       Parch        Fare\n",
              " count   891.000000  891.000000  891.000000  ...  891.000000  891.000000  891.000000\n",
              " mean    446.000000    0.383838    2.308642  ...    0.523008    0.381594   32.204208\n",
              " std     257.353842    0.486592    0.836071  ...    1.102743    0.806057   49.693429\n",
              " min       1.000000    0.000000    1.000000  ...    0.000000    0.000000    0.000000\n",
              " 25%     223.500000    0.000000    2.000000  ...    0.000000    0.000000    7.910400\n",
              " 50%     446.000000    0.000000    3.000000  ...    0.000000    0.000000   14.454200\n",
              " 75%     668.500000    1.000000    3.000000  ...    1.000000    0.000000   31.000000\n",
              " max     891.000000    1.000000    3.000000  ...    8.000000    6.000000  512.329200\n",
              " \n",
              " [8 rows x 7 columns],\n",
              "        PassengerId      Pclass         Age       SibSp       Parch        Fare\n",
              " count   418.000000  418.000000  332.000000  418.000000  418.000000  417.000000\n",
              " mean   1100.500000    2.265550   30.272590    0.447368    0.392344   35.627188\n",
              " std     120.810458    0.841838   14.181209    0.896760    0.981429   55.907576\n",
              " min     892.000000    1.000000    0.170000    0.000000    0.000000    0.000000\n",
              " 25%     996.250000    1.000000   21.000000    0.000000    0.000000    7.895800\n",
              " 50%    1100.500000    3.000000   27.000000    0.000000    0.000000   14.454200\n",
              " 75%    1204.750000    3.000000   39.000000    1.000000    0.000000   31.500000\n",
              " max    1309.000000    3.000000   76.000000    8.000000    9.000000  512.329200)"
            ]
          },
          "metadata": {
            "tags": []
          },
          "execution_count": 6
        }
      ]
    },
    {
      "cell_type": "code",
      "metadata": {
        "colab": {
          "base_uri": "https://localhost:8080/"
        },
        "id": "qPQLAnKcMVep",
        "outputId": "2ec99b3c-3411-4537-9099-be6f2e4a9416"
      },
      "source": [
        "#2\r\n",
        "print('train dataset')\r\n",
        "print(df_train.isnull().any())\r\n",
        "print('-'*15)\r\n",
        "print('test dataset')\r\n",
        "print(df_test.isnull().any())\r\n",
        "# Both train and test have lost values"
      ],
      "execution_count": 7,
      "outputs": [
        {
          "output_type": "stream",
          "text": [
            "train dataset\n",
            "PassengerId    False\n",
            "Survived       False\n",
            "Pclass         False\n",
            "Name           False\n",
            "Sex            False\n",
            "Age             True\n",
            "SibSp          False\n",
            "Parch          False\n",
            "Ticket         False\n",
            "Fare           False\n",
            "Cabin           True\n",
            "Embarked        True\n",
            "dtype: bool\n",
            "---------------\n",
            "test dataset\n",
            "PassengerId    False\n",
            "Pclass         False\n",
            "Name           False\n",
            "Sex            False\n",
            "Age             True\n",
            "SibSp          False\n",
            "Parch          False\n",
            "Ticket         False\n",
            "Fare            True\n",
            "Cabin           True\n",
            "Embarked       False\n",
            "dtype: bool\n"
          ],
          "name": "stdout"
        }
      ]
    },
    {
      "cell_type": "code",
      "metadata": {
        "colab": {
          "base_uri": "https://localhost:8080/",
          "height": 419
        },
        "id": "2P72JWs3Nf_k",
        "outputId": "f5af617f-a702-40a7-9ae6-ba4a71e674ba"
      },
      "source": [
        "#3\r\n",
        "df_combined=df_train.append(df_test)\r\n",
        "df_combined"
      ],
      "execution_count": 8,
      "outputs": [
        {
          "output_type": "execute_result",
          "data": {
            "text/html": [
              "<div>\n",
              "<style scoped>\n",
              "    .dataframe tbody tr th:only-of-type {\n",
              "        vertical-align: middle;\n",
              "    }\n",
              "\n",
              "    .dataframe tbody tr th {\n",
              "        vertical-align: top;\n",
              "    }\n",
              "\n",
              "    .dataframe thead th {\n",
              "        text-align: right;\n",
              "    }\n",
              "</style>\n",
              "<table border=\"1\" class=\"dataframe\">\n",
              "  <thead>\n",
              "    <tr style=\"text-align: right;\">\n",
              "      <th></th>\n",
              "      <th>PassengerId</th>\n",
              "      <th>Survived</th>\n",
              "      <th>Pclass</th>\n",
              "      <th>Name</th>\n",
              "      <th>Sex</th>\n",
              "      <th>Age</th>\n",
              "      <th>SibSp</th>\n",
              "      <th>Parch</th>\n",
              "      <th>Ticket</th>\n",
              "      <th>Fare</th>\n",
              "      <th>Cabin</th>\n",
              "      <th>Embarked</th>\n",
              "    </tr>\n",
              "  </thead>\n",
              "  <tbody>\n",
              "    <tr>\n",
              "      <th>0</th>\n",
              "      <td>1</td>\n",
              "      <td>0.0</td>\n",
              "      <td>3</td>\n",
              "      <td>Braund, Mr. Owen Harris</td>\n",
              "      <td>male</td>\n",
              "      <td>22.0</td>\n",
              "      <td>1</td>\n",
              "      <td>0</td>\n",
              "      <td>A/5 21171</td>\n",
              "      <td>7.2500</td>\n",
              "      <td>NaN</td>\n",
              "      <td>S</td>\n",
              "    </tr>\n",
              "    <tr>\n",
              "      <th>1</th>\n",
              "      <td>2</td>\n",
              "      <td>1.0</td>\n",
              "      <td>1</td>\n",
              "      <td>Cumings, Mrs. John Bradley (Florence Briggs Th...</td>\n",
              "      <td>female</td>\n",
              "      <td>38.0</td>\n",
              "      <td>1</td>\n",
              "      <td>0</td>\n",
              "      <td>PC 17599</td>\n",
              "      <td>71.2833</td>\n",
              "      <td>C85</td>\n",
              "      <td>C</td>\n",
              "    </tr>\n",
              "    <tr>\n",
              "      <th>2</th>\n",
              "      <td>3</td>\n",
              "      <td>1.0</td>\n",
              "      <td>3</td>\n",
              "      <td>Heikkinen, Miss. Laina</td>\n",
              "      <td>female</td>\n",
              "      <td>26.0</td>\n",
              "      <td>0</td>\n",
              "      <td>0</td>\n",
              "      <td>STON/O2. 3101282</td>\n",
              "      <td>7.9250</td>\n",
              "      <td>NaN</td>\n",
              "      <td>S</td>\n",
              "    </tr>\n",
              "    <tr>\n",
              "      <th>3</th>\n",
              "      <td>4</td>\n",
              "      <td>1.0</td>\n",
              "      <td>1</td>\n",
              "      <td>Futrelle, Mrs. Jacques Heath (Lily May Peel)</td>\n",
              "      <td>female</td>\n",
              "      <td>35.0</td>\n",
              "      <td>1</td>\n",
              "      <td>0</td>\n",
              "      <td>113803</td>\n",
              "      <td>53.1000</td>\n",
              "      <td>C123</td>\n",
              "      <td>S</td>\n",
              "    </tr>\n",
              "    <tr>\n",
              "      <th>4</th>\n",
              "      <td>5</td>\n",
              "      <td>0.0</td>\n",
              "      <td>3</td>\n",
              "      <td>Allen, Mr. William Henry</td>\n",
              "      <td>male</td>\n",
              "      <td>35.0</td>\n",
              "      <td>0</td>\n",
              "      <td>0</td>\n",
              "      <td>373450</td>\n",
              "      <td>8.0500</td>\n",
              "      <td>NaN</td>\n",
              "      <td>S</td>\n",
              "    </tr>\n",
              "    <tr>\n",
              "      <th>...</th>\n",
              "      <td>...</td>\n",
              "      <td>...</td>\n",
              "      <td>...</td>\n",
              "      <td>...</td>\n",
              "      <td>...</td>\n",
              "      <td>...</td>\n",
              "      <td>...</td>\n",
              "      <td>...</td>\n",
              "      <td>...</td>\n",
              "      <td>...</td>\n",
              "      <td>...</td>\n",
              "      <td>...</td>\n",
              "    </tr>\n",
              "    <tr>\n",
              "      <th>413</th>\n",
              "      <td>1305</td>\n",
              "      <td>NaN</td>\n",
              "      <td>3</td>\n",
              "      <td>Spector, Mr. Woolf</td>\n",
              "      <td>male</td>\n",
              "      <td>NaN</td>\n",
              "      <td>0</td>\n",
              "      <td>0</td>\n",
              "      <td>A.5. 3236</td>\n",
              "      <td>8.0500</td>\n",
              "      <td>NaN</td>\n",
              "      <td>S</td>\n",
              "    </tr>\n",
              "    <tr>\n",
              "      <th>414</th>\n",
              "      <td>1306</td>\n",
              "      <td>NaN</td>\n",
              "      <td>1</td>\n",
              "      <td>Oliva y Ocana, Dona. Fermina</td>\n",
              "      <td>female</td>\n",
              "      <td>39.0</td>\n",
              "      <td>0</td>\n",
              "      <td>0</td>\n",
              "      <td>PC 17758</td>\n",
              "      <td>108.9000</td>\n",
              "      <td>C105</td>\n",
              "      <td>C</td>\n",
              "    </tr>\n",
              "    <tr>\n",
              "      <th>415</th>\n",
              "      <td>1307</td>\n",
              "      <td>NaN</td>\n",
              "      <td>3</td>\n",
              "      <td>Saether, Mr. Simon Sivertsen</td>\n",
              "      <td>male</td>\n",
              "      <td>38.5</td>\n",
              "      <td>0</td>\n",
              "      <td>0</td>\n",
              "      <td>SOTON/O.Q. 3101262</td>\n",
              "      <td>7.2500</td>\n",
              "      <td>NaN</td>\n",
              "      <td>S</td>\n",
              "    </tr>\n",
              "    <tr>\n",
              "      <th>416</th>\n",
              "      <td>1308</td>\n",
              "      <td>NaN</td>\n",
              "      <td>3</td>\n",
              "      <td>Ware, Mr. Frederick</td>\n",
              "      <td>male</td>\n",
              "      <td>NaN</td>\n",
              "      <td>0</td>\n",
              "      <td>0</td>\n",
              "      <td>359309</td>\n",
              "      <td>8.0500</td>\n",
              "      <td>NaN</td>\n",
              "      <td>S</td>\n",
              "    </tr>\n",
              "    <tr>\n",
              "      <th>417</th>\n",
              "      <td>1309</td>\n",
              "      <td>NaN</td>\n",
              "      <td>3</td>\n",
              "      <td>Peter, Master. Michael J</td>\n",
              "      <td>male</td>\n",
              "      <td>NaN</td>\n",
              "      <td>1</td>\n",
              "      <td>1</td>\n",
              "      <td>2668</td>\n",
              "      <td>22.3583</td>\n",
              "      <td>NaN</td>\n",
              "      <td>C</td>\n",
              "    </tr>\n",
              "  </tbody>\n",
              "</table>\n",
              "<p>1309 rows × 12 columns</p>\n",
              "</div>"
            ],
            "text/plain": [
              "     PassengerId  Survived  Pclass  ...      Fare Cabin  Embarked\n",
              "0              1       0.0       3  ...    7.2500   NaN         S\n",
              "1              2       1.0       1  ...   71.2833   C85         C\n",
              "2              3       1.0       3  ...    7.9250   NaN         S\n",
              "3              4       1.0       1  ...   53.1000  C123         S\n",
              "4              5       0.0       3  ...    8.0500   NaN         S\n",
              "..           ...       ...     ...  ...       ...   ...       ...\n",
              "413         1305       NaN       3  ...    8.0500   NaN         S\n",
              "414         1306       NaN       1  ...  108.9000  C105         C\n",
              "415         1307       NaN       3  ...    7.2500   NaN         S\n",
              "416         1308       NaN       3  ...    8.0500   NaN         S\n",
              "417         1309       NaN       3  ...   22.3583   NaN         C\n",
              "\n",
              "[1309 rows x 12 columns]"
            ]
          },
          "metadata": {
            "tags": []
          },
          "execution_count": 8
        }
      ]
    },
    {
      "cell_type": "code",
      "metadata": {
        "id": "1bMnoczKOkA2",
        "colab": {
          "base_uri": "https://localhost:8080/",
          "height": 419
        },
        "outputId": "3511b315-83a0-421f-b32a-c1ea70c90fdc"
      },
      "source": [
        "df_combined=df_combined.sort_values(by='Fare',ascending=False)\r\n",
        "df_combined"
      ],
      "execution_count": 17,
      "outputs": [
        {
          "output_type": "execute_result",
          "data": {
            "text/html": [
              "<div>\n",
              "<style scoped>\n",
              "    .dataframe tbody tr th:only-of-type {\n",
              "        vertical-align: middle;\n",
              "    }\n",
              "\n",
              "    .dataframe tbody tr th {\n",
              "        vertical-align: top;\n",
              "    }\n",
              "\n",
              "    .dataframe thead th {\n",
              "        text-align: right;\n",
              "    }\n",
              "</style>\n",
              "<table border=\"1\" class=\"dataframe\">\n",
              "  <thead>\n",
              "    <tr style=\"text-align: right;\">\n",
              "      <th></th>\n",
              "      <th>PassengerId</th>\n",
              "      <th>Survived</th>\n",
              "      <th>Pclass</th>\n",
              "      <th>Name</th>\n",
              "      <th>Sex</th>\n",
              "      <th>Age</th>\n",
              "      <th>SibSp</th>\n",
              "      <th>Parch</th>\n",
              "      <th>Ticket</th>\n",
              "      <th>Fare</th>\n",
              "      <th>Cabin</th>\n",
              "      <th>Embarked</th>\n",
              "    </tr>\n",
              "  </thead>\n",
              "  <tbody>\n",
              "    <tr>\n",
              "      <th>258</th>\n",
              "      <td>259</td>\n",
              "      <td>1.0</td>\n",
              "      <td>1</td>\n",
              "      <td>Ward, Miss. Anna</td>\n",
              "      <td>female</td>\n",
              "      <td>35.0</td>\n",
              "      <td>0</td>\n",
              "      <td>0</td>\n",
              "      <td>PC 17755</td>\n",
              "      <td>512.3292</td>\n",
              "      <td>NaN</td>\n",
              "      <td>C</td>\n",
              "    </tr>\n",
              "    <tr>\n",
              "      <th>737</th>\n",
              "      <td>738</td>\n",
              "      <td>1.0</td>\n",
              "      <td>1</td>\n",
              "      <td>Lesurer, Mr. Gustave J</td>\n",
              "      <td>male</td>\n",
              "      <td>35.0</td>\n",
              "      <td>0</td>\n",
              "      <td>0</td>\n",
              "      <td>PC 17755</td>\n",
              "      <td>512.3292</td>\n",
              "      <td>B101</td>\n",
              "      <td>C</td>\n",
              "    </tr>\n",
              "    <tr>\n",
              "      <th>679</th>\n",
              "      <td>680</td>\n",
              "      <td>1.0</td>\n",
              "      <td>1</td>\n",
              "      <td>Cardeza, Mr. Thomas Drake Martinez</td>\n",
              "      <td>male</td>\n",
              "      <td>36.0</td>\n",
              "      <td>0</td>\n",
              "      <td>1</td>\n",
              "      <td>PC 17755</td>\n",
              "      <td>512.3292</td>\n",
              "      <td>B51 B53 B55</td>\n",
              "      <td>C</td>\n",
              "    </tr>\n",
              "    <tr>\n",
              "      <th>343</th>\n",
              "      <td>1235</td>\n",
              "      <td>NaN</td>\n",
              "      <td>1</td>\n",
              "      <td>Cardeza, Mrs. James Warburton Martinez (Charlo...</td>\n",
              "      <td>female</td>\n",
              "      <td>58.0</td>\n",
              "      <td>0</td>\n",
              "      <td>1</td>\n",
              "      <td>PC 17755</td>\n",
              "      <td>512.3292</td>\n",
              "      <td>B51 B53 B55</td>\n",
              "      <td>C</td>\n",
              "    </tr>\n",
              "    <tr>\n",
              "      <th>88</th>\n",
              "      <td>89</td>\n",
              "      <td>1.0</td>\n",
              "      <td>1</td>\n",
              "      <td>Fortune, Miss. Mabel Helen</td>\n",
              "      <td>female</td>\n",
              "      <td>23.0</td>\n",
              "      <td>3</td>\n",
              "      <td>2</td>\n",
              "      <td>19950</td>\n",
              "      <td>263.0000</td>\n",
              "      <td>C23 C25 C27</td>\n",
              "      <td>S</td>\n",
              "    </tr>\n",
              "    <tr>\n",
              "      <th>...</th>\n",
              "      <td>...</td>\n",
              "      <td>...</td>\n",
              "      <td>...</td>\n",
              "      <td>...</td>\n",
              "      <td>...</td>\n",
              "      <td>...</td>\n",
              "      <td>...</td>\n",
              "      <td>...</td>\n",
              "      <td>...</td>\n",
              "      <td>...</td>\n",
              "      <td>...</td>\n",
              "      <td>...</td>\n",
              "    </tr>\n",
              "    <tr>\n",
              "      <th>372</th>\n",
              "      <td>1264</td>\n",
              "      <td>NaN</td>\n",
              "      <td>1</td>\n",
              "      <td>Ismay, Mr. Joseph Bruce</td>\n",
              "      <td>male</td>\n",
              "      <td>49.0</td>\n",
              "      <td>0</td>\n",
              "      <td>0</td>\n",
              "      <td>112058</td>\n",
              "      <td>0.0000</td>\n",
              "      <td>B52 B54 B56</td>\n",
              "      <td>S</td>\n",
              "    </tr>\n",
              "    <tr>\n",
              "      <th>481</th>\n",
              "      <td>482</td>\n",
              "      <td>0.0</td>\n",
              "      <td>2</td>\n",
              "      <td>Frost, Mr. Anthony Wood \"Archie\"</td>\n",
              "      <td>male</td>\n",
              "      <td>NaN</td>\n",
              "      <td>0</td>\n",
              "      <td>0</td>\n",
              "      <td>239854</td>\n",
              "      <td>0.0000</td>\n",
              "      <td>NaN</td>\n",
              "      <td>S</td>\n",
              "    </tr>\n",
              "    <tr>\n",
              "      <th>266</th>\n",
              "      <td>1158</td>\n",
              "      <td>NaN</td>\n",
              "      <td>1</td>\n",
              "      <td>Chisholm, Mr. Roderick Robert Crispin</td>\n",
              "      <td>male</td>\n",
              "      <td>NaN</td>\n",
              "      <td>0</td>\n",
              "      <td>0</td>\n",
              "      <td>112051</td>\n",
              "      <td>0.0000</td>\n",
              "      <td>NaN</td>\n",
              "      <td>S</td>\n",
              "    </tr>\n",
              "    <tr>\n",
              "      <th>263</th>\n",
              "      <td>264</td>\n",
              "      <td>0.0</td>\n",
              "      <td>1</td>\n",
              "      <td>Harrison, Mr. William</td>\n",
              "      <td>male</td>\n",
              "      <td>40.0</td>\n",
              "      <td>0</td>\n",
              "      <td>0</td>\n",
              "      <td>112059</td>\n",
              "      <td>0.0000</td>\n",
              "      <td>B94</td>\n",
              "      <td>S</td>\n",
              "    </tr>\n",
              "    <tr>\n",
              "      <th>152</th>\n",
              "      <td>1044</td>\n",
              "      <td>NaN</td>\n",
              "      <td>3</td>\n",
              "      <td>Storey, Mr. Thomas</td>\n",
              "      <td>male</td>\n",
              "      <td>60.5</td>\n",
              "      <td>0</td>\n",
              "      <td>0</td>\n",
              "      <td>3701</td>\n",
              "      <td>NaN</td>\n",
              "      <td>NaN</td>\n",
              "      <td>S</td>\n",
              "    </tr>\n",
              "  </tbody>\n",
              "</table>\n",
              "<p>1309 rows × 12 columns</p>\n",
              "</div>"
            ],
            "text/plain": [
              "     PassengerId  Survived  Pclass  ...      Fare        Cabin  Embarked\n",
              "258          259       1.0       1  ...  512.3292          NaN         C\n",
              "737          738       1.0       1  ...  512.3292         B101         C\n",
              "679          680       1.0       1  ...  512.3292  B51 B53 B55         C\n",
              "343         1235       NaN       1  ...  512.3292  B51 B53 B55         C\n",
              "88            89       1.0       1  ...  263.0000  C23 C25 C27         S\n",
              "..           ...       ...     ...  ...       ...          ...       ...\n",
              "372         1264       NaN       1  ...    0.0000  B52 B54 B56         S\n",
              "481          482       0.0       2  ...    0.0000          NaN         S\n",
              "266         1158       NaN       1  ...    0.0000          NaN         S\n",
              "263          264       0.0       1  ...    0.0000          B94         S\n",
              "152         1044       NaN       3  ...       NaN          NaN         S\n",
              "\n",
              "[1309 rows x 12 columns]"
            ]
          },
          "metadata": {
            "tags": []
          },
          "execution_count": 17
        }
      ]
    },
    {
      "cell_type": "code",
      "metadata": {
        "colab": {
          "base_uri": "https://localhost:8080/",
          "height": 606
        },
        "id": "wZ4khj0Moeqf",
        "outputId": "bee6dea7-5dfe-4c96-c881-dd7f721ecabe"
      },
      "source": [
        "print(df_combined['Fare'].mean())\r\n",
        "print(df_combined['Fare'].std())\r\n",
        "\r\n",
        "g=sns.FacetGrid(df_combined,col='Survived')\r\n",
        "g.map(sns.distplot,'Fare',kde=False)\r\n",
        "\r\n",
        "df_combined['Fare']=df_combined['Fare'].fillna(method='ffill')\r\n",
        "print(df_combined['Fare'].mean())\r\n",
        "print(df_combined['Fare'].std())\r\n",
        "df_combined[df_combined['Fare'].isnull().values==True]\r\n",
        "\r\n",
        "#補平均數，平均數上沒有差異性，標準差接近\r\n",
        "g = sns.FacetGrid(df_combined, col='Survived')\r\n",
        "g.map(sns.distplot, 'Fare', kde=False)"
      ],
      "execution_count": 24,
      "outputs": [
        {
          "output_type": "stream",
          "text": [
            "33.2954792813457\n",
            "51.75866823917416\n"
          ],
          "name": "stdout"
        },
        {
          "output_type": "stream",
          "text": [
            "/usr/local/lib/python3.7/dist-packages/seaborn/distributions.py:2557: FutureWarning: `distplot` is a deprecated function and will be removed in a future version. Please adapt your code to use either `displot` (a figure-level function with similar flexibility) or `histplot` (an axes-level function for histograms).\n",
            "  warnings.warn(msg, FutureWarning)\n"
          ],
          "name": "stderr"
        },
        {
          "output_type": "stream",
          "text": [
            "33.27004346829654\n",
            "51.74706272942533\n"
          ],
          "name": "stdout"
        },
        {
          "output_type": "stream",
          "text": [
            "/usr/local/lib/python3.7/dist-packages/seaborn/distributions.py:2557: FutureWarning: `distplot` is a deprecated function and will be removed in a future version. Please adapt your code to use either `displot` (a figure-level function with similar flexibility) or `histplot` (an axes-level function for histograms).\n",
            "  warnings.warn(msg, FutureWarning)\n"
          ],
          "name": "stderr"
        },
        {
          "output_type": "execute_result",
          "data": {
            "text/plain": [
              "<seaborn.axisgrid.FacetGrid at 0x7f86d00e14d0>"
            ]
          },
          "metadata": {
            "tags": []
          },
          "execution_count": 24
        },
        {
          "output_type": "display_data",
          "data": {
            "image/png": "[encoded data removed]",
            "text/plain": [
              "<Figure size 432x216 with 2 Axes>"
            ]
          },
          "metadata": {
            "tags": [],
            "needs_background": "light"
          }
        },
        {
          "output_type": "display_data",
          "data": {
            "image/png": "[encoded data removed]",
            "text/plain": [
              "<Figure size 432x216 with 2 Axes>"
            ]
          },
          "metadata": {
            "tags": [],
            "needs_background": "light"
          }
        }
      ]
    },
    {
      "cell_type": "code",
      "metadata": {
        "colab": {
          "base_uri": "https://localhost:8080/",
          "height": 606
        },
        "id": "9EajSvPvpkhY",
        "outputId": "b491fe4e-1d3e-45b3-afdc-6c164408c121"
      },
      "source": [
        "df_combined=df_train.append(df_test)\r\n",
        "df_combined=df_combined.sort_values(by='Fare',ascending=False)\r\n",
        "\r\n",
        "print(df_combined['Fare'].mean())\r\n",
        "print(df_combined['Fare'].std())\r\n",
        "\r\n",
        "g=sns.FacetGrid(df_combined,col='Survived')\r\n",
        "g.map(sns.distplot,'Fare',kde=False)\r\n",
        "\r\n",
        "df_combined['Fare']=df_combined['Fare'].fillna(method='bfill')\r\n",
        "print(df_combined['Fare'].mean())\r\n",
        "print(df_combined['Fare'].std())\r\n",
        "df_combined[df_combined['Fare'].isnull().values==True]\r\n",
        "\r\n",
        "#補平均數，平均數上沒有差異性，標準差接近\r\n",
        "g = sns.FacetGrid(df_combined, col='Survived')\r\n",
        "g.map(sns.distplot, 'Fare', kde=False)"
      ],
      "execution_count": 25,
      "outputs": [
        {
          "output_type": "stream",
          "text": [
            "33.2954792813457\n",
            "51.75866823917416\n"
          ],
          "name": "stdout"
        },
        {
          "output_type": "stream",
          "text": [
            "/usr/local/lib/python3.7/dist-packages/seaborn/distributions.py:2557: FutureWarning: `distplot` is a deprecated function and will be removed in a future version. Please adapt your code to use either `displot` (a figure-level function with similar flexibility) or `histplot` (an axes-level function for histograms).\n",
            "  warnings.warn(msg, FutureWarning)\n"
          ],
          "name": "stderr"
        },
        {
          "output_type": "stream",
          "text": [
            "33.2954792813457\n",
            "51.75866823917416\n"
          ],
          "name": "stdout"
        },
        {
          "output_type": "stream",
          "text": [
            "/usr/local/lib/python3.7/dist-packages/seaborn/distributions.py:2557: FutureWarning: `distplot` is a deprecated function and will be removed in a future version. Please adapt your code to use either `displot` (a figure-level function with similar flexibility) or `histplot` (an axes-level function for histograms).\n",
            "  warnings.warn(msg, FutureWarning)\n"
          ],
          "name": "stderr"
        },
        {
          "output_type": "execute_result",
          "data": {
            "text/plain": [
              "<seaborn.axisgrid.FacetGrid at 0x7f86c6a5ced0>"
            ]
          },
          "metadata": {
            "tags": []
          },
          "execution_count": 25
        },
        {
          "output_type": "display_data",
          "data": {
            "image/png": "[encoded data removed]",
            "text/plain": [
              "<Figure size 432x216 with 2 Axes>"
            ]
          },
          "metadata": {
            "tags": [],
            "needs_background": "light"
          }
        },
        {
          "output_type": "display_data",
          "data": {
            "image/png": "[encoded data removed]",
            "text/plain": [
              "<Figure size 432x216 with 2 Axes>"
            ]
          },
          "metadata": {
            "tags": [],
            "needs_background": "light"
          }
        }
      ]
    },
    {
      "cell_type": "code",
      "metadata": {
        "colab": {
          "base_uri": "https://localhost:8080/",
          "height": 606
        },
        "id": "t7Ophon6qQ7r",
        "outputId": "78cc3527-dd7e-478f-eec4-2197244a455c"
      },
      "source": [
        "df_combined=df_train.append(df_test)\r\n",
        "df_combined=df_combined.sort_values(by='Fare',ascending=False)\r\n",
        "\r\n",
        "print(df_combined['Fare'].mean())\r\n",
        "print(df_combined['Fare'].std())\r\n",
        "\r\n",
        "g=sns.FacetGrid(df_combined,col='Survived')\r\n",
        "g.map(sns.distplot,'Fare',kde=False)\r\n",
        "\r\n",
        "df_combined['Fare']=df_combined['Fare'].fillna(df_combined['Fare'].mean())\r\n",
        "print(df_combined['Fare'].mean())\r\n",
        "print(df_combined['Fare'].std())\r\n",
        "df_combined[df_combined['Fare'].isnull().values==True]\r\n",
        "\r\n",
        "#補平均數，平均數上沒有差異性，標準差接近\r\n",
        "g = sns.FacetGrid(df_combined, col='Survived')\r\n",
        "g.map(sns.distplot, 'Fare', kde=False)"
      ],
      "execution_count": 26,
      "outputs": [
        {
          "output_type": "stream",
          "text": [
            "33.2954792813457\n",
            "51.75866823917416\n"
          ],
          "name": "stdout"
        },
        {
          "output_type": "stream",
          "text": [
            "/usr/local/lib/python3.7/dist-packages/seaborn/distributions.py:2557: FutureWarning: `distplot` is a deprecated function and will be removed in a future version. Please adapt your code to use either `displot` (a figure-level function with similar flexibility) or `histplot` (an axes-level function for histograms).\n",
            "  warnings.warn(msg, FutureWarning)\n"
          ],
          "name": "stderr"
        },
        {
          "output_type": "stream",
          "text": [
            "33.2954792813457\n",
            "51.7388790324714\n"
          ],
          "name": "stdout"
        },
        {
          "output_type": "stream",
          "text": [
            "/usr/local/lib/python3.7/dist-packages/seaborn/distributions.py:2557: FutureWarning: `distplot` is a deprecated function and will be removed in a future version. Please adapt your code to use either `displot` (a figure-level function with similar flexibility) or `histplot` (an axes-level function for histograms).\n",
            "  warnings.warn(msg, FutureWarning)\n"
          ],
          "name": "stderr"
        },
        {
          "output_type": "execute_result",
          "data": {
            "text/plain": [
              "<seaborn.axisgrid.FacetGrid at 0x7f86c6a254d0>"
            ]
          },
          "metadata": {
            "tags": []
          },
          "execution_count": 26
        },
        {
          "output_type": "display_data",
          "data": {
            "image/png": "[encoded data removed]",
            "text/plain": [
              "<Figure size 432x216 with 2 Axes>"
            ]
          },
          "metadata": {
            "tags": [],
            "needs_background": "light"
          }
        },
        {
          "output_type": "display_data",
          "data": {
            "image/png": "[encoded data removed]",
            "text/plain": [
              "<Figure size 432x216 with 2 Axes>"
            ]
          },
          "metadata": {
            "tags": [],
            "needs_background": "light"
          }
        }
      ]
    },
    {
      "cell_type": "code",
      "metadata": {
        "id": "ODELKgciqWow"
      },
      "source": [
        "# Three null values appear among 1309 samples.\r\n",
        "# Therefore, whichever fillna method we adopt would not affect the overall measurement.\r\n",
        "# In conclusion, survival rate goes down as fare goes up.  "
      ],
      "execution_count": null,
      "outputs": []
    }
  ]
}