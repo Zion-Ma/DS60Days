{
  "nbformat": 4,
  "nbformat_minor": 0,
  "metadata": {
    "colab": {
      "name": "D13_13_HW.ipynb",
      "provenance": []
    },
    "kernelspec": {
      "name": "python3",
      "display_name": "Python 3"
    }
  },
  "cells": [
    {
      "cell_type": "code",
      "metadata": {
        "colab": {
          "base_uri": "https://localhost:8080/"
        },
        "id": "8ptIC1jKNOyk",
        "outputId": "b56c1a32-139d-4c1b-88bd-0a4afd875cc4"
      },
      "source": [
        "import pandas as pd\r\n",
        "import numpy as np\r\n",
        "score_df = pd.DataFrame([[1,56,66,70], \r\n",
        "                         [2,90,45,34], \r\n",
        "                         [3,45,32,55],\r\n",
        "                         [4,70,77,89], \r\n",
        "                         [5,56,80,70], \r\n",
        "                         [6,60,54,55], \r\n",
        "                         [7,45,70,79], \r\n",
        "                         [8,34,77,76], \r\n",
        "                         [9,25,87,60], \r\n",
        "                         [10,88,40,43]],\r\n",
        "                        columns=['student_id','math_score','english_score','chinese_score'])\r\n",
        "#a\r\n",
        "print(np.mean(score_df.iloc[6][1:]))"
      ],
      "execution_count": 22,
      "outputs": [
        {
          "output_type": "stream",
          "text": [
            "64.66666666666667\n"
          ],
          "name": "stdout"
        }
      ]
    },
    {
      "cell_type": "code",
      "metadata": {
        "colab": {
          "base_uri": "https://localhost:8080/"
        },
        "id": "YLsWrLuFNoew",
        "outputId": "4001806e-8679-48d0-9e51-40984781ddc6"
      },
      "source": [
        "#b\r\n",
        "all_mean=score_df[score_df.columns[1:]].mean(axis=1)\r\n",
        "if np.mean(score_df.iloc[6][1:]) > all_mean.median():\r\n",
        "  print('student_id 6 score mean:',np.mean(score_df.iloc[6][1:]),', all student score mean: ',all_mean.median())\r\n",
        "  print()\r\n",
        "  print(\"Student_id 6's score mean is higher than half of the class\")\r\n",
        "else:\r\n",
        "  print('student_id 6 score mean:',np.mean(score_df.iloc[6][1:]),', all student score mean: ',all_mean.median())\r\n",
        "  print()\r\n",
        "  print(\"Student_id 6's score mean isn't higher than half of the class\")"
      ],
      "execution_count": 26,
      "outputs": [
        {
          "output_type": "stream",
          "text": [
            "student_id 6 score mean: 86.27397341328172 , all student score mean:  83.90996103870091\n",
            "\n",
            "Student_id 6's score mean is higher than half of the class\n"
          ],
          "name": "stdout"
        }
      ]
    },
    {
      "cell_type": "code",
      "metadata": {
        "colab": {
          "base_uri": "https://localhost:8080/"
        },
        "id": "7yAWU88SPWRx",
        "outputId": "3e6221af-6641-40fa-dd42-813c2e9b5b99"
      },
      "source": [
        "#c\r\n",
        "score_df.iloc[6][1:].apply(lambda x:(x**0.5)*10)"
      ],
      "execution_count": 17,
      "outputs": [
        {
          "output_type": "execute_result",
          "data": {
            "text/plain": [
              "math_score       67.082039\n",
              "english_score    83.666003\n",
              "chinese_score    88.881944\n",
              "Name: 6, dtype: float64"
            ]
          },
          "metadata": {
            "tags": []
          },
          "execution_count": 17
        }
      ]
    },
    {
      "cell_type": "code",
      "metadata": {
        "colab": {
          "base_uri": "https://localhost:8080/"
        },
        "id": "Wc9UlwxpR0Yl",
        "outputId": "3f5bacf3-570b-4286-bb8a-0dcc6c066be1"
      },
      "source": [
        "#d\r\n",
        "score_df=score_df[score_df.columns[1:]].apply(lambda x:(x**0.5)*10)\r\n",
        "score_df.mean()"
      ],
      "execution_count": 23,
      "outputs": [
        {
          "output_type": "execute_result",
          "data": {
            "text/plain": [
              "math_score       74.194221\n",
              "english_score    78.350301\n",
              "chinese_score    78.739928\n",
              "dtype: float64"
            ]
          },
          "metadata": {
            "tags": []
          },
          "execution_count": 23
        }
      ]
    }
  ]
}