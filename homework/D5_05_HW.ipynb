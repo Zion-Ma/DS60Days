{
  "nbformat": 4,
  "nbformat_minor": 0,
  "metadata": {
    "colab": {
      "name": "D5_05_HW.ipynb",
      "provenance": [],
      "collapsed_sections": []
    },
    "kernelspec": {
      "name": "python3",
      "display_name": "Python 3"
    }
  },
  "cells": [
    {
      "cell_type": "code",
      "metadata": {
        "colab": {
          "base_uri": "https://localhost:8080/"
        },
        "id": "L9Cvjx79vwKC",
        "outputId": "0e068550-4875-41df-c827-7f03a89a996f"
      },
      "source": [
        "import numpy as np\r\n",
        "import pandas as pd\r\n",
        "\r\n",
        "english_score = np.array([55,89,76,65,48,70])\r\n",
        "math_score = np.array([60,85,60,68,np.nan,60])\r\n",
        "chinese_score = np.array([65,90,82,72,66,77])\r\n",
        "\r\n",
        "#第一題\r\n",
        "def describe(x):\r\n",
        "  return (np.mean(x),np.amax(x),np.amin(x),np.std(x)) \r\n",
        "result=pd.DataFrame({'英文成績':describe(english_score),\r\n",
        "                     '中文成績':describe(chinese_score),'數學成績':describe(math_score)},\r\n",
        "                    index=['avg','max','min','std'])\r\n",
        "\r\n",
        "print(result)\r\n",
        "print()\r\n",
        "print('不可忽略，除非使用nan開頭的函數，但資料會失真')\r\n",
        "\r\n"
      ],
      "execution_count": 6,
      "outputs": [
        {
          "output_type": "stream",
          "text": [
            "          英文成績       中文成績  數學成績\n",
            "avg  67.166667  75.333333   NaN\n",
            "max  89.000000  90.000000   NaN\n",
            "min  48.000000  65.000000   NaN\n",
            "std  13.433995   8.825468   NaN\n",
            "\n",
            "不可忽略，除非使用nan開頭的函數，但資料會失真\n"
          ],
          "name": "stdout"
        }
      ]
    },
    {
      "cell_type": "code",
      "metadata": {
        "colab": {
          "base_uri": "https://localhost:8080/"
        },
        "id": "wNbSDitMy69P",
        "outputId": "2a1e841a-6d10-4666-ff23-d6a1793c3a6d"
      },
      "source": [
        "#第二題\r\n",
        "math_score[4]=55\r\n",
        "math_make_up=pd.DataFrame({'數學成績':describe(math_score)},index=['avg','max','min','std'])\r\n",
        "print(math_make_up)\r\n",
        "\r\n"
      ],
      "execution_count": 9,
      "outputs": [
        {
          "output_type": "stream",
          "text": [
            "          數學成績\n",
            "avg  64.666667\n",
            "max  85.000000\n",
            "min  55.000000\n",
            "std   9.860133\n"
          ],
          "name": "stdout"
        }
      ]
    },
    {
      "cell_type": "code",
      "metadata": {
        "colab": {
          "base_uri": "https://localhost:8080/"
        },
        "id": "byxxsN4i50Dt",
        "outputId": "697ec29a-b767-4e61-d37c-c3b9b01533e5"
      },
      "source": [
        "#第三題\r\n",
        "cs_es_coef=np.sum(np.corrcoef(chinese_score,english_score,rowvar=False))\r\n",
        "cs_ms_coef=np.sum(np.corrcoef(chinese_score,math_score,rowvar=False))\r\n",
        "if np.greater(cs_es_coef,cs_ms_coef)==True:\r\n",
        "  print('英文與國文的相關係數較大')\r\n"
      ],
      "execution_count": 8,
      "outputs": [
        {
          "output_type": "stream",
          "text": [
            "英文與國文的相關係數較大\n"
          ],
          "name": "stdout"
        }
      ]
    },
    {
      "cell_type": "code",
      "metadata": {
        "id": "BVF1q_056SR0"
      },
      "source": [
        ""
      ],
      "execution_count": null,
      "outputs": []
    }
  ]
}