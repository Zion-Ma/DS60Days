{
  "nbformat": 4,
  "nbformat_minor": 0,
  "metadata": {
    "colab": {
      "name": "D39_39_HW.ipynb",
      "provenance": []
    },
    "kernelspec": {
      "name": "python3",
      "display_name": "Python 3"
    }
  },
  "cells": [
    {
      "cell_type": "code",
      "metadata": {
        "colab": {
          "base_uri": "https://localhost:8080/"
        },
        "id": "SYpJA8dKzr63",
        "outputId": "348056bf-e9b1-449f-b79f-cb195390ce69"
      },
      "source": [
        "# library\r\n",
        "import matplotlib.pyplot as plt\r\n",
        "import numpy as np\r\n",
        "import pandas as pd\r\n",
        "from scipy import stats\r\n",
        "import math\r\n",
        "import statistics\r\n",
        "import seaborn as sns\r\n",
        "from IPython.display import display\r\n",
        "import sklearn\r\n",
        "print(sklearn.__version__)\r\n",
        "#如果只有 0.19 記得要更新至 最新版本\r\n",
        "%matplotlib inline"
      ],
      "execution_count": 53,
      "outputs": [
        {
          "output_type": "stream",
          "text": [
            "0.22.2.post1\n"
          ],
          "name": "stdout"
        }
      ]
    },
    {
      "cell_type": "code",
      "metadata": {
        "id": "1Y4gj3vv1A0v"
      },
      "source": [
        "df_train=pd.read_csv('/content/drive/MyDrive/titanic/train.csv')"
      ],
      "execution_count": 54,
      "outputs": []
    },
    {
      "cell_type": "code",
      "metadata": {
        "colab": {
          "base_uri": "https://localhost:8080/",
          "height": 415
        },
        "id": "PMx4vNsN5FOd",
        "outputId": "74030897-268c-4408-cfb0-72b26fd3ba54"
      },
      "source": [
        "df_train.dropna(inplace=True)\r\n",
        "data=df_train[['Age','Sex','Survived']]\r\n",
        "data"
      ],
      "execution_count": 55,
      "outputs": [
        {
          "output_type": "execute_result",
          "data": {
            "text/html": [
              "<div>\n",
              "<style scoped>\n",
              "    .dataframe tbody tr th:only-of-type {\n",
              "        vertical-align: middle;\n",
              "    }\n",
              "\n",
              "    .dataframe tbody tr th {\n",
              "        vertical-align: top;\n",
              "    }\n",
              "\n",
              "    .dataframe thead th {\n",
              "        text-align: right;\n",
              "    }\n",
              "</style>\n",
              "<table border=\"1\" class=\"dataframe\">\n",
              "  <thead>\n",
              "    <tr style=\"text-align: right;\">\n",
              "      <th></th>\n",
              "      <th>Age</th>\n",
              "      <th>Sex</th>\n",
              "      <th>Survived</th>\n",
              "    </tr>\n",
              "  </thead>\n",
              "  <tbody>\n",
              "    <tr>\n",
              "      <th>1</th>\n",
              "      <td>38.0</td>\n",
              "      <td>female</td>\n",
              "      <td>1</td>\n",
              "    </tr>\n",
              "    <tr>\n",
              "      <th>3</th>\n",
              "      <td>35.0</td>\n",
              "      <td>female</td>\n",
              "      <td>1</td>\n",
              "    </tr>\n",
              "    <tr>\n",
              "      <th>6</th>\n",
              "      <td>54.0</td>\n",
              "      <td>male</td>\n",
              "      <td>0</td>\n",
              "    </tr>\n",
              "    <tr>\n",
              "      <th>10</th>\n",
              "      <td>4.0</td>\n",
              "      <td>female</td>\n",
              "      <td>1</td>\n",
              "    </tr>\n",
              "    <tr>\n",
              "      <th>11</th>\n",
              "      <td>58.0</td>\n",
              "      <td>female</td>\n",
              "      <td>1</td>\n",
              "    </tr>\n",
              "    <tr>\n",
              "      <th>...</th>\n",
              "      <td>...</td>\n",
              "      <td>...</td>\n",
              "      <td>...</td>\n",
              "    </tr>\n",
              "    <tr>\n",
              "      <th>871</th>\n",
              "      <td>47.0</td>\n",
              "      <td>female</td>\n",
              "      <td>1</td>\n",
              "    </tr>\n",
              "    <tr>\n",
              "      <th>872</th>\n",
              "      <td>33.0</td>\n",
              "      <td>male</td>\n",
              "      <td>0</td>\n",
              "    </tr>\n",
              "    <tr>\n",
              "      <th>879</th>\n",
              "      <td>56.0</td>\n",
              "      <td>female</td>\n",
              "      <td>1</td>\n",
              "    </tr>\n",
              "    <tr>\n",
              "      <th>887</th>\n",
              "      <td>19.0</td>\n",
              "      <td>female</td>\n",
              "      <td>1</td>\n",
              "    </tr>\n",
              "    <tr>\n",
              "      <th>889</th>\n",
              "      <td>26.0</td>\n",
              "      <td>male</td>\n",
              "      <td>1</td>\n",
              "    </tr>\n",
              "  </tbody>\n",
              "</table>\n",
              "<p>183 rows × 3 columns</p>\n",
              "</div>"
            ],
            "text/plain": [
              "      Age     Sex  Survived\n",
              "1    38.0  female         1\n",
              "3    35.0  female         1\n",
              "6    54.0    male         0\n",
              "10    4.0  female         1\n",
              "11   58.0  female         1\n",
              "..    ...     ...       ...\n",
              "871  47.0  female         1\n",
              "872  33.0    male         0\n",
              "879  56.0  female         1\n",
              "887  19.0  female         1\n",
              "889  26.0    male         1\n",
              "\n",
              "[183 rows x 3 columns]"
            ]
          },
          "metadata": {
            "tags": []
          },
          "execution_count": 55
        }
      ]
    },
    {
      "cell_type": "code",
      "metadata": {
        "colab": {
          "base_uri": "https://localhost:8080/",
          "height": 306
        },
        "id": "oRC0baPF4k1h",
        "outputId": "be563667-9ede-41f5-f424-11a78cc2dd39"
      },
      "source": [
        "# Q1\r\n",
        "data['Age_above65_']=data['Age'].apply(lambda x : 'Y' if x>=65 else 'N')\r\n",
        "data.loc[data['Age_above65_']=='Y']"
      ],
      "execution_count": 56,
      "outputs": [
        {
          "output_type": "stream",
          "text": [
            "/usr/local/lib/python3.7/dist-packages/ipykernel_launcher.py:2: SettingWithCopyWarning: \n",
            "A value is trying to be set on a copy of a slice from a DataFrame.\n",
            "Try using .loc[row_indexer,col_indexer] = value instead\n",
            "\n",
            "See the caveats in the documentation: https://pandas.pydata.org/pandas-docs/stable/user_guide/indexing.html#returning-a-view-versus-a-copy\n",
            "  \n"
          ],
          "name": "stderr"
        },
        {
          "output_type": "execute_result",
          "data": {
            "text/html": [
              "<div>\n",
              "<style scoped>\n",
              "    .dataframe tbody tr th:only-of-type {\n",
              "        vertical-align: middle;\n",
              "    }\n",
              "\n",
              "    .dataframe tbody tr th {\n",
              "        vertical-align: top;\n",
              "    }\n",
              "\n",
              "    .dataframe thead th {\n",
              "        text-align: right;\n",
              "    }\n",
              "</style>\n",
              "<table border=\"1\" class=\"dataframe\">\n",
              "  <thead>\n",
              "    <tr style=\"text-align: right;\">\n",
              "      <th></th>\n",
              "      <th>Age</th>\n",
              "      <th>Sex</th>\n",
              "      <th>Survived</th>\n",
              "      <th>Age_above65_</th>\n",
              "    </tr>\n",
              "  </thead>\n",
              "  <tbody>\n",
              "    <tr>\n",
              "      <th>54</th>\n",
              "      <td>65.0</td>\n",
              "      <td>male</td>\n",
              "      <td>0</td>\n",
              "      <td>Y</td>\n",
              "    </tr>\n",
              "    <tr>\n",
              "      <th>96</th>\n",
              "      <td>71.0</td>\n",
              "      <td>male</td>\n",
              "      <td>0</td>\n",
              "      <td>Y</td>\n",
              "    </tr>\n",
              "    <tr>\n",
              "      <th>456</th>\n",
              "      <td>65.0</td>\n",
              "      <td>male</td>\n",
              "      <td>0</td>\n",
              "      <td>Y</td>\n",
              "    </tr>\n",
              "    <tr>\n",
              "      <th>630</th>\n",
              "      <td>80.0</td>\n",
              "      <td>male</td>\n",
              "      <td>1</td>\n",
              "      <td>Y</td>\n",
              "    </tr>\n",
              "    <tr>\n",
              "      <th>745</th>\n",
              "      <td>70.0</td>\n",
              "      <td>male</td>\n",
              "      <td>0</td>\n",
              "      <td>Y</td>\n",
              "    </tr>\n",
              "  </tbody>\n",
              "</table>\n",
              "</div>"
            ],
            "text/plain": [
              "      Age   Sex  Survived Age_above65_\n",
              "54   65.0  male         0            Y\n",
              "96   71.0  male         0            Y\n",
              "456  65.0  male         0            Y\n",
              "630  80.0  male         1            Y\n",
              "745  70.0  male         0            Y"
            ]
          },
          "metadata": {
            "tags": []
          },
          "execution_count": 56
        }
      ]
    },
    {
      "cell_type": "code",
      "metadata": {
        "colab": {
          "base_uri": "https://localhost:8080/",
          "height": 519
        },
        "id": "k4cioRVx49t3",
        "outputId": "a44dc684-2c6e-4106-8ce3-acddced78b3d"
      },
      "source": [
        "# Q2\r\n",
        "def age_map2(row):\r\n",
        "  if row.Sex == 'female':\r\n",
        "    return 'Y'\r\n",
        "  else :\r\n",
        "    if row.Age == 65:\r\n",
        "      return 'Y'\r\n",
        "    else:\r\n",
        "      return 'N'\r\n",
        "data['Age_above65_female']=data[['Sex','Age']].apply(age_map2,axis=1)\r\n",
        "data"
      ],
      "execution_count": 57,
      "outputs": [
        {
          "output_type": "stream",
          "text": [
            "/usr/local/lib/python3.7/dist-packages/ipykernel_launcher.py:10: SettingWithCopyWarning: \n",
            "A value is trying to be set on a copy of a slice from a DataFrame.\n",
            "Try using .loc[row_indexer,col_indexer] = value instead\n",
            "\n",
            "See the caveats in the documentation: https://pandas.pydata.org/pandas-docs/stable/user_guide/indexing.html#returning-a-view-versus-a-copy\n",
            "  # Remove the CWD from sys.path while we load stuff.\n"
          ],
          "name": "stderr"
        },
        {
          "output_type": "execute_result",
          "data": {
            "text/html": [
              "<div>\n",
              "<style scoped>\n",
              "    .dataframe tbody tr th:only-of-type {\n",
              "        vertical-align: middle;\n",
              "    }\n",
              "\n",
              "    .dataframe tbody tr th {\n",
              "        vertical-align: top;\n",
              "    }\n",
              "\n",
              "    .dataframe thead th {\n",
              "        text-align: right;\n",
              "    }\n",
              "</style>\n",
              "<table border=\"1\" class=\"dataframe\">\n",
              "  <thead>\n",
              "    <tr style=\"text-align: right;\">\n",
              "      <th></th>\n",
              "      <th>Age</th>\n",
              "      <th>Sex</th>\n",
              "      <th>Survived</th>\n",
              "      <th>Age_above65_</th>\n",
              "      <th>Age_above65_female</th>\n",
              "    </tr>\n",
              "  </thead>\n",
              "  <tbody>\n",
              "    <tr>\n",
              "      <th>1</th>\n",
              "      <td>38.0</td>\n",
              "      <td>female</td>\n",
              "      <td>1</td>\n",
              "      <td>N</td>\n",
              "      <td>Y</td>\n",
              "    </tr>\n",
              "    <tr>\n",
              "      <th>3</th>\n",
              "      <td>35.0</td>\n",
              "      <td>female</td>\n",
              "      <td>1</td>\n",
              "      <td>N</td>\n",
              "      <td>Y</td>\n",
              "    </tr>\n",
              "    <tr>\n",
              "      <th>6</th>\n",
              "      <td>54.0</td>\n",
              "      <td>male</td>\n",
              "      <td>0</td>\n",
              "      <td>N</td>\n",
              "      <td>N</td>\n",
              "    </tr>\n",
              "    <tr>\n",
              "      <th>10</th>\n",
              "      <td>4.0</td>\n",
              "      <td>female</td>\n",
              "      <td>1</td>\n",
              "      <td>N</td>\n",
              "      <td>Y</td>\n",
              "    </tr>\n",
              "    <tr>\n",
              "      <th>11</th>\n",
              "      <td>58.0</td>\n",
              "      <td>female</td>\n",
              "      <td>1</td>\n",
              "      <td>N</td>\n",
              "      <td>Y</td>\n",
              "    </tr>\n",
              "    <tr>\n",
              "      <th>...</th>\n",
              "      <td>...</td>\n",
              "      <td>...</td>\n",
              "      <td>...</td>\n",
              "      <td>...</td>\n",
              "      <td>...</td>\n",
              "    </tr>\n",
              "    <tr>\n",
              "      <th>871</th>\n",
              "      <td>47.0</td>\n",
              "      <td>female</td>\n",
              "      <td>1</td>\n",
              "      <td>N</td>\n",
              "      <td>Y</td>\n",
              "    </tr>\n",
              "    <tr>\n",
              "      <th>872</th>\n",
              "      <td>33.0</td>\n",
              "      <td>male</td>\n",
              "      <td>0</td>\n",
              "      <td>N</td>\n",
              "      <td>N</td>\n",
              "    </tr>\n",
              "    <tr>\n",
              "      <th>879</th>\n",
              "      <td>56.0</td>\n",
              "      <td>female</td>\n",
              "      <td>1</td>\n",
              "      <td>N</td>\n",
              "      <td>Y</td>\n",
              "    </tr>\n",
              "    <tr>\n",
              "      <th>887</th>\n",
              "      <td>19.0</td>\n",
              "      <td>female</td>\n",
              "      <td>1</td>\n",
              "      <td>N</td>\n",
              "      <td>Y</td>\n",
              "    </tr>\n",
              "    <tr>\n",
              "      <th>889</th>\n",
              "      <td>26.0</td>\n",
              "      <td>male</td>\n",
              "      <td>1</td>\n",
              "      <td>N</td>\n",
              "      <td>N</td>\n",
              "    </tr>\n",
              "  </tbody>\n",
              "</table>\n",
              "<p>183 rows × 5 columns</p>\n",
              "</div>"
            ],
            "text/plain": [
              "      Age     Sex  Survived Age_above65_ Age_above65_female\n",
              "1    38.0  female         1            N                  Y\n",
              "3    35.0  female         1            N                  Y\n",
              "6    54.0    male         0            N                  N\n",
              "10    4.0  female         1            N                  Y\n",
              "11   58.0  female         1            N                  Y\n",
              "..    ...     ...       ...          ...                ...\n",
              "871  47.0  female         1            N                  Y\n",
              "872  33.0    male         0            N                  N\n",
              "879  56.0  female         1            N                  Y\n",
              "887  19.0  female         1            N                  Y\n",
              "889  26.0    male         1            N                  N\n",
              "\n",
              "[183 rows x 5 columns]"
            ]
          },
          "metadata": {
            "tags": []
          },
          "execution_count": 57
        }
      ]
    },
    {
      "cell_type": "code",
      "metadata": {
        "colab": {
          "base_uri": "https://localhost:8080/",
          "height": 35
        },
        "id": "37vXiF9v52gj",
        "outputId": "28f401fb-cb49-4bbb-f720-380786cad967"
      },
      "source": [
        "# !pip install researchpy\r\n",
        "import researchpy\r\n",
        "contTable=pd.crosstab(data['Age_above65_'],data['Survived'])\r\n",
        "df=min(contTable.shape[0],contTable.shape[1])-1\r\n",
        "crosstab,res=researchpy.crosstab(data['Survived'],data['Age_above65_'],test='chi-square')\r\n",
        "\r\n",
        "def judgment_CramerV(df,V):\r\n",
        "    if df == 1:\r\n",
        "        if V < 0.10:\r\n",
        "            qual = 'negligible'\r\n",
        "        elif V < 0.30:\r\n",
        "            qual = 'small'\r\n",
        "        elif V < 0.50:\r\n",
        "            qual = 'medium'\r\n",
        "        else:\r\n",
        "            qual = 'large'\r\n",
        "    elif df == 2:\r\n",
        "        if V < 0.07:\r\n",
        "            qual = 'negligible'\r\n",
        "        elif V < 0.21:\r\n",
        "            qual = 'small'\r\n",
        "        elif V < 0.35:\r\n",
        "            qual = 'medium'\r\n",
        "        else:\r\n",
        "            qual = 'large'\r\n",
        "    elif df == 3:\r\n",
        "        if V < 0.06:\r\n",
        "            qual = 'negligible'\r\n",
        "        elif V < 0.17:\r\n",
        "            qual = 'small'\r\n",
        "        elif V < 0.29:\r\n",
        "            qual = 'medium'\r\n",
        "        else:\r\n",
        "            qual = 'large'\r\n",
        "    elif df == 4:\r\n",
        "        if V < 0.05:\r\n",
        "            qual = 'negligible'\r\n",
        "        elif V < 0.15:\r\n",
        "            qual = 'small'\r\n",
        "        elif V < 0.25:\r\n",
        "            qual = 'medium'\r\n",
        "        else:\r\n",
        "            qual = 'large'\r\n",
        "    else:\r\n",
        "        if V < 0.05:\r\n",
        "            qual = 'negligible'\r\n",
        "        elif V < 0.13:\r\n",
        "            qual = 'small'\r\n",
        "        elif V < 0.22:\r\n",
        "            qual = 'medium'\r\n",
        "        else:\r\n",
        "            qual = 'large'\r\n",
        "    return(qual)\r\n",
        "\r\n",
        "judgment_CramerV(df,res.loc[2,'results'])"
      ],
      "execution_count": 58,
      "outputs": [
        {
          "output_type": "execute_result",
          "data": {
            "application/vnd.google.colaboratory.intrinsic+json": {
              "type": "string"
            },
            "text/plain": [
              "'small'"
            ]
          },
          "metadata": {
            "tags": []
          },
          "execution_count": 58
        }
      ]
    },
    {
      "cell_type": "code",
      "metadata": {
        "colab": {
          "base_uri": "https://localhost:8080/",
          "height": 35
        },
        "id": "w3xlKv-hDW60",
        "outputId": "0a1d3c52-d48d-4e81-e2c1-4fbf4c8bf1f2"
      },
      "source": [
        "contTable=pd.crosstab(data['Age_above65_female'],data['Survived'])\r\n",
        "df=min(contTable.shape[0],contTable.shape[1])-1\r\n",
        "crosstab,res=researchpy.crosstab(data['Survived'],data['Age_above65_female'],test='chi-square')\r\n",
        "\r\n",
        "def judgment_CramerV_2(df,V):\r\n",
        "    if df == 1:\r\n",
        "        if V < 0.10:\r\n",
        "            qual = 'negligible'\r\n",
        "        elif V < 0.30:\r\n",
        "            qual = 'small'\r\n",
        "        elif V < 0.50:\r\n",
        "            qual = 'medium'\r\n",
        "        else:\r\n",
        "            qual = 'large'\r\n",
        "    elif df == 2:\r\n",
        "        if V < 0.07:\r\n",
        "            qual = 'negligible'\r\n",
        "        elif V < 0.21:\r\n",
        "            qual = 'small'\r\n",
        "        elif V < 0.35:\r\n",
        "            qual = 'medium'\r\n",
        "        else:\r\n",
        "            qual = 'large'\r\n",
        "    elif df == 3:\r\n",
        "        if V < 0.06:\r\n",
        "            qual = 'negligible'\r\n",
        "        elif V < 0.17:\r\n",
        "            qual = 'small'\r\n",
        "        elif V < 0.29:\r\n",
        "            qual = 'medium'\r\n",
        "        else:\r\n",
        "            qual = 'large'\r\n",
        "    elif df == 4:\r\n",
        "        if V < 0.05:\r\n",
        "            qual = 'negligible'\r\n",
        "        elif V < 0.15:\r\n",
        "            qual = 'small'\r\n",
        "        elif V < 0.25:\r\n",
        "            qual = 'medium'\r\n",
        "        else:\r\n",
        "            qual = 'large'\r\n",
        "    else:\r\n",
        "        if V < 0.05:\r\n",
        "            qual = 'negligible'\r\n",
        "        elif V < 0.13:\r\n",
        "            qual = 'small'\r\n",
        "        elif V < 0.22:\r\n",
        "            qual = 'medium'\r\n",
        "        else:\r\n",
        "            qual = 'large'\r\n",
        "    return(qual)\r\n",
        "\r\n",
        "judgment_CramerV_2(df,res.loc[2,'results'])"
      ],
      "execution_count": 59,
      "outputs": [
        {
          "output_type": "execute_result",
          "data": {
            "application/vnd.google.colaboratory.intrinsic+json": {
              "type": "string"
            },
            "text/plain": [
              "'large'"
            ]
          },
          "metadata": {
            "tags": []
          },
          "execution_count": 59
        }
      ]
    },
    {
      "cell_type": "code",
      "metadata": {
        "id": "EeuxsbtzGC_Y"
      },
      "source": [
        "# Q3\r\n",
        "# Age_above65_female 線性相關性較高"
      ],
      "execution_count": 60,
      "outputs": []
    }
  ]
}